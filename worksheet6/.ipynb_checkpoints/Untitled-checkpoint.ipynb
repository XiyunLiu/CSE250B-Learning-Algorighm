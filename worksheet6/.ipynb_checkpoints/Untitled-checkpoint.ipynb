{
 "cells": [
  {
   "cell_type": "code",
   "execution_count": 151,
   "metadata": {
    "collapsed": true
   },
   "outputs": [],
   "source": [
    "%matplotlib inline"
   ]
  },
  {
   "cell_type": "code",
   "execution_count": 152,
   "metadata": {
    "collapsed": true
   },
   "outputs": [],
   "source": [
    "import matplotlib.pyplot as plt"
   ]
  },
  {
   "cell_type": "code",
   "execution_count": 48,
   "metadata": {
    "collapsed": true
   },
   "outputs": [],
   "source": [
    "from random import shuffle\n",
    "import numpy as np\n",
    "import math"
   ]
  },
  {
   "cell_type": "code",
   "execution_count": 98,
   "metadata": {
    "collapsed": false
   },
   "outputs": [],
   "source": [
    "with open('data1.txt') as f:\n",
    "    rawData1 = [[int(x) for x in line.strip().split()] for line in f.readlines()]"
   ]
  },
  {
   "cell_type": "code",
   "execution_count": 77,
   "metadata": {
    "collapsed": false
   },
   "outputs": [],
   "source": [
    "shuffle(data1)"
   ]
  },
  {
   "cell_type": "code",
   "execution_count": 39,
   "metadata": {
    "collapsed": false
   },
   "outputs": [],
   "source": [
    "w = np.array([0,0,0])\n",
    "wList = [w]\n",
    "cList = []\n",
    "T = 10\n",
    "for t in range(T):\n",
    "    for i in range(0,len(data1)):\n",
    "        x = np.array(data1[i][:2]+[1])\n",
    "        y = data1[i][2]\n",
    "        if np.dot(wList[-1], x) * y <= 0: # if mislabeled\n",
    "            newW = wList[-1] + y * x\n",
    "            wList.append(newW)\n",
    "            cList.append(1)\n",
    "        else:\n",
    "            cList[-1] += 1        "
   ]
  },
  {
   "cell_type": "code",
   "execution_count": 43,
   "metadata": {
    "collapsed": false
   },
   "outputs": [],
   "source": [
    "from collections import OrderedDict\n",
    "L = 10\n",
    "wDict = OrderedDict()\n",
    "\n",
    "wDict[(0,0,0)] = 1\n",
    "T = 10\n",
    "for t in range(T):\n",
    "    for i in range(0,len(data1)):\n",
    "        x = np.array(data1[i][:2]+[1])\n",
    "        y = data1[i][2]\n",
    "        w, c = wDict.popitem()\n",
    "        wArray = np.array(w)\n",
    "        wDict[w] = c\n",
    "        if np.dot(wArray, x) * y <= 0: # if mislabeled\n",
    "            newW = w + y * x\n",
    "            if tuple(newW) not in wDict:\n",
    "                wDict[tuple(newW)] = 1\n",
    "            else:\n",
    "                wDict[tuple(newW)] += 1\n",
    "            cList.append(1)\n",
    "            if L == 0:\n",
    "                wDict.popitem(last = False)\n",
    "            else:\n",
    "                L -= 1\n",
    "        else:\n",
    "            wDict[w] += 1"
   ]
  },
  {
   "cell_type": "code",
   "execution_count": 45,
   "metadata": {
    "collapsed": true
   },
   "outputs": [],
   "source": [
    "w = np.array([0,0,0])\n",
    "c = 1\n",
    "T = 10\n",
    "aveW = 0\n",
    "for t in range(T):\n",
    "    for i in range(0,len(data1)):\n",
    "        x = np.array(data1[i][:2]+[1])\n",
    "        y = data1[i][2]\n",
    "        if np.dot(w, x) * y <= 0: # if mislabeled\n",
    "            newW = w + y * x\n",
    "            aveW += c * w\n",
    "            w = newW\n",
    "            c = 1\n",
    "        else:\n",
    "            c += 1\n",
    "aveW += c * w"
   ]
  },
  {
   "cell_type": "code",
   "execution_count": 54,
   "metadata": {
    "collapsed": false
   },
   "outputs": [
    {
     "ename": "KeyboardInterrupt",
     "evalue": "",
     "output_type": "error",
     "traceback": [
      "\u001b[0;31m---------------------------------------------------------------------------\u001b[0m",
      "\u001b[0;31mKeyboardInterrupt\u001b[0m                         Traceback (most recent call last)",
      "\u001b[0;32m<ipython-input-54-cdfbec2db60d>\u001b[0m in \u001b[0;36m<module>\u001b[0;34m()\u001b[0m\n\u001b[1;32m      8\u001b[0m         \u001b[0;32mfor\u001b[0m \u001b[0mj\u001b[0m \u001b[0;32min\u001b[0m \u001b[0mrange\u001b[0m\u001b[0;34m(\u001b[0m\u001b[0;36m0\u001b[0m\u001b[0;34m,\u001b[0m \u001b[0mlen\u001b[0m\u001b[0;34m(\u001b[0m\u001b[0mdata1\u001b[0m\u001b[0;34m)\u001b[0m\u001b[0;34m)\u001b[0m\u001b[0;34m:\u001b[0m\u001b[0;34m\u001b[0m\u001b[0m\n\u001b[1;32m      9\u001b[0m             \u001b[0;32mif\u001b[0m \u001b[0mcoeff\u001b[0m\u001b[0;34m[\u001b[0m\u001b[0mj\u001b[0m\u001b[0;34m]\u001b[0m \u001b[0;34m!=\u001b[0m \u001b[0;36m0\u001b[0m\u001b[0;34m:\u001b[0m\u001b[0;34m\u001b[0m\u001b[0m\n\u001b[0;32m---> 10\u001b[0;31m                 \u001b[0mpredict\u001b[0m \u001b[0;34m+=\u001b[0m \u001b[0mcoeff\u001b[0m\u001b[0;34m[\u001b[0m\u001b[0mj\u001b[0m\u001b[0;34m]\u001b[0m \u001b[0;34m*\u001b[0m \u001b[0mdata1\u001b[0m\u001b[0;34m[\u001b[0m\u001b[0mj\u001b[0m\u001b[0;34m]\u001b[0m\u001b[0;34m[\u001b[0m\u001b[0;36m2\u001b[0m\u001b[0;34m]\u001b[0m \u001b[0;34m*\u001b[0m \u001b[0mmath\u001b[0m\u001b[0;34m.\u001b[0m\u001b[0mpow\u001b[0m\u001b[0;34m(\u001b[0m\u001b[0;36m1\u001b[0m \u001b[0;34m+\u001b[0m \u001b[0mnp\u001b[0m\u001b[0;34m.\u001b[0m\u001b[0mdot\u001b[0m\u001b[0;34m(\u001b[0m\u001b[0mdata1\u001b[0m\u001b[0;34m[\u001b[0m\u001b[0mj\u001b[0m\u001b[0;34m]\u001b[0m\u001b[0;34m[\u001b[0m\u001b[0;34m:\u001b[0m\u001b[0;36m1\u001b[0m\u001b[0;34m]\u001b[0m\u001b[0;34m,\u001b[0m \u001b[0mdata1\u001b[0m\u001b[0;34m[\u001b[0m\u001b[0mi\u001b[0m\u001b[0;34m]\u001b[0m\u001b[0;34m[\u001b[0m\u001b[0;34m:\u001b[0m\u001b[0;36m1\u001b[0m\u001b[0;34m]\u001b[0m\u001b[0;34m)\u001b[0m\u001b[0;34m,\u001b[0m \u001b[0;36m2\u001b[0m\u001b[0;34m)\u001b[0m\u001b[0;34m\u001b[0m\u001b[0m\n\u001b[0m\u001b[1;32m     11\u001b[0m         \u001b[0;32mif\u001b[0m \u001b[0mdata1\u001b[0m\u001b[0;34m[\u001b[0m\u001b[0mi\u001b[0m\u001b[0;34m]\u001b[0m\u001b[0;34m[\u001b[0m\u001b[0;36m2\u001b[0m\u001b[0;34m]\u001b[0m \u001b[0;34m*\u001b[0m \u001b[0mpredict\u001b[0m \u001b[0;34m<=\u001b[0m \u001b[0;36m0\u001b[0m\u001b[0;34m:\u001b[0m\u001b[0;34m\u001b[0m\u001b[0m\n\u001b[1;32m     12\u001b[0m             \u001b[0mcoeff\u001b[0m\u001b[0;34m[\u001b[0m\u001b[0mi\u001b[0m\u001b[0;34m]\u001b[0m \u001b[0;34m+=\u001b[0m \u001b[0;36m1\u001b[0m\u001b[0;34m\u001b[0m\u001b[0m\n",
      "\u001b[0;31mKeyboardInterrupt\u001b[0m: "
     ]
    }
   ],
   "source": [
    "# kernel perceptron\n",
    "coeff = [0] * len(data1)\n",
    "mistake = len(data1)\n",
    "while mistake > 10:\n",
    "    mistake = 0\n",
    "    for i in range(0, len(data1)):\n",
    "        predict = 0\n",
    "        for j in range(0, len(data1)):\n",
    "            if coeff[j] != 0:\n",
    "                predict += coeff[j] * data1[j][2] * math.pow(1 + np.dot(data1[j][:1], data1[i][:1]), 2)\n",
    "        if data1[i][2] * predict <= 0:\n",
    "            coeff[i] += 1\n",
    "            mistake += 1"
   ]
  },
  {
   "cell_type": "code",
   "execution_count": 128,
   "metadata": {
    "collapsed": true
   },
   "outputs": [],
   "source": [
    "with open('data2.txt') as f:\n",
    "    data2 = [[int(x) for x in line.strip().split()] for line in f.readlines()]\n",
    "rawData2 = data2[:]\n",
    "shuffle(data2)"
   ]
  },
  {
   "cell_type": "code",
   "execution_count": 162,
   "metadata": {
    "collapsed": true
   },
   "outputs": [],
   "source": [
    "def kernelPredict(test, trainData, coeff):\n",
    "    predict = 0\n",
    "    for j in range(0, len(trainData)):\n",
    "        if coeff[j] != 0:\n",
    "            predict += coeff[j] * trainData[j][2] * math.pow(1.0 + np.dot(trainData[j][:2], test[:2]), 2) \n",
    "    return predict"
   ]
  },
  {
   "cell_type": "code",
   "execution_count": null,
   "metadata": {
    "collapsed": true
   },
   "outputs": [],
   "source": [
    "def rbfPredict(test, trainData, coeff,sigma):\n",
    "    predict = 0\n",
    "    for j in range(0, len(trainData)):\n",
    "        if coeff[j] != 0:\n",
    "            predict += coeff[j] * trainData[j][2] * math.pow(math.e, -math.pow(np.linalg.norm(np.subtract(trainData[j][:2], test[i][:2])),2)/(2*sigma*sigma))\n",
    "\n"
   ]
  },
  {
   "cell_type": "code",
   "execution_count": 166,
   "metadata": {
    "collapsed": false
   },
   "outputs": [],
   "source": [
    "# kernel perceptron\n",
    "def kernelPerceptron(trainData):\n",
    "    coeff = [0] * len(trainData)\n",
    "    mistake = len(trainData)\n",
    "    loop = 0\n",
    "    while mistake != 0:\n",
    "        mistake = 0\n",
    "        for i in range(0, len(trainData)):\n",
    "            if trainData[i][2] * kernelPredict(trainData[i], trainData, coeff) <= 0:\n",
    "                coeff[i] += 1\n",
    "                mistake += 1\n",
    "        loop += 1\n",
    "    return coeff"
   ]
  },
  {
   "cell_type": "code",
   "execution_count": null,
   "metadata": {
    "collapsed": true
   },
   "outputs": [],
   "source": [
    "# RBF perceptron\n",
    "def rbfPerceptron(trainData):\n",
    "    coeff = [0] * len(trainData)\n",
    "    mistake = len(trainData)\n",
    "    loop = 0\n",
    "    while mistake != 0:\n",
    "        mistake = 0\n",
    "        for i in range(0, len(trainData)):\n",
    "            if trainData[i][2] * kernelPredict(trainData[i], trainData, coeff) <= 0:\n",
    "                coeff[i] += 1\n",
    "                mistake += 1\n",
    "        loop += 1\n",
    "    return coeff"
   ]
  },
  {
   "cell_type": "code",
   "execution_count": 167,
   "metadata": {
    "collapsed": false
   },
   "outputs": [],
   "source": [
    "coeffData2 = kernelPerceptron(data2)"
   ]
  },
  {
   "cell_type": "code",
   "execution_count": 170,
   "metadata": {
    "collapsed": true
   },
   "outputs": [],
   "source": [
    "coeffData1 = kernelPerceptron(data1)"
   ]
  },
  {
   "cell_type": "code",
   "execution_count": 173,
   "metadata": {
    "collapsed": false
   },
   "outputs": [
    {
     "data": {
      "image/png": "[encoded data removed]",
      "text/plain": [
       "<matplotlib.figure.Figure at 0x111b1a410>"
      ]
     },
     "metadata": {},
     "output_type": "display_data"
    }
   ],
   "source": [
    "plt.figure(1)\n",
    "plt.plot(map(lambda data: data[0], rawData2[:20]+rawData2[-20:]), map(lambda data: data[1], rawData2[:20]+rawData2[-20:]), 'ro')\n",
    "plt.plot(map(lambda data: data[0], rawData2[20:-20]), map(lambda data: data[1], rawData2[20:-20]), 'g^')\n",
    "xlist = np.linspace(1, 10, 500)\n",
    "ylist = np.linspace(1, 10, 500) # rows\n",
    "X, Y = np.meshgrid(xlist, ylist)\n",
    "Z = np.zeros(X.shape)\n",
    "for i in range(0,500):\n",
    "    for j in range(0,500):\n",
    "        predict = kernelPredict([i/50.0,j/50.0],data2,coeffData2)\n",
    "        if predict > 0 :\n",
    "            Z[j][i] = 1\n",
    "        else:\n",
    "            Z[j][i] = 0\n",
    "plt.axis([1, 10, 1, 10])\n",
    "plt.contourf(X,Y,Z,cmap=plt.cm.Paired)\n",
    "plt.show()"
   ]
  },
  {
   "cell_type": "code",
   "execution_count": 172,
   "metadata": {
    "collapsed": false
   },
   "outputs": [
    {
     "data": {
      "image/png": "[encoded data removed]",
      "text/plain": [
       "<matplotlib.figure.Figure at 0x10fb73490>"
      ]
     },
     "metadata": {},
     "output_type": "display_data"
    }
   ],
   "source": [
    "plt.figure(2)\n",
    "plt.plot(map(lambda data: data[0], rawData1[:51]), map(lambda data: data[1], rawData1[:51]), 'ro')\n",
    "plt.plot(map(lambda data: data[0], rawData1[51:]), map(lambda data: data[1], rawData1[51:]), 'g^')\n",
    "xlist = np.linspace(1, 10, 500)\n",
    "ylist = np.linspace(1, 10, 500) # rows\n",
    "X, Y = np.meshgrid(xlist, ylist)\n",
    "Z = np.zeros(X.shape)\n",
    "for i in range(0,500):\n",
    "    for j in range(0,500):\n",
    "        predict = kernelPredict([i/50.0,j/50.0],data1,coeffData1)\n",
    "        if predict > 0 :\n",
    "            Z[j][i] = 1\n",
    "        else:\n",
    "            Z[j][i] = 0\n",
    "plt.axis([1, 10, 1, 10])\n",
    "plt.contourf(X,Y,Z,cmap=plt.cm.Paired)\n",
    "plt.show()"
   ]
  },
  {
   "cell_type": "code",
   "execution_count": 80,
   "metadata": {
    "collapsed": false
   },
   "outputs": [],
   "source": [
    "# RBF kernel\n",
    "sigma = 50\n",
    "coeff = [0] * len(data2)\n",
    "mistake = len(data2)\n",
    "loop = 0\n",
    "while mistake > 0:\n",
    "    loop += 1\n",
    "    mistake = 0\n",
    "    for i in range(0, len(data2)):\n",
    "        predict = 0\n",
    "        for j in range(0, len(data2)):\n",
    "            if coeff[j] != 0:\n",
    "                predict += coeff[j] * data2[j][2] * math.pow(math.e, -math.pow(np.linalg.norm(np.subtract(data2[j][:1], data2[i][:1])),2)/(2*sigma*sigma))\n",
    "        if data2[i][2] * predict <= 0:\n",
    "            coeff[i] += 1\n",
    "            mistake += 1"
   ]
  },
  {
   "cell_type": "code",
   "execution_count": 79,
   "metadata": {
    "collapsed": false
   },
   "outputs": [
    {
     "ename": "KeyboardInterrupt",
     "evalue": "",
     "output_type": "error",
     "traceback": [
      "\u001b[0;31m---------------------------------------------------------------------------\u001b[0m",
      "\u001b[0;31mKeyboardInterrupt\u001b[0m                         Traceback (most recent call last)",
      "\u001b[0;32m<ipython-input-79-f202502bc0ae>\u001b[0m in \u001b[0;36m<module>\u001b[0;34m()\u001b[0m\n\u001b[1;32m     11\u001b[0m         \u001b[0;32mfor\u001b[0m \u001b[0mj\u001b[0m \u001b[0;32min\u001b[0m \u001b[0mrange\u001b[0m\u001b[0;34m(\u001b[0m\u001b[0;36m0\u001b[0m\u001b[0;34m,\u001b[0m \u001b[0mlen\u001b[0m\u001b[0;34m(\u001b[0m\u001b[0mdata1\u001b[0m\u001b[0;34m)\u001b[0m\u001b[0;34m)\u001b[0m\u001b[0;34m:\u001b[0m\u001b[0;34m\u001b[0m\u001b[0m\n\u001b[1;32m     12\u001b[0m             \u001b[0;32mif\u001b[0m \u001b[0mcoeff\u001b[0m\u001b[0;34m[\u001b[0m\u001b[0mj\u001b[0m\u001b[0;34m]\u001b[0m \u001b[0;34m!=\u001b[0m \u001b[0;36m0\u001b[0m\u001b[0;34m:\u001b[0m\u001b[0;34m\u001b[0m\u001b[0m\n\u001b[0;32m---> 13\u001b[0;31m                 \u001b[0mpredict\u001b[0m \u001b[0;34m+=\u001b[0m \u001b[0mcoeff\u001b[0m\u001b[0;34m[\u001b[0m\u001b[0mj\u001b[0m\u001b[0;34m]\u001b[0m \u001b[0;34m*\u001b[0m \u001b[0mdata1\u001b[0m\u001b[0;34m[\u001b[0m\u001b[0mj\u001b[0m\u001b[0;34m]\u001b[0m\u001b[0;34m[\u001b[0m\u001b[0;36m2\u001b[0m\u001b[0;34m]\u001b[0m \u001b[0;34m*\u001b[0m \u001b[0mmath\u001b[0m\u001b[0;34m.\u001b[0m\u001b[0mpow\u001b[0m\u001b[0;34m(\u001b[0m\u001b[0mmath\u001b[0m\u001b[0;34m.\u001b[0m\u001b[0me\u001b[0m\u001b[0;34m,\u001b[0m \u001b[0;34m-\u001b[0m\u001b[0mmath\u001b[0m\u001b[0;34m.\u001b[0m\u001b[0mpow\u001b[0m\u001b[0;34m(\u001b[0m\u001b[0mnp\u001b[0m\u001b[0;34m.\u001b[0m\u001b[0mlinalg\u001b[0m\u001b[0;34m.\u001b[0m\u001b[0mnorm\u001b[0m\u001b[0;34m(\u001b[0m\u001b[0mnp\u001b[0m\u001b[0;34m.\u001b[0m\u001b[0msubtract\u001b[0m\u001b[0;34m(\u001b[0m\u001b[0mdata1\u001b[0m\u001b[0;34m[\u001b[0m\u001b[0mj\u001b[0m\u001b[0;34m]\u001b[0m\u001b[0;34m[\u001b[0m\u001b[0;34m:\u001b[0m\u001b[0;36m1\u001b[0m\u001b[0;34m]\u001b[0m\u001b[0;34m,\u001b[0m \u001b[0mdata1\u001b[0m\u001b[0;34m[\u001b[0m\u001b[0mi\u001b[0m\u001b[0;34m]\u001b[0m\u001b[0;34m[\u001b[0m\u001b[0;34m:\u001b[0m\u001b[0;36m1\u001b[0m\u001b[0;34m]\u001b[0m\u001b[0;34m)\u001b[0m\u001b[0;34m)\u001b[0m\u001b[0;34m,\u001b[0m\u001b[0;36m2\u001b[0m\u001b[0;34m)\u001b[0m\u001b[0;34m/\u001b[0m\u001b[0;34m(\u001b[0m\u001b[0;36m2\u001b[0m\u001b[0;34m*\u001b[0m\u001b[0msigma\u001b[0m\u001b[0;34m*\u001b[0m\u001b[0msigma\u001b[0m\u001b[0;34m)\u001b[0m\u001b[0;34m)\u001b[0m\u001b[0;34m\u001b[0m\u001b[0m\n\u001b[0m\u001b[1;32m     14\u001b[0m         \u001b[0;32mif\u001b[0m \u001b[0mdata1\u001b[0m\u001b[0;34m[\u001b[0m\u001b[0mi\u001b[0m\u001b[0;34m]\u001b[0m\u001b[0;34m[\u001b[0m\u001b[0;36m2\u001b[0m\u001b[0;34m]\u001b[0m \u001b[0;34m*\u001b[0m \u001b[0mpredict\u001b[0m \u001b[0;34m<=\u001b[0m \u001b[0;36m0\u001b[0m\u001b[0;34m:\u001b[0m\u001b[0;34m\u001b[0m\u001b[0m\n\u001b[1;32m     15\u001b[0m             \u001b[0mcoeff\u001b[0m\u001b[0;34m[\u001b[0m\u001b[0mi\u001b[0m\u001b[0;34m]\u001b[0m \u001b[0;34m+=\u001b[0m \u001b[0;36m1\u001b[0m\u001b[0;34m\u001b[0m\u001b[0m\n",
      "\u001b[0;32m/Library/Frameworks/Python.framework/Versions/2.7/lib/python2.7/site-packages/numpy-1.10.4-py2.7-macosx-10.6-intel.egg/numpy/linalg/linalg.pyc\u001b[0m in \u001b[0;36mnorm\u001b[0;34m(x, ord, axis, keepdims)\u001b[0m\n\u001b[1;32m   2125\u001b[0m             \u001b[0;32melse\u001b[0m\u001b[0;34m:\u001b[0m\u001b[0;34m\u001b[0m\u001b[0m\n\u001b[1;32m   2126\u001b[0m                 \u001b[0msqnorm\u001b[0m \u001b[0;34m=\u001b[0m \u001b[0mdot\u001b[0m\u001b[0;34m(\u001b[0m\u001b[0mx\u001b[0m\u001b[0;34m,\u001b[0m \u001b[0mx\u001b[0m\u001b[0;34m)\u001b[0m\u001b[0;34m\u001b[0m\u001b[0m\n\u001b[0;32m-> 2127\u001b[0;31m             \u001b[0mret\u001b[0m \u001b[0;34m=\u001b[0m \u001b[0msqrt\u001b[0m\u001b[0;34m(\u001b[0m\u001b[0msqnorm\u001b[0m\u001b[0;34m)\u001b[0m\u001b[0;34m\u001b[0m\u001b[0m\n\u001b[0m\u001b[1;32m   2128\u001b[0m             \u001b[0;32mif\u001b[0m \u001b[0mkeepdims\u001b[0m\u001b[0;34m:\u001b[0m\u001b[0;34m\u001b[0m\u001b[0m\n\u001b[1;32m   2129\u001b[0m                 \u001b[0mret\u001b[0m \u001b[0;34m=\u001b[0m \u001b[0mret\u001b[0m\u001b[0;34m.\u001b[0m\u001b[0mreshape\u001b[0m\u001b[0;34m(\u001b[0m\u001b[0mndim\u001b[0m\u001b[0;34m*\u001b[0m\u001b[0;34m[\u001b[0m\u001b[0;36m1\u001b[0m\u001b[0;34m]\u001b[0m\u001b[0;34m)\u001b[0m\u001b[0;34m\u001b[0m\u001b[0m\n",
      "\u001b[0;31mKeyboardInterrupt\u001b[0m: "
     ]
    }
   ],
   "source": [
    "# RBF kernel\n",
    "sigma = 50\n",
    "coeff = [0] * len(data1)\n",
    "mistake = len(data1)\n",
    "loop = 0\n",
    "while mistake > 0:\n",
    "    loop += 1\n",
    "    mistake = 0\n",
    "    for i in range(0, len(data1)):\n",
    "        predict = 0\n",
    "        for j in range(0, len(data1)):\n",
    "            if coeff[j] != 0:\n",
    "                predict += coeff[j] * data1[j][2] * math.pow(math.e, -math.pow(np.linalg.norm(np.subtract(data1[j][:1], data1[i][:1])),2)/(2*sigma*sigma))\n",
    "        if data1[i][2] * predict <= 0:\n",
    "            coeff[i] += 1\n",
    "            mistake += 1"
   ]
  },
  {
   "cell_type": "code",
   "execution_count": 112,
   "metadata": {
    "collapsed": false
   },
   "outputs": [],
   "source": [
    "#!/usr/bin/env python\n",
    "\"\"\"\n",
    "Illustrate simple contour plotting, contours on an image with\n",
    "a colorbar for the contours, and labelled contours.\n",
    "\n",
    "See also contour_image.py.\n",
    "\"\"\"\n",
    "import matplotlib\n",
    "import numpy as np\n",
    "import matplotlib.cm as cm\n",
    "import matplotlib.mlab as mlab\n",
    "import matplotlib.pyplot as plt\n",
    "\n",
    "matplotlib.rcParams['xtick.direction'] = 'out'\n",
    "matplotlib.rcParams['ytick.direction'] = 'out'\n",
    "\n",
    "delta = 0.025\n",
    "x = np.arange(-3.0, 3.0, delta)\n",
    "y = np.arange(-2.0, 2.0, delta)\n",
    "X, Y = np.meshgrid(x, y)\n",
    "Z1 = mlab.bivariate_normal(X, Y, 1.0, 1.0, 0.0, 0.0)\n",
    "Z2 = mlab.bivariate_normal(X, Y, 1.5, 0.5, 1, 1)\n",
    "# difference of Gaussians\n",
    "Z = 10.0 * (Z2 - Z1)\n",
    "\n",
    "\n",
    "# Create a simple contour plot with labels using default colors.  The\n",
    "# inline argument to clabel will control whether the labels are draw\n",
    "# over the line segments of the contour, removing the lines beneath\n",
    "# the label\n",
    "plt.figure()\n",
    "CS = plt.contour(X, Y, Z)\n",
    "plt.clabel(CS, inline=1, fontsize=10)\n",
    "plt.title('Simplest default with labels')\n",
    "plt.show()\n"
   ]
  },
  {
   "cell_type": "code",
   "execution_count": 111,
   "metadata": {
    "collapsed": false
   },
   "outputs": [
    {
     "data": {
      "text/plain": [
       "1.0"
      ]
     },
     "execution_count": 111,
     "metadata": {},
     "output_type": "execute_result"
    }
   ],
   "source": [
    "np.linalg.norm(np.array([0, 3])-np.array([1, 3]))"
   ]
  },
  {
   "cell_type": "code",
   "execution_count": null,
   "metadata": {
    "collapsed": true
   },
   "outputs": [],
   "source": []
  }
 ],
 "metadata": {
  "kernelspec": {
   "display_name": "Python 2",
   "language": "python",
   "name": "python2"
  },
  "language_info": {
   "codemirror_mode": {
    "name": "ipython",
    "version": 2
   },
   "file_extension": ".py",
   "mimetype": "text/x-python",
   "name": "python",
   "nbconvert_exporter": "python",
   "pygments_lexer": "ipython2",
   "version": "2.7.10"
  }
 },
 "nbformat": 4,
 "nbformat_minor": 0
}
