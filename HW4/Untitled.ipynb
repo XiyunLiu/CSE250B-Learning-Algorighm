{
 "cells": [
  {
   "cell_type": "code",
   "execution_count": 1,
   "metadata": {
    "collapsed": true
   },
   "outputs": [],
   "source": [
    "# -*- coding: encoding -*- "
   ]
  },
  {
   "cell_type": "code",
   "execution_count": 169,
   "metadata": {
    "collapsed": false
   },
   "outputs": [],
   "source": [
    "from nltk.corpus import brown\n",
    "import numpy as np\n",
    "from collections import defaultdict, OrderedDict\n",
    "from nltk.corpus import stopwords\n",
    "import string\n",
    "from sklearn.cluster import KMeans\n",
    "from nltk.cluster import cosine_distance, GAAClusterer, KMeansClusterer, euclidean_distance\n",
    "import sys"
   ]
  },
  {
   "cell_type": "code",
   "execution_count": 80,
   "metadata": {
    "collapsed": false
   },
   "outputs": [],
   "source": [
    "texts = map(lambda word: word.encode(\"utf-8\").lower(), brown.words())\n",
    "# Remove stop words, punctuation and sth doesnt contains any digits and letters like \"--\"\n",
    "# Leave the digits\n",
    "words = filter(lambda word: any(c.isalnum() for c in word) and word not in set(stopwords.words('english')+list(string.punctuation)), texts)\n",
    "\n",
    "wordCount = defaultdict(int)\n",
    "for word in words:\n",
    "    wordCount[word] += 1    \n",
    "wordCount = OrderedDict(sorted(wordCount.items(), key=lambda t: t[1], reverse = True))"
   ]
  },
  {
   "cell_type": "code",
   "execution_count": 82,
   "metadata": {
    "collapsed": true
   },
   "outputs": [],
   "source": [
    "numW = 5000\n",
    "numC = 1000"
   ]
  },
  {
   "cell_type": "code",
   "execution_count": 86,
   "metadata": {
    "collapsed": true
   },
   "outputs": [],
   "source": [
    "w_words = wordCount.keys()[:numW]\n",
    "c_words = wordCount.keys()[:numC]\n",
    "w_wordToIdx = {}\n",
    "c_wordToIdx = {}\n",
    "for i in xrange(0, numW):\n",
    "    w_wordToIdx[w_words[i]] = i\n",
    "for i in xrange(0, numC):\n",
    "    c_wordToIdx[c_words[i]] = i"
   ]
  },
  {
   "cell_type": "code",
   "execution_count": 87,
   "metadata": {
    "collapsed": false
   },
   "outputs": [],
   "source": [
    "pr_c_count = np.zeros(numC)\n",
    "pr_cw_count = np.zeros((numW,numC))"
   ]
  },
  {
   "cell_type": "code",
   "execution_count": 91,
   "metadata": {
    "collapsed": true
   },
   "outputs": [],
   "source": [
    "wordsLength = len(words)"
   ]
  },
  {
   "cell_type": "code",
   "execution_count": 94,
   "metadata": {
    "collapsed": false
   },
   "outputs": [],
   "source": [
    "for i in xrange(0, wordsLength):\n",
    "    w = words[i]\n",
    "    if w not in w_wordToIdx:\n",
    "        continue\n",
    "    if i > 0 and words[i-1] in c_wordToIdx:\n",
    "        pr_cw_count[w_wordToIdx[w]][c_wordToIdx[words[i-1]]] += 1\n",
    "    if i > 1 and words[i-2] in c_wordToIdx:\n",
    "        pr_cw_count[w_wordToIdx[w]][c_wordToIdx[words[i-2]]] += 1\n",
    "    if i < wordsLength - 1 and words[i+1] in c_wordToIdx:\n",
    "        pr_cw_count[w_wordToIdx[w]][c_wordToIdx[words[i+1]]] += 1\n",
    "    if i < wordsLength - 2 and words[i+2] in c_wordToIdx:\n",
    "        pr_cw_count[w_wordToIdx[w]][c_wordToIdx[words[i+2]]] += 1    "
   ]
  },
  {
   "cell_type": "code",
   "execution_count": 95,
   "metadata": {
    "collapsed": false
   },
   "outputs": [],
   "source": [
    "pr_cw = pr_cw_count/pr_cw_count.sum(axis = 1)[:, None]\n",
    "pr_cw[np.isnan(pr_cw)] = 0 # in case of no c in any window of w"
   ]
  },
  {
   "cell_type": "code",
   "execution_count": 179,
   "metadata": {
    "collapsed": false
   },
   "outputs": [],
   "source": [
    "# for i in xrange(0, numC):\n",
    "#     pr_c_count[i] = wordCount[c_words[i]]\n",
    "# # pr_c = pr_c_count/np.sum(pr_c_count)\n",
    "# pr_c = pr_c_count/len(words)\n",
    "pr_c = pr_cw_count.sum(axis = 0)[:, None]/pr_cw_count.sum(axis = 0)[:, None].sum()"
   ]
  },
  {
   "cell_type": "code",
   "execution_count": 181,
   "metadata": {
    "collapsed": false
   },
   "outputs": [
    {
     "name": "stderr",
     "output_type": "stream",
     "text": [
      "/Library/Python/2.7/site-packages/ipykernel/__main__.py:1: RuntimeWarning: divide by zero encountered in log\n",
      "  if __name__ == '__main__':\n"
     ]
    }
   ],
   "source": [
    "representation = np.maximum(np.zeros(pr_cw.shape), np.log(pr_cw/pr_c.T))"
   ]
  },
  {
   "cell_type": "code",
   "execution_count": 182,
   "metadata": {
    "collapsed": false
   },
   "outputs": [
    {
     "name": "stdout",
     "output_type": "stream",
     "text": [
      "True\n",
      "False\n"
     ]
    }
   ],
   "source": [
    "print np.all(np.isfinite(representation))\n",
    "print np.any(np.isnan(representation))"
   ]
  },
  {
   "cell_type": "code",
   "execution_count": 183,
   "metadata": {
    "collapsed": false
   },
   "outputs": [],
   "source": [
    "# Down to 100 dimensinal representation\n",
    "pca = PCA(n_components = 100)\n",
    "pca.fit(representation)\n",
    "reducedRepresentation = pca.transform(representation)"
   ]
  },
  {
   "cell_type": "code",
   "execution_count": 184,
   "metadata": {
    "collapsed": false
   },
   "outputs": [
    {
     "data": {
      "text/plain": [
       "(5000, 100)"
      ]
     },
     "execution_count": 184,
     "metadata": {},
     "output_type": "execute_result"
    }
   ],
   "source": [
    "reducedRepresentation.shape"
   ]
  },
  {
   "cell_type": "code",
   "execution_count": 199,
   "metadata": {
    "collapsed": true
   },
   "outputs": [],
   "source": [
    "def findNearestNeighbor(wordVector, vocabularyVector, k, distance = 'cosine'):\n",
    "    minIdx = -1\n",
    "    minDistance = sys.maxint\n",
    "    distanceDict = {}\n",
    "    for i in range(0, len(vocabularyVector)):\n",
    "        if distance == 'cosine':\n",
    "            wordDistance = cosine_distance(wordVector, vocabularyVector[i])\n",
    "        elif distance == 'euclidean':\n",
    "            wordDistance = util.euclidean_distance(wordVector, vocabularyVector[i])\n",
    "        else:\n",
    "            print \"error\"\n",
    "        distanceDict[i] = wordDistance\n",
    "\n",
    "    orderedDistanceDict = OrderedDict(sorted(distanceDict.items(), key=lambda t: t[1], reverse = False))    \n",
    "    return orderedDistanceDict.keys()[:k]"
   ]
  },
  {
   "cell_type": "code",
   "execution_count": 197,
   "metadata": {
    "collapsed": false
   },
   "outputs": [
    {
     "name": "stdout",
     "output_type": "stream",
     "text": [
      "['communism', 'phrase', 'utopian', 'immediate', 'china', 'occupation']\n",
      "['autumn', 'storm', 'winter', 'summer', 'wines', 'candidates']\n",
      "['cigarette', 'shut', 'lighted', 'peered', 'nodded', 'seated']\n",
      "['pulmonary', 'artery', 'bronchial', 'saline', 'lungs', 'distributed']\n",
      "['mankind', 'struggle', 'life', 'death', 'belief', 'history']\n",
      "['africa', 'asia', 'western', 'europe', 'america', 'germany']\n",
      "['chicago', 'club', 'board', 'top', 'boston', 'press']\n",
      "['revolution', 'perhaps', 'lo', 'guns', 'known', 'hope']\n",
      "['september', 'june', 'december', 'july', '1960', 'april']\n",
      "['chemical', 'feed', 'thermal', 'similar', 'results', 'concept']\n",
      "['detergent', 'fabrics', 'grains', 'saline', 'butter', 'indirect']\n",
      "['dictionary', 'text', 'occurrence', 'index', 'symbolic', 'stored']\n",
      "['storm', 'autumn', 'reminded', 'wedding', 'eighteenth', 'clock']\n",
      "['worship', 'shared', 'conscience', 'beliefs', 'life', 'religion']\n",
      "['face', 'eyes', 'looked', 'hair', 'turned', 'suddenly']\n",
      "['president', 'kennedy', 'chairman', 'conference', 'director', 'w.']\n",
      "['education', 'national', 'public', 'program', 'schools', 'medical']\n",
      "['million', 'billion', 'approximately', 'dollars', 'hundred', 'year']\n",
      "['face', 'eyes', 'looked', 'hair', 'turned', 'suddenly']\n",
      "['college', 'university', 'school', 'students', 'brooklyn', 'student']\n",
      "['poet', 'still', 'hand', 'head', 'carl', 'sleeping']\n",
      "['commission', 'education', 'federal', 'state', 'agencies', 'committee']\n",
      "['sunday', 'monday', 'friday', 'night', 'tuesday', 'saturday']\n",
      "['children', 'women', 'parents', 'family', 'child', 'girls']\n",
      "['business', 'industry', 'local', 'private', 'public', 'sales']\n"
     ]
    }
   ],
   "source": [
    "testWords = ['communism', 'autumn', 'cigarette', 'pulmonary', 'mankind', 'africa', 'chicago', 'revolution', \\\n",
    "             'september', 'chemical', 'detergent', 'dictionary', 'storm', 'worship', 'face', 'president', \\\n",
    "             'education', 'million', 'face', 'college', 'poet', 'commission', 'sunday', 'children', 'business']\n",
    "for word in testWords:\n",
    "    print map(lambda idx: w_words[idx], findNearestNeighbor(reducedRepresentation[w_wordToIdx[word]], reducedRepresentation, 6))"
   ]
  },
  {
   "cell_type": "code",
   "execution_count": 200,
   "metadata": {
    "collapsed": false
   },
   "outputs": [
    {
     "name": "stdout",
     "output_type": "stream",
     "text": [
      "['communism', 'utopian', 'phrase', 'world', 'war', 'far']\n",
      "['autumn', 'storm', 'one', 'first', 'orleans', 'last']\n",
      "['cigarette', 'shut', 'cathy', 'hurried', 'time', 'still']\n",
      "['pulmonary', 'artery', 'bronchial', 'reactivity', 'saline', 'lungs']\n",
      "['mankind', 'life', 'world', 'one', 'must', 'great']\n",
      "['africa', 'asia', 'europe', 'world', 'america', 'western']\n",
      "['chicago', 'club', 'place', 'top', 'work', 'brought']\n",
      "['revolution', 'perhaps', 'known', 'even', 'must', 'much']\n",
      "['september', 'june', 'first', 'december', 'last', 'november']\n",
      "['chemical', 'also', 'similar', 'example', 'may', 'given']\n",
      "['detergent', 'fabrics', 'dishes', 'butter', 'one', 'saline']\n",
      "['dictionary', 'text', 'occurrence', 'entry', 'symbolic', 'index']\n",
      "['storm', 'one', 'time', 'eighteenth', 'place', 'clock']\n",
      "['worship', 'life', 'acts', 'church', 'shared', 'humanity']\n",
      "['face', 'eyes', 'looked', 'look', 'turned', 'saw']\n",
      "['president', 'kennedy', 'mr.', 'washington', 'new', 'vice']\n",
      "['education', 'public', 'national', 'schools', 'program', 'local']\n",
      "['million', 'billion', 'dollars', 'year', 'hundred', 'years']\n",
      "['face', 'eyes', 'looked', 'look', 'turned', 'saw']\n",
      "['college', 'school', 'university', 'students', 'brooklyn', 'student']\n",
      "['poet', 'still', 'hand', 'man', 'long', 'look']\n",
      "['commission', 'state', 'public', 'education', 'federal', 'congress']\n",
      "['sunday', 'night', 'day', 'friday', 'evening', 'home']\n",
      "['children', 'people', 'women', 'family', 'men', 'child']\n",
      "['business', 'new', 'well', 'private', 'work', 'public']\n"
     ]
    }
   ],
   "source": [
    "for word in testWords:\n",
    "    print map(lambda idx: w_words[idx], findNearestNeighbor(reducedRepresentation[w_wordToIdx[word]], reducedRepresentation, 6, distance = 'euclidean'))"
   ]
  },
  {
   "cell_type": "code",
   "execution_count": 100,
   "metadata": {
    "collapsed": true
   },
   "outputs": [],
   "source": [
    "# Clustering using kmeans - endu distance\n",
    "kmeans = KMeans(n_clusters = 100, random_state = 0)\n",
    "kmeans.fit(reducedRepresentation)\n",
    "\n",
    "labels = kmeans.labels_\n",
    "cluster = [[] for _ in xrange(0,100)]\n",
    "for i in xrange(0,numW):\n",
    "    cluster[int(labels[i])-1].append(w_words[i])   "
   ]
  },
  {
   "cell_type": "code",
   "execution_count": 167,
   "metadata": {
    "collapsed": false
   },
   "outputs": [],
   "source": [
    "gaacCluster =  GAAClusterer(num_clusters = 100)\n",
    "gaacCluster.cluster(reducedRepresentation)\n",
    "\n",
    "clusterGaac = [[] for i in xrange(0,100)]\n",
    "for word in w_words:\n",
    "    label = int(gaacCluster.classify(reducedRepresentation[w_wordToIdx[word]]))\n",
    "    cluster[label].append(word)"
   ]
  },
  {
   "cell_type": "code",
   "execution_count": 201,
   "metadata": {
    "collapsed": true
   },
   "outputs": [],
   "source": [
    "kmeansCluster = KMeansClusterer(100, cosine_distance)\n",
    "kmeansCluster.cluster(reducedRepresentation)"
   ]
  },
  {
   "cell_type": "code",
   "execution_count": 202,
   "metadata": {
    "collapsed": false
   },
   "outputs": [],
   "source": [
    "clusterKmeans = defaultdict(list)\n",
    "for word in w_words:\n",
    "    label = int(kmeansCluster.classify(reducedRepresentation[w_wordToIdx[word]]))\n",
    "    clusterKmeans[label].append(word)"
   ]
  },
  {
   "cell_type": "code",
   "execution_count": 206,
   "metadata": {
    "collapsed": false
   },
   "outputs": [
    {
     "name": "stdout",
     "output_type": "stream",
     "text": [
      "0 ['opera', 'offers', 'enjoy', 'lots', 'skill', 'afford', 'discover', 'forever', 'intention', 'desirable', 'prepare', 'inevitable', 'healthy', 'presents', 'successfully', 'dancers', 'era', 'dates', 'exciting', 'lesson', 'argued', 'calendar', 'colony', 'absolutely', 'festival', 'suspicion', 'preferred', 'terror', 'wishes', 'habit', 'adults', 'bases', 'motive', 'fortunate', 'associate', 'flash', 'anticipation', 'orderly', 'pioneer', 'attain', 'startling', \"people's\"]\n",
      "\n",
      "1 ['new', 'city', 'york', 'town', 'park', 'houses', 'located', 'homes', 'streets', 'plants', 'railroad', 'dallas', 'fort', 'centers', 'los', 'welcome', 'fill', 'avenue', 'georgia', 'pennsylvania', 'manchester', 'tour', 'downtown', 'orleans', 'focus', 'newspapers', 'occupied', 'metropolitan', 'factory', 'parking', 'suburban', 'freight', 'yankees', 'libraries', 'greenwich', 'shopping', 'landing', 'invited', 'tennessee', 'historic', 'orange', 'civic', 'miami', 'bid', 'drinks', 'springs', \"city's\", 'monument', 'warwick', 'hotels', 'chapel']\n",
      "\n",
      "2 ['may', 'less', 'given', 'interest', 'result', 'force', 'necessary', 'value', 'greater', 'required', 'material', 'considered', 'difference', 'size', 'record', 'treatment', 'determined', 'quality', 'extent', 'lack', 'stress', 'current', 'considerable', 'changed', 'weight', 'equal', 'produced', 'add', 'loss', 'significant', 'takes', 'remains', 'capacity', 'produce', 'maximum', 'reduced', 'atmosphere', 'increasing', 'ordinary', 'largely', 'minimum', 'impact', 'relation', 'sufficient', 'extreme', 'ideal', 'apparent', 'represented', 'foods', 'depends', 'depend', 'improve']\n",
      "\n",
      "3 ['list', 'actual', 'index', 'cells', 'address', 'cell', 'contact', 'contained', 'text', 'neighborhood', 'dictionary', 'publication', 'assigned', 'prove', 'characteristics', 'gradually', 'ages', 'chain', 'employed', 'recorded', 'varying', 'indicates', 'n', 'stored', 'conclusions', 'symbolic', 'attempted', 'precise', 'identical', 'occurrence', 'dreams', 'shapes', 'compare', 'exact', 'permits', 'reserved', 'clinical', 'entry', 'accomplish', 'relevant', 'physiological', 'ambiguous', 'retained', 'pertinent', 'numerical', 'entries']\n",
      "\n",
      "4 ['day', 'home', 'week', 'morning', 'st.', 'hour', 'club', 'evening', 'returned', 'sunday', 'dinner', 'died', 'post', 'san', 'monday', 'saturday', 'newspaper', 'tomorrow', 'p.m.', 'guests', 'arrived', 'beach', 'boston', 'friday', 'tuesday', 'theater', 'philadelphia', 'calling', 'suffered', \"o'clock\", 'restaurant', 'a.m.', 'reception', 'scheduled', 'supper', 'wednesday', 'atlanta', 'thursday', 'funeral', 'wedding', 'weekend', 'noon', 'cocktail', 'announcement', 'workshop', 'arrive', 'luncheon', '29', 'vernon', 'wagner']\n",
      "\n",
      "5 ['made', 'corporation', 'title', 'claims', 'commerce', 'interpretation', 'payment', 'request', 'payments', 'provision', 'mail', 'award', 'amounts', 'sale', 'remaining', 'treasury', 'approved', 'provisions', 'allotment', 'joint', 'specifically', 'authorized', 'fish', 'dispute', 'filed', 'partner', 'loans', 'ruled', 'fees', 'regulations', 'jurisdiction', 'guilty', 'profit', 'reorganization', 'injury', 'pursuant', 'exceptions', 'lands', 'observe', 'recommendation', 'puerto', 'draft', 'suggestions', 'amendment', 'refund', 'alaska', 'merger', '1948', 'judges', 'legislators', 'thereafter', 'votes', 'accordance', 'enforcement', 'supervision']\n",
      "\n",
      "6 ['lips', 'answered', 'fat', 'snow', 'smile', 'hat', 'silent', 'anger', 'angry', 'ice', 'snake', 'touched', 'shouted', 'stranger', 'instant', 'swimming', 'hurt', 'stomach', 'matsuo', 'sounded', 'calm', 'johnson', 'smell', 'missing', 'blow', 'reflection', 'gesture', 'horn', 'grinned', 'cried', 'hoping', 'stars', 'precious', 'hal', 'ramey', 'wound', 'paused', 'powder', 'laughing', 'delicate', 'pistol', 'approaching', 'victim', 'trembling', 'frightened', 'helva', 'jew', 'coolidge', 'hired', 'continually', 'painful', 'tilghman', 'fist', 'glanced', 'ritual', 'penny', 'wildly', 'cheap', 'seized', 'stern', 'incredible', 'pete', 'whisky', 'whispered', 'sink', 'pip', 'happiness', 'plate', 'patience', 'fault', 'deegan', 'elaine', 'sticks', 'mess', 'yelled', 'thrust', 'pitch', 'russ', 'dishes', 'ugly', 'questioning', 'despair', 'wondering', 'shining', 'dare', 'lowered', 'hesitated', 'shaking', 'possession', 'envelope', 'invitation', 'greeted', 'hidden', 'dolores', 'laura', 'physically', 'impulse', 'grip', 'cheek', 'puts', 'stake', 'gather', 'alike', 'hatred', 'lean', 'crown', 'pamela', 'twisted', 'companion', 'relax', 'letch', 'resting']\n",
      "\n",
      "7 ['element', 'valuable', 'obtain', 'accounts', 'fail', 'edition', 'substance', 'false', 'merit', 'arise', 'publicly', 'judgments', 'justify', 'identify', 'sophisticated', 'handled', 'acquired', 'access', 'realism', 'desires', 'sitter', 'meaningful', 'undoubtedly', 'originally', 'reflects', 'expectations', 'spectacular', 'suited', 'meanings', 'alienation', 'traditions', 'acceptable', 'urge', 'converted', 'indication', 'pupil', 'clothing', 'basically', 'eve']\n",
      "\n",
      "8 ['process', 'account', 'entirely', 'appears', 'features', 'phase', 'actions', 'imagination', 'sample', 'spite', 'properly', 'stages', 'necessarily', 'views', 'female', 'screen', 'instrument', 'intended', 'continuous', 'lies', 'mental', 'distinct', 'removal', 'shift', 'involves', 'combined', 'controlled', 'frequent', 'visible', 'scheme', 'transition', 'responses', 'viewed']\n",
      "\n",
      "9 ['agreed', 'settled', 'dominant', 'feels', 'interference', 'confusion', 'explanation', 'authorities', 'readers', 'satisfied', 'logical', 'favorable', 'discussions', 'surprising', 'combat', 'urethane', \"o'banion\", 'applications', 'accused', 'constitutional', 'functional', 'settle', 'complained', 'resist', 'dealt', 'crises', 'competent', 'inclined', 'invention']\n",
      "\n",
      "10 ['top', 'surface', 'cut', 'paper', 'square', 'piece', 'design', 'pattern', 'clay', 'sides', 'film', 'pieces', 'base', 'bottom', 'carefully', 'shape', 'fresh', 'solid', 'frame', 'allow', 'ends', 'holding', 'broken', 'hole', 'wood', 'depth', 'band', 'loose', 'eventually', 'desired', 'engine', 'resistance', 'rolled', 'mold', 'medium', 'rough', 'inch', 'cotton', 'edges', 'lightly', 'propaganda', 'strip', 'poured', 'disk', 'narrative', 'bowl', 'plaster', 'foil', 'pipe']\n",
      "\n",
      "11 ['af', 'points', 'c', 'fixed', 'p', 'platform', 'completion', 'angle', 'operator', 'q', 'curve', 'i.e.', 'atoms', 'defined', 'hydrogen', 'trials', 'axis', 'random', 'r', 'corresponding', 'filling', 'f', 'binomial', 'multiple', 'meets', 'probability', 'pencil', 'equation', 'namely', '**zg', 'dimensions', 'sensitivity', 'cure', 'polynomial', 'minimal', 'v', 'consisting', 'passes', 'define', 'planes', 'outcome', 'tangent', 'correspondence', 'transformed', 'cancer', 'component', 'zero', 'categories', 'nervous', 'ruth', 'substrate', 'category', '0', 'altered', 'arbitrary', 'nuts', 'intermediate', 'masses', 'computed', 'linear', 'beam', 'transformation', 'vacuum', 'bundle', 'span', 'vector', 'vertex']\n",
      "\n",
      "12 ['island', 'property', 'agreement', 'rhode', 'principal', 'items', 'du', 'location', 'governments', 'minor', 'charged', 'boats', 'assembly', 'towns', 'massachusetts', 'purchase', 'collected', 'burden', 'agent', 'tend', 'regarding', 'represent', 'districts', 'outstanding', 'presently', 'suitable', 'owner', 'expert', 'stockholders', 'preliminary', 'assessment', 'assessors', 'fortunately', 'tangible', 'movable']\n",
      "\n",
      "13 ['1', '2', '3', 'figure', 'class', '4', 'table', 'section', 'shown', 'issue', '5', 'aj', 'obtained', 'figures', 'determine', 'b', '7', 'inches', 'stations', 'procedure', 'chapter', 'fig.', 'column', 'article', 'starting', 'experiments', 'no.', 'previously', 'etc.', 'item', 'practices', 'uniform', 'diameter', 'containing', 'tables', 'e', 'experimental', 'onset', 'illustrated', 'questionnaire', 'sequence', 'arrangement', 'covering', 'frequencies', 'preceding', 'stem', 'subsequent', 'mines', 'select', '34', 'sec.']\n",
      "\n",
      "14 ['south', 'north', 'east', 'river', 'bridge', 'bank', 'providence', 'region', 'virginia', 'valley', 'shore', 'coast', 'negroes', 'headed', 'roads', 'bay', 'extended', 'lake', 'hudson', 'native', 'target', 'mississippi', 'ohio', 'mountain', 'falls', 'farther', 'heading', 'pacific', 'territory', 'louisiana', 'african', 'liberals', 'southerners', 'bridges', '300', 'northwest', 'carolina', 'gulf', 'traveled', 'moderate', 'missouri', 'prairie', 'cape', 'border', 'alabama', 'wisconsin']\n",
      "\n",
      "15 ['put', 'hand', 'head', 'face', 'hands', 'feet', 'body', 'arms', 'forward', 'slowly', 'straight', 'shot', 'deep', 'covered', 'mouth', 'teeth', 'dropped', 'poet', 'caught', 'arm', 'fell', 'pain', 'enemy', 'slightly', 'watched', 'neck', 'knife', 'pulled', 'forth', 'carrying', 'foot', 'legs', 'chair', 'fingers', 'hung', 'desk', 'shoulder', 'keeping', 'stared', 'heavily', 'circle', 'struck', 'leg', 'remove', 'shook', 'beneath', 'wheel', 'marine', 'putting', 'wet', 'breath', 'chest', 'pull', 'shoulders', 'throat', 'swung', 'threw', 'shoes', 'fired', 'dirt', 'lifted', 'finger', 'thrown', 'burned', 'stick', 'knees', 'leaned', 'push', 'tongue', 'jumped', 'bent', 'slipped', 'knocked', 'bare', 'chin', 'heels', 'backward']\n",
      "\n",
      "16 ['removed', 'warning', 'match', 'normally', 'alternative', 'guilt', 'indians', 'conservative', 'suspect', 'stable', 'jet', 'sovereignty', 'palfrey', 'demonstration', 'charming', 'rank', 'sentiment', 'colleagues', 'plates', 'middle-class', 'miller', 'vienna', 'melody', 'occurring', 'revolutionary', 'complement', 'plato', 'overwhelming', 'guided']\n",
      "\n",
      "17 ['angeles', 'separated', 'bomb', 'corn', 'kansas', 'sharpe', 'islands', 'suspended', 'sons', 'designs', 'delaware', 'released', 'card', 'pittsburgh', 'aboard', 'jersey', 'intervals', 'barrel', 'clubs', 'cycle', 'westminster', 'generations', 'teams', 'exhibition', 'vermont', 'mars', 'passengers', 'races', 'loop', 'inspection', 'addresses', 'screw', 'anniversary', 'manhattan', 'residents', 'el', 'slim', 'promises', 'explains', 'bones', 'trap', 'calif.', 'deadly', 'wildlife', 'stroke', 'condemned']\n",
      "\n",
      "18 ['concern', 'otherwise', 'learn', 'begin', 'lives', 'forced', 'advantage', 'capable', 'pleasure', 'eat', 'confidence', 'begins', 'trust', 'choose', 'creative', 'count', 'promised', 'grown', 'threat', 'dependent', 'communists', 'release', 'studio', 'modest', 'newly', 'appreciate']\n",
      "\n",
      "19 ['failure', 'indicate', 'traditional', 'drawn', 'typical', 'practically', 'acceptance', 'functions', 'fears', 'difficulties', 'universal', 'core', 'holds', 'destroyed', 'relationships', 'magic', 'male', 'vary', 'findings', \"child's\", 'harmony', 'depending', 'radical', 'constitute', 'concepts', 'marginal', 'impressions', 'abandoned', 'trace']\n",
      "\n",
      "20 ['american', 'general', 'public', 'government', 'program', 'business', 'group', 'national', 'development', 'members', 'country', 'service', 'local', 'special', 'major', 'federal', 'economic', 'community', 'future', 'policy', 'university', 'education', 'military', 'plan', 'schools', 'private', 'support', 'defense', 'central', 'u.s.', 'medical', 'administration', 'foreign', 'international', 'needs', 'meet', 'labor', 'trade', 'programs', 'services', 'aid', 'association', 'student', 'planning', 'organization', 'responsibility', 'activities', 'corps', 'division', 'serve', 'negro', 'professional', 'health', 'council', 'commission', 'prepared', 'relations', 'churches', 'leadership', 'security', 'civil', 'active', 'financial', 'affairs', 'proposed', 'catholic', 'operations', 'interests', 'prevent', 'provides', 'offer', 'studied', 'formed', 'receive', 'planned', 'membership', 'command', 'educational', 'teachers', 'declared', 'arts', 'library', 'concerning', 'courses', 'acting', 'organizations', 'continuing', 'setting', 'contract', 'housing', 'academic', 'organized', 'conduct', 'supported', 'welfare', 'establishment', 'institute', 'formal', 'engaged', 'seeking', 'regional', 'legislative', 'assure', 'serves']\n",
      "\n",
      "21 ['edward', 'display', 'pont', 'charter', 'involving', 'marshall', 'insist', 'hughes', 'repeat', 'delayed', 'nixon', 'subjected', 'hollywood', 'lawyers', 'ralph', 'ownership', 'johnston', 'submitted', 'witnesses', 'theories', 'jan.', 'merchant', 'theology', 'commissioner']\n",
      "\n",
      "22 ['school', 'junior', 'faculty', 'league', 'achievement', 'highest', 'attend', 'largest', 'japanese', 'candidates', 'attended', 'grade', 'candidate', 'senior', 'admission', 'mainly', 'sponsored', 'helpful', 'outdoor', 'requirement', 'marriages', \"women's\", 'publicity', 'pupils', 'dealer', 'portland', 'honored', 'academy', 'attending', 'politicians']\n",
      "\n",
      "23 ['still', 'long', 'came', 'place', 'around', 'went', 'got', 'away', 'water', 'took', 'night', 'room', 'looked', 'big', 'saw', 'light', 'turned', 'open', 'together', 'held', 'office', 'moment', 'close', 'stood', 'outside', 'soon', 'started', 'fire', 'ground', 'kept', 'taking', 'coming', 'inside', 'looking', 'cold', 'rest', 'suddenly', 'hall', 'sat', 'stand', 'opened', 'hot', 'stopped', 'bed', 'hotel', 'window', 'moving', 'sun', 'waiting', 'afternoon', 'closed', 'standing', 'doctor', 'filled', 'glass', 'sitting', 'jack', 'mike', 'kitchen', 'quickly', 'leaving', 'rose', 'sight', 'ship', 'watch', 'coffee', 'quiet', 'watching', 'round', 'camp', 'rock', 'stayed', 'broke', 'waited', 'weather', 'dry', 'quick', 'warm', 'sit', 'sleep', 'grew', 'cool', 'birds', 'phone', 'crowd', 'moments', \"father's\", 'bus']\n",
      "\n",
      "24 ['journal', 'regions', 'primitive', \"world's\", 'complicated', 'citizen', 'ranging', 'prize', 'encounter', 'shoot', 'eager', 'charm', 'paying', 'eliminate', 'gear', 'astronomy', 'registered', 'merchants', 'sixties', 'auto', 'sphere', 'successes', 'respond', 'dynamic', 'urgent', 'grains', 'crop', 'repair', 'businesses', 'attract']\n",
      "\n",
      "25 ['avoid', 'create', 'republic', 'comfort', 'hardy', 'bound', 'guidance', 'devices', 'affected', 'challenge', 'sympathy', 'worst', 'alert', 'tragic', 'suffer', 'massive', 'remote', 'tasks', 'encouraged', 'phenomena', 'overcome', 'mothers', 'destructive', 'operational', 'lift', 'enable', 'sharing', 'implications', 'unfortunate', 'certainty', 'resolved', 'reveals', 'punishment', 'cope', 'emphasize', 'notable', 'devotion', 'distinguish']\n",
      "\n",
      "26 ['mr.', 'mrs.', 'john', 'dr.', 'brown', 'william', 'george', 'j.', 's.', 'a.', 'james', 'thomas', 'charles', 'c.', 'published', 'announced', 'mary', 'e.', 'named', 'w.', 'robert', 'henry', 'editor', 'judge', 'b.', 'jr.', 'treated', 'louis', 'morgan', 'daughter', 'h.', 'richard', 'frank', 'chairman', 'honor', 'd.', 'fellow', 'm.', 'u.', 'r.', 'f.', 'p.', 'l.', 'joseph', 'martin', 'smith', 'remarks', 'la', 'david', 'arthur', 'eisenhower', 'mention', 'speaker', 'representative', 'admitted', 'lawyer', 'adams', 'g.', 'vice', 'dean', 'prominent', 'senator', 'walter', 'lawrence', 'mayor', 'accompanied', 'wise', 'assistant', 'clark', 'harry', 'lee', 'samuel', 'van', 'williams', 'v.', 'sen.', 'o.', 'albert', 'sergeant', 'harris', 'n.', 'appointment', 'davis', 't.', 'mitchell', 'quoted', 'houston', 'eugene', 'mason', 'coach', 'victor', 'gen.', 'engagement', 'di', 'rev.', 'taylor', 'morris', 'purchased', 'allen', 'notte', 'salem']\n",
      "\n",
      "27 ['slow', 'positions', 'easier', 'childhood', 'tendency', 'encourage', 'decade', '1954', 'suffering', 'occur', 'pace', 'rapid', 'whereas', 'continues', 'desegregation', 'improvement', 'maturity', 'medicine', 'crucial', 'widespread', 'proportion', 'formerly', 'upward', 'dedicated', 'anticipated', 'gains', 'consistently']\n",
      "\n",
      "28 ['charge', 'analysis', 'cover', 'fully', 'economy', 'follows', 'initial', 'assume', 'solution', 'useful', 'combination', 'bear', 'correct', 'measures', 'limit', 'comparison', 'intelligence', 'considering', 'employment', 'insurance', 'weakness', 'helping', 'long-range', 'assumption', 'satisfactory', 'striking', 'contributed', 'phenomenon', 'over-all', 'raising', 'pages', 'vigorous', 'electricity', 'probable']\n",
      "\n",
      "29 ['governor', 'issued', 'grand', 'cook', 'charges', \"year's\", 'illinois', 'robinson', 'paul', 'baker', 'jackson', 'shortly', 'sentence', 'prince', 'mills', 'panel', 'checked', 'outer', 'franklin', 'sherman', 'republicans', '1956', 'jefferson', 'permission', 'voted', 'd.c.', 'proceeded', 'trustees', 'advisory', 'memorial', 'circuit', 'maryland', 'capitol', 'preparing', 'congressional', 'detroit', 'port', 'jail', 'surrounded', 'congressman', 'prospective', 'illness', 'confirmed', 'arnold', 'directors', 'gov.', 'continental']\n",
      "\n",
      "30 ['temperature', 'energy', 'gas', 'heat', 'radiation', 'anode', 'observed', 'shelter', 'protection', 'measured', 'moon', 'scale', 'drop', 'intensity', 'measurements', 'waves', 'liquid', 'periods', 'wave', 'atomic', 'thickness', 'storage', 'arc', 'observations', 'transfer', 'organic', 'exposed', 'thermal', 'variation', 'emission', 'fallout', 'measuring', 'electron', 'sewage', 'drying', 'magnitude', 'holder', 'temperatures', 'reaches', 'approaches', 'composition', 'pond', 'heating', 'firing', 'plug', 'degrees', 'oxidation', 'lengths', 'investigations', 'frequency', 'planets', 'planet', 'planetary', 'underground']\n",
      "\n",
      "31 ['game', 'ball', 'team', 'fourth', 'victory', 'orchestra', 'songs', 'painting', 'baseball', 'palmer', 'huge', 'games', 'faced', 'player', 'dangerous', 'ballet', 'comedy', 'concert', 'piano', 'admit', 'football', 'license', 'characters', 'row', 'knee', 'golf', 'presidential', \"we've\", 'rice', 'symphony', 'performances', 'kids', 'trips', 'sang', 'players', 'magnificent', 'sixth', 'delightful', 'sessions', 'star', 'stadium', 'broadway', 'resumed', 'lighting', 'protest', 'baltimore', 'definitely', 'speeches', \"hasn't\", 'tournament', 'strikes', '1927']\n",
      "\n",
      "32 ['life', 'church', 'god', 'death', 'love', 'spirit', 'heart', 'neither', 'fear', 'truth', \"man's\", 'born', 'faith', 'speak', 'knows', 'christ', 'everyone', 'lord', 'condition', 'created', 'secret', 'mission', 'accept', 'universe', 'wonder', 'birth', 'jesus', 'struggle', 'refused', 'bible', 'vision', 'loved', 'sin', 'protestant', 'holy', 'soul', 'deny', 'liberty', 'identified', 'wisdom', 'saved', 'heaven', 'unlike', 'conscience', 'mankind', 'virgin', 'salvation', 'eternal', 'gentle', 'kingdom', 'inspired', 'forgive', 'belongs']\n",
      "\n",
      "33 ['year', 'per', '1960', 'cent', '10', '1961', 'march', 'fiscal', '6', '15', '30', '8', '1959', 'june', '12', '20', '1958', 'marked', '25', 'november', 'april', 'july', '9', 'december', '11', 'advance', 'september', '14', '18', '16', 'august', 'january', 'percent', 'october', '13', '1957', '24', 'prior', '21', '23', 'equivalent', '22', 'february', 'washing', '17', '40', '31', 'schedule', '1962', 'sept.', 'stems', '19', '26', 'museum', '1952', 'ending', 'oct.', 'dried', '1953', '27', 'aug.', 'douglas', 'sponsor', 'reliable', 'nov.', '1950', '28', 'feb.', '1949', 'lb.']\n",
      "\n",
      "34 ['page', 'begun', 'sheet', 'composed', 'holes', 'fifth', 'illusion', 'blocks', 'constructed', 'columns', 'lists', 'openly', 'basement', 'blanket', 'sheets', 'cellar', 'frames', 'switches', 'grows', 'delay', 'wheels', '1951', 'tooth', 'hay']\n",
      "\n",
      "35 ['sections', 'resolution', 'extremely', 'artery', 'tissue', 'foam', 'staining', 'resulted', 'symbols', 'chlorine', 'demonstrated', 'pathology', 'skywave', 'e.g.', 'tube', 'saline', 'respectively', 'root', 'carbon', 'mixture', 'bronchial', 'apparatus', 'fabrics', 'samples', 'surfaces', 'mechanism', 'specified', '1955', 'drugs', 'offering', 'enemies', 'scope', 'distributed', 'pulmonary', 'fiber', 'gyro', 'snakes', 'shelters', 'structural', 'vein', 'detergent', 'promising', 'interpreted', 'specimen', 'accurately', 'tubes', 'phases', 'substances', 'fraction', 'assumptions', 'insects', 'illustration', 'fibers', 'crystal', 'registration', 'foams', 'capabilities', 'hypothalamic', 'occasions', 'sampling', 'eliminated', 'rico', 'protein', 'cholesterol', 'theoretical', 'indirect', 'classification', 'tsunami', 'availability', 'particle', 'fractions', 'probabilities', 'lungs', 'adjustments', 'input', 'distinctive', 'corporate', 'label', 'polish', 'interviews', 'sera', 'solved', 'reactivity', 'nonspecific', 'distances', 'fats', 'daytime', 'lesser', 'applies', 'combinations']\n",
      "\n",
      "36 ['men', 'old', 'almost', 'yet', 'called', 'young', 'children', 'family', 'gave', 'today', 'past', 'seen', 'miss', 'known', 'wife', 'age', 'sometimes', 'child', 'strong', 'alone', 'women', 'living', 'except', 'live', 'person', 'lost', 'son', 'picture', 'friends', 'fine', 'working', 'sent', 'boys', 'girls', 'appeared', 'met', 'husband', 'de', 'learned', 'lived', 'scene', 'interested', 'married', 'playing', 'older', 'americans', 'parents', 'battle', 'finished', 'regular', 'mark', 'remembered', 'rich', 'failed', 'jewish', 'writer', 'independence', 'realized', 'leading', 'join', 'finds', 'informed', 'fought', 'younger', 'musicians']\n",
      "\n",
      "37 ['king', 'telephone', 'ordered', 'plays', 'greek', 'taught', 'author', 'queen', 'francisco', 'brothers', 'signed', 'crew', 'managed', 'sing', 'suggestion', 'advised', 'gift', 'rejected', 'gorton', 'lieutenant', 'prayer', 'partisan', 'pursue']\n",
      "\n",
      "38 ['spread', 'beauty', 'wind', 'narrow', 'drove', 'garden', 'somewhere', 'taste', 'tree', 'enjoyed', 'wild', 'sounds', 'silence', 'colors', 'hills', 'incident', 'sports', 'singing', 'riding', 'mountains', 'dancing', 'reflected', 'describe', 'attractive', 'turns', 'atom', 'dirty', 'sees', 'fruit', 'swept', 'winning', 'extraordinary', 'lane', 'fence', 'journey', 'shade', 'horizon', 'hang', 'woods', 'parade', 'swing', 'deck', 'giant', 'flower', 'palm', 'gang', 'cafe', 'shadows']\n",
      "\n",
      "39 ['two', 'years', 'three', 'later', 'days', 'several', 'four', 'times', 'five', 'half', 'ago', 'six', 'million', 'minutes', 'months', 'hours', 'miles', 'hundred', 'ten', 'weeks', 'nearly', 'couple', 'seven', 'spent', 'eight', 'played', 'dollars', 'thousand', 'worth', 'nine', 'twenty', '100', 'twice', 'approximately', 'fifty', 'passing', '50', 'thirty', 'fifteen', 'runs', 'divided', 'spend', 'dozen', 'millions', 'twelve', 'sold', 'thousands', '60', 'sum', 'pounds', 'hundreds', 'prison', 'eleven', '200', 'forty', 'washed', 'quarter', 'decades', 'fourteen', 'tons', 'seconds', 'concerts', 'cents', 'twenty-five', 'seventeen', '70', 'consisted', 'hits', 'sixty']\n",
      "\n",
      "40 ['great', 'social', 'history', 'political', 'society', 'art', 'modern', 'religious', 'christian', 'concerned', 'influence', 'science', 'movement', 'meaning', 'forms', 'understanding', 'progress', 'religion', 'language', 'established', 'attitude', 'easily', 'popular', 'institutions', 'giving', 'attempt', 'poetry', 'greatest', 'philosophy', 'musical', 'aware', 'offered', 'instance', 'literary', 'standards', 'evil', 'communism', 'politics', 'ancient', 'intellectual', 'significance', \"one's\", 'contemporary', 'spiritual', 'feelings', 'vast', 'learning', 'ultimate', 'culture', 'emphasis', 'truly', 'identity', 'cultural', 'conflict', 'conventional', 'integration', 'attitudes', 'aspect', 'creation', 'opposition', 'recognition', 'drama', 'civilization', 'societies', 'virtually', 'contribution', 'myth', 'phrase', 'classical', 'christianity', 'theological', 'critics', 'displayed', 'convictions']\n",
      "\n",
      "41 ['distance', 'dust', 'rain', 'horses', 'spot', 'occasionally', 'mile', 'flight', 'centuries', 'approached', 'darkness', 'waters', 'rode', 'sudden', 'clouds', 'voices', 'installed', 'seldom', 'italy', 'fly', 'shouting', 'trail', 'pressed', 'shots', 'mighty', 'cloud', 'germans', 'surrounding', 'fog', 'bend', 'depression', 'rocks', 'rifles', 'melting', 'tire', 'tip', 'crossing', 'crash', 'canvas']\n",
      "\n",
      "42 ['work', 'industry', 'equipment', 'market', 'production', 'stock', 'industrial', 'plant', 'farm', 'operation', 'products', 'machine', 'demand', 'supply', 'materials', 'construction', 'sign', 'product', 'speed', 'model', 'signs', 'electric', 'potential', 'substantial', 'competition', 'commercial', 'machinery', 'requires', 'goods', 'improved', 'components', 'advertising', 'supplies', 'manufacturers', 'models', 'electrical', 'trend', 'precision', 'panels', 'cast', 'steel', 'technology', 'transportation', 'marketing', 'raw', 'seeds', 'seed', 'automatic', 'processing', 'foundation', 'handling', 'substantially', 'producing', 'currently', 'tools', 'efficient', 'plastic', 'plastics', 'buying', \"company's\", 'grain', 'promotion', 'estimates', 'manufacturing', 'savings', 'gin', 'retail', 'earnings']\n",
      "\n",
      "43 ['money', 'tax', 'amount', 'pay', 'paid', 'bill', 'income', 'date', 'oil', 'gross', 'fund', 'entitled', 'estate', 'extra', 'passage', 'bonds', 'bills', 'dollar', 'taxes', 'load', 'excess', 'reserve', 'cash', 'revenue', 'adjustment', 'receiving', 'returns', 'tied', 'farmers', 'builder', 'contributions', 'revenues', 'bears', 'monthly', 'taxpayers', 'receives']\n",
      "\n",
      "44 ['small', 'far', 'set', 'point', 'large', 'within', 'least', 'whole', 'line', 'show', 'field', 'free', 'air', 'making', 'became', 'position', 'full', 'center', 'land', 'usually', 'sound', 'lines', 'space', 'stage', 'beyond', 'instead', 'followed', 'single', 'including', 'actually', 'building', 'range', 'earth', 'entire', 'using', 'directly', 'color', 'direction', 'step', 'lead', 'placed', 'numbers', 'wide', 'performance', 'radio', 'main', 'middle', 'length', 'pool', 'continue', 'attack', 'built', 'key', 'relatively', 'laid', 'pointed', 'upper']\n",
      "\n",
      "45 ['rifle', 'minute', 'burning', 'flying', 'heads', 'steady', 'sleeping', 'temple', 'burst', 'branch', 'circles', 'gently', 'glasses', 'theatre', 'reminded', 'bullet', 'warmth', 'wings', 'flew', 'literally', 'pack', 'nick', 'partially', 'torn', 'pile', 'cigarette', 'jump', 'tractor', 'slid', 'seated', 'attempting', 'chairs', 'wounded', 'targets', 'eighteenth', 'autumn', 'steadily', 'faulkner', 'startled', 'circular', 'breathing', 'glory', 'manage', 'leaped', 'michelangelo', 'b.c.', 'struggling', 'ladder', 'guards', 'toes', 'situated', 'delivery', 'smelled', 'blowing']\n",
      "\n",
      "46 ['aircraft', 'electronic', 'machines', 'rural', 'absence', 'advanced', 'missile', 'destroy', 'includes', 'cooling', \"today's\", 'emergency', 'industries', 'bombs', 'badly', 'survive', 'naval', 'selling', 'demonstrate', 'communications', 'submarine', 'register', 'assist', 'unexpected', 'strategic', 'manufacturer', 'bombers', 'replacement', 'inc.', 'submarines']\n",
      "\n",
      "47 ['presence', 'constant', 'emotional', 'possibly', 'fairly', 'details', 'qualities', 'reactions', 'possibilities', 'ease', 'sufficiently', 'anxiety', 'talent', 'intense', 'tested', 'tremendous', 'lacking', 'competitive', 'muscles', 'applying', 'signals', 'roots', 'realization']\n",
      "\n",
      "48 ['back', 'house', 'left', 'toward', 'side', 'along', 'door', 'across', 'car', 'behind', 'street', 'turn', 'front', 'near', 'road', 'moved', 'move', 'reached', 'wall', 'walked', 'floor', 'passed', 'lay', 'ran', 'carried', 'running', 'eye', 'steps', 'gun', 'horse', 'corner', 'heavy', 'ahead', 'station', 'drive', 'reach', 'trees', 'walk', 'sea', 'train', 'bar', 'opposite', 'beside', 'fast', 'picked', 'edge', 'buildings', 'turning', 'hill', 'village', 'jones', 'box', 'rome', 'walls', 'drew', 'block', 'towards', 'yards', 'signal', 'shop', 'onto', 'roof', 'safe', 'stone', 'truck', 'entrance', 'cross', 'wagon', 'seat', 'walking', 'pushed', 'driving', 'gold', 'rear', 'wooden', 'concrete', 'via', 'climbed', 'path', 'driven', 'brush', 'reaching', 'porch', 'crossed', 'palace', 'gate', 'shadow', 'stretched', 'parked', 'gardens', 'mud', 'counter', 'ceiling', 'split', 'breaking']\n",
      "\n",
      "49 ['one', 'remarkable', 'introduction', 'thompson', 'handed', 'roy', \"mother's\", 'grave', 'fate', 'swift', 'concluded', 'shakespeare', 'et', 'woodruff', 'argue', 'morse', 'verse', 'worthy', 'widow', 'threatening', 'fortune', 'succession', 'prospect', 'grateful', 'evidently', 'devil', 'attached', 'declaration', 'brave', 'utopia', 'tribute', 'jean', 'farmer', 'quiney', 'curiosity', \"brown's\", 'genius', 'aunt', 'ambassador', 'adding', 'savage', 'architect', 'doubtful', 'warned', 'aristotle', 'bullets', \"john's\", 'cromwell', 'mode', 'intimate', 'pause', 'steele', 'persuaded', 'bridget', 'motives', 'borden', 'temporarily', 'worries', 'poverty', 'responded', 'fascinating', 'injured', 'paula', 'salesmen', 'rob', 'essay', 'dated', 'demanding', 'slip', 'rousseau']\n",
      "\n",
      "50 ['stands', 'friendly', 'unknown', 'superior', 'opinions', 'spirits', 'self', 'code', 'sacred', 'experts', 'spoken', 'delivered', 'extension', 'dignity', 'divine', 'survival', 'sovereign', 'slave', 'commonly', 'diplomatic', 'lively', 'scarcely', 'assembled', 'justified', 'possessed', 'wealth', 'behalf', 'katanga', 'dedication', \"men's\", 'vincent']\n",
      "\n",
      "51 ['high', 'cost', 'level', 'total', 'rate', 'increase', 'costs', 'higher', 'increased', 'due', 'sales', 'average', 'lower', 'cars', 'price', 'unit', 'rates', 'share', 'annual', 'balance', 'operating', 'capital', 'gain', 'increases', 'compared', 'exchange', 'estimated', 'employees', 'maintenance', 'billion', 'reduce', 'portion', 'prices', 'wage', 'motor', 'vehicles', 'raise', 'shares', 'percentage', 'residential', 'salary', 'wages', 'participation', 'spending', 'customers', 'pressures', 'consumer', 'retired', 'lumber', 'vehicle', 'net', 'adjusted', 'household', 'markets', 'decline', 'starts', 'dealers', 'utility', 'municipal', 'customer', 'allowances', 'absorbed', 'prospects']\n",
      "\n",
      "52 ['even', 'much', 'well', 'people', 'make', 'another', 'might', 'without', 'course', 'though', 'enough', 'better', 'find', 'give', 'things', 'need', 'mind', 'kind', 'help', 'perhaps', 'whether', 'either', 'quite', 'really', 'keep', 'probably', 'real', 'reason', 'job', 'seem', 'able', 'believe', 'says', 'longer', 'hope', 'hold', 'sort', 'trying', 'bring', 'answer', 'deal', 'certainly', 'decided', 'try', 'anyone', 'comes', 'understand', 'easy', 'stop', 'doubt', 'whatever', 'none', 'expect', 'hardly', 'write', 'exactly', 'follow', 'someone', 'build', 'impossible', 'desire', 'fair', 'dog', 'wants', 'buy', 'realize', 'willing', 'besides', 'helped', 'escape', 'explain', 'grow', 'save', 'closer', 'lose', 'understood', 'unable', 'worse', 'convinced', 'express', 'reply', 'teach', 'troubled']\n",
      "\n",
      "53 ['careful', 'travel', 'humor', 'pride', 'favorite', 'grace', 'kinds', 'paintings', 'automatically', 'juniors', 'dancer', 'films', 'cuts', 'doctors', 'nowhere', 'satisfaction', 'mount', 'masters', 'musician', 'noble', 'dances', 'substitute', 'blues', 'awake', 'splendid', 'quarrel', 'wit', 'florida', 'assurance', 'ambition']\n",
      "\n",
      "54 ['pass', 'lady', 'discovered', 'parker', 'perfect', 'liked', 'artist', 'draw', 'leaves', 'surely', 'honest', 'wright', 'henrietta', 'carl', 'magazine', 'severe', 'forgotten', 'pleasant', 'images', 'maris', 'accurate', 'crime', 'bigger', 'harder', 'spencer', 'desperately', 'nerves', 'helpless']\n",
      "\n",
      "55 ['discovery', 'extensive', 'emotions', 'distinction', 'languages', 'criticism', 'attempts', 'plot', 'thanks', 'fallen', 'fewer', 'awareness', 'collective', 'colored', 'structures', 'poetic', 'associations', 'testament', 'examination', 'scenes', 'perform', 'creating', 'enthusiasm', 'convention', 'inherent', 'philosophical', 'entering', 'wholly', 'peas', 'norms', 'democracy', 'formulas', 'chiefly', 'respects', 'verbal', 'characterized', 'utopian', 'renaissance', 'twentieth', 'fitted', 'ethics']\n",
      "\n",
      "56 ['sam', 'soldiers', 'strike', 'constitution', 'royal', 'guard', 'italian', 'mobile', 'ships', 'pike', 'rayburn', 'furniture', 'chose', 'navy', 'meanwhile', 'sending', 'realistic', 'accident', 'impressed', 'questioned', 'threatened', 'promptly', 'marshal', 'cavalry', 'generous', 'relatives', 'uncertain', 'telegraph', 'tales', 'sauce', 'tobacco', 'arrested', 'servant', 'emperor']\n",
      "\n",
      "57 ['like', 'man', 'little', 'good', 'never', 'thought', 'always', 'told', 'nothing', 'look', 'asked', 'knew', 'felt', 'ever', 'seemed', 'thing', 'done', 'heard', 'boy', 'voice', 'wanted', 'woman', 'girl', 'mother', 'feel', 'hard', 'mean', 'gone', 'call', 'everything', 'father', 'dead', 'feeling', 'tried', 'getting', \"wasn't\", 'talk', 'story', 'hear', 'happened', 'thinking', 'bad', 'remember', 'trouble', 'friend', 'wrong', 'beautiful', 'lot', \"i've\", 'hit', 'saying', 'poor', \"there's\", 'pretty', \"i'd\", 'bit', 'talking', 'meant', \"hadn't\", 'happy', 'fight', 'suppose', 'sir', 'goes', 'clothes', 'touch', 'seeing', 'strange', 'explained', 'looks', 'nice', 'memory', 'killed', 'nobody', 'die', 'brother', 'somehow', 'boat', 'everybody', 'mercer', \"she'd\", 'ought', 'beat', 'asking', 'gets', 'supposed', 'happen', 'baby', 'speaking', 'kid', 'mine', 'wondered', 'busy', 'talked', 'alive', 'wished', 'dear', 'thoughts', 'telling', 'laughed', 'knowing', 'proud', 'conversation', 'hearst', 'cry', 'adam', 'confused', 'whenever', 'catch', 'hate', 'happens', 'missed', 'dying', 'happening']\n",
      "\n",
      "58 ['closely', 'notes', 'elections', 'nearby', 'errors', 'volumes', 'comment', 'visitors', 'sympathetic', 'owned', 'gallery', 'articles', 'locking', 'directions', 'scattered', 'managers', 'weekly', 'authors', 'radar', 'troubles', 'summary', 'passages', 'timber', 'packed']\n",
      "\n",
      "59 ['motors', 'weapon', 'occasional', 'beer', 'succeeded', 'wash', 'unfortunately', 'excitement', 'coal', 'gathered', 'bird', 'belt', 'santa', 'gentleman', 'hated', 'roosevelt', 'veteran', 'christmas', 'traders', 'meals', 'trading', 'adult', 'ford', 'tail', 'wines', 'heights', 'regularly', 'surrender', 'trucks', 'empire', 'marble', 'luxury', 'unlikely', 'rent', 'profits', \"christ's\", 'tones', 'string', 'airport', 'sketches', 'hostile']\n",
      "\n",
      "60 ['state', 'president', 'company', 'board', 'department', 'party', 'washington', 'secretary', 'report', 'committee', 'meeting', 'police', 'county', 'congress', 'member', 'district', 'army', 'former', 'press', 'recently', 'reported', 'chief', 'staff', 'plans', 'hospital', 'democratic', 'director', 'officer', 'chicago', 'project', 'manager', 'citizens', 'workers', 'reports', 'officers', 'yesterday', 'campaign', 'election', 'vote', 'official', 'texas', 'jury', 'attorney', 'headquarters', 'california', 'officials', 'senate', 'duty', 'minister', 'joined', 'executive', 'republican', 'co.', 'appointed', 'engineer', 'representatives', 'proposal', 'legislature', 'latest', \"president's\"]\n",
      "\n",
      "61 ['growing', 'flat', 'bodies', 'showing', 'causes', 'majority', 'chinese', 'double', 'inner', 'soil', 'symbol', 'indian', 'slaves', 'thoroughly', 'comfortable', 'instructions', 'spots', 'prevented', 'drawings', 'mercy', 'victims']\n",
      "\n",
      "62 ['must', 'part', 'upon', 'fact', 'present', 'order', 'rather', 'form', 'important', 'often', 'become', 'power', 'problem', 'certain', 'thus', 'sense', 'means', 'matter', 'law', 'human', 'action', 'experience', 'seems', 'cannot', 'question', 'whose', 'problems', 'change', 'individual', 'true', 'common', 'clear', 'effect', 'therefore', 'personal', 'idea', 'nature', 'view', 'complete', 'attention', 'particular', 'makes', 'basic', 'simply', 'terms', 'indeed', 'difficult', 'subject', 'simple', 'natural', 'likely', 'purpose', 'involved', 'particularly', 'knowledge', 'ideas', 'moral', 'statement', 'nation', 'physical', 'strength', 'merely', 'literature', 'generally', 'cause', 'theory', 'clearly', 'freedom', 'consider', 'respect', 'approach', 'based', 'character', 'appear', 'obviously', 'gives', 'choice', 'completely', 'principle', 'effects', 'importance', 'existence', 'elements', 'becomes', 'race', 'status', 'primary', 'accepted', 'behavior', 'discussion', 'highly', 'practice', 'success', 'obvious', 'structure', 'measure', 'develop', 'regard', 'moreover', 'laws', 'facts', 'concept', 'stated', 'sex', 'crisis', 'immediate', 'recognized', 'expression', 'reality', 'response', 'fit', 'expressed', 'ability', 'nevertheless', 'brief', 'historical', 'principles', 'connection', 'excellent', 'communication', 'aspects', 'belief', 'dramatic', 'recognize', 'judgment', 'regarded', 'suggest', 'contrary', 'conviction', 'fundamental', 'everywhere', 'dealing', 'environment', 'exists', 'destruction', 'consequences', 'trends']\n",
      "\n",
      "63 ['feed', 'daily', 'application', 'animal', 'chemical', 'animals', 'disease', 'efficiency', 'maintained', 'losses', 'listed', 'reduction', 'moves', 'damage', 'strictly', 'poland', 'reducing', 'excessive', 'voting', 'instances', 'furnish', 'pound', 'prevention', 'aids', 'drug', 'aimed', 'sheep', 'commodities', 'milligrams', '75', 'diseases', 'exceed', 'caution', 'fever']\n",
      "\n",
      "64 ['poems', 'equally', 'elsewhere', 'impression', 'considerably', 'visited', 'drawing', 'furthermore', 'agents', 'error', 'presentation', 'poets', 'comments', 'marks', 'clarity', 'observation', 'zen', 'establishing', 'magazines', 'enthusiastic', 'cited', 'earliest', 'wives', 'intervention', 'ninth', 'voters', 'warrant']\n",
      "\n",
      "65 ['maintain', 'abroad', 'expenses', 'acres', 'serving', 'equipped', 'tough', 'preserve', 'protect', 'benefits', 'branches', 'effectiveness', 'defeat', 'transferred', 'losing', 'operated', 'retirement', 'amateur', 'coverage', 'regiment', 'h', 'convenient', 'attacks', 'carries', 'winds', 'diet', 'package', 'hospitals', 'preserved']\n",
      "\n",
      "66 ['sharp', 'song', 'flowers', 'bitter', 'flesh', 'blind', 'promise', 'terrible', 'lovely', 'believes', 'switch', 'joy', 'painted', 'brings', 'pope', 'mystery', 'listening', 'sharply', 'innocent', 'sad', 'tells', 'tears', 'affair', 'romantic', 'naked', 'invariably', 'letting', 'perfectly', 'gay', 'deliberately', 'reveal', 'delight', 'innocence', 'frozen', 'dull', 'mirror', 'friendship', 'prefer', 'legend', 'recalled', 'desperate', 'ill', 'patchen', 'attacked', 'critic', 'lonely', 'vague', 'rigid', 'relieved', 'cat', 'sweat', 'servants', 'hide', 'uneasy', 'souls', 'suspected', 'keeps', 'shame', 'defend', 'obliged', 'observers', 'reactionary', 'oedipus', 'fury']\n",
      "\n",
      "67 ['remain', 'independent', 'prime', 'editorial', 'nineteenth', 'bars', 'printed', 'routine', 'engineers', 'inadequate', 'commander', 'restrictions', 'newport', 'oral', 'contest', 'ruling', 'anti-semitism', 'ultimately', \"america's\", 'painter', 'educated', 'sixteen', 'founded', 'strongest', 'achievements']\n",
      "\n",
      "68 ['many', 'however', 'among', 'case', 'others', 'although', 'example', 'evidence', 'situation', 'especially', 'similar', 'cases', 'showed', 'questions', 'ways', 'persons', 'served', 'serious', 'ones', 'parts', 'suggested', 'role', 'despite', 'reasons', 'events', 'opinion', 'successful', 'marriage', 'caused', 'noted', 'relationship', 'classes', 'circumstances', 'interesting', 'subjects', 'teacher', 'mentioned', 'separate', 'contrast', 'individuals', 'detail', 'calls', 'families', 'statements', 'practical', 'background', 'issues', 'discussed', 'matters', 'unusual', 'achieved', 'parties', 'seriously', 'answers']\n",
      "\n",
      "69 ['pilot', 'concerns', 'arrangements', 'cleaning', 'supplied', 'quantity', 'cooking', 'extend', 'secure', 'advantages', 'limitations', 'rendered', 'examined', 'part-time', 'mutual', 'flexible', 'productive', 'sba', 'exploration', 'automobiles', 'qualified', 'full-time', 'inventory', 'channels', 'spare', 'conspiracy', 'forests', 'accepting', 'launched', 'philip', 'giants', \"patient's\", 'disposal', 'aroused', 'listeners', 'relating', 'improvements', '1946', 'patents', 'makers', 'mechanics', 'venture']\n",
      "\n",
      "70 ['unity', 'jobs', 'finding', 'legislation', 'changing', 'limits', 'sake', 'necessity', 'goals', 'acts', 'belong', 'strongly', 'sciences', 'context', 'roles', 'so-called', 'initiative', 'involve', 'considerations', 'reform', 'ethical', 'prestige', 'meetings', 'acquire', 'supporting', 'perspective', 'racial', 'contacts', 'chances', 'compete', \"children's\", 'boating', 'craft', 'posts', 'participate', 'obligations', 'saving', 'enjoyment', 'enforced', 'minority']\n",
      "\n",
      "71 ['somewhat', 'style', 'youth', 'tone', 'difficulty', 'chosen', 'fashion', 'argument', 'technique', 'sexual', 'conclusion', 'stories', 'sensitive', 'occasion', 'exercise', 'evident', 'apply', 'jews', 'experiences', 'content', 'situations', 'notion', 'soldier', 'regardless', 'briefly', 'classic', 'outlook', 'encountered', 'profound', 'exercises', 'insight', 'chart', 'casual', 'landscape']\n",
      "\n",
      "72 ['pressure', 'normal', 'volume', 'reaction', 'blood', 'function', 'mass', 'positive', 'flow', 'occurred', 'cutting', 'reasonable', 'experiment', 'sets', 'associated', 'tension', 'formula', 'negative', 'slight', 'stream', 'concentration', 'bond', 'relative', 'mounted', 'contain', 'oxygen', 'resulting', 'particles', 'comparable', 'shear', 'represents', 'derived', 'thyroid', 'variable', 'ratio', 'accuracy', 'coating', 'tape', 'output', 'calculated', 'measurement', 'interview', 'density', 'flux', 'velocity', 'variables', 'magnetic', 'displacement', 'fluid', 'conditioned', 'stresses']\n",
      "\n",
      "73 ['tragedy', 'urban', 'studying', 'existed', 'deeply', 'host', 'genuine', 'slavery', 'catholics', 'conception', 'confronted', 'mature', 'protected', 'altogether', 'virtue', 'consciousness', 'passion', 'peculiar', 'utterly', 'discipline', 'intelligent', 'disaster', 'aesthetic', 'exhibit', 'reflect', 'actor', 'explicit', 'expressing', 'imitation', 'hearts', 'destiny', 'physics', 'loyalty', 'appreciation', 'totally', 'colorful', 'amazing', 'underlying', 'endless', 'creatures', 'males', 'realm']\n",
      "\n",
      "74 ['college', 'students', 'professor', 'trained', 'automobile', 'demanded', 'estimate', 'profession', 'similarly', 'scholarship', 'visiting', 'harvard', 'campus', 'elected', 'connected', 'universities', 'seventh', 'dartmouth', 'graduate', 'carleton', 'brooklyn', 'builders', 'anti-trust', 'bearing', 'attracted', 'tended', 'drivers', 'thinks', 'publications', 'furnished', 'expects', 'belgians', 'historians', 'mathematics']\n",
      "\n",
      "75 ['wine', 'revolution', 'dream', 'novel', 'personality', 'mere', 'proof', 'recall', 'gained', 'inevitably', 'cards', 'scientists', 'drill', 'artistic', 'controls', 'purely', 'witness', 'humanity', 'gathering', 'scholars', 'roughly', 'exclusively', 'mathematical', 'grades', 'lo', 'shu', 'heroic', 'ideological', 'prisoners', 'fantastic', 'neatly', 'infinite']\n",
      "\n",
      "76 ['low', 'latter', 'rise', 'raised', 'fields', 'rapidly', 'rising', 'roman', 'apart', 'pure', 'expense', 'movements', 'violence', 'reader', 'nationalism', 'affect', 'height', 'folk', 'compromise']\n",
      "\n",
      "77 ['drink', 'smiled', 'dogs', 'wilson', 'surprised', 'alfred', 'surprise', 'warren', 'till', 'charlie', 'stairs', 'pocket', 'watson', 'alexander', 'rachel', 'bag', 'smoke', 'winston', 'susan', 'roberts', 'chicken', 'smiling', 'eggs', 'pat', 'roll', 'reporters', 'clerk', 'lunch', 'andy', 'rector', 'jess', 'curt', 'scotty', 'harold', 'dave', 'softly', 'miriam', 'asleep', 'tea', 'mickey', 'ear', 'brannon', 'laugh', 'tight', 'excuse', 'pot', 'wherever', 'shayne', 'cady', 'clayton', 'julia', 'disturbed', 'sarah', 'greg', 'ekstrohm', 'barton', 'bang-jensen', 'saddle', 'yeah', 'lock', 'burns', 'pa', 'bobbie', 'pitcher', 'podger', \"b'dikkat\", 'maude', 'clock', 'slide', 'sheriff', 'abel', 'loud', 'secrets', 'doc', 'reporter', 'straightened', 'shocked', 'instantly']\n",
      "\n",
      "78 ['world', 'states', 'united', 'war', 'west', 'america', 'western', 'europe', 'firm', 'cities', 'germany', 'france', 'china', 'european', 'india', 'congo', 'britain', 'troops', 'latin', 'northern', 'africa', 'asia', 'route', 'insisted', 'personally', 'neutral', 'japan', 'harbor', 'peoples', 'canada', 'prokofieff', 'eastern', 'allies', 'frontier', 'allied', 'southeast', 'settlement', 'nato', 'corporations', 'factories', 'neighboring', 'strategy', 'bold', 'alliance', 'authentic']\n",
      "\n",
      "79 ['characteristic', 'unique', 'vital', 'experienced', 'congregation', 'conscious', 'mostly', 'contribute', 'origin', 'identification', 'shared', 'revealed', 'distant', 'deeper', 'feature', 'enormous', 'worship', 'fellowship', 'emotion', 'consequently', 'unconscious', 'consistent', 'folklore', 'conceived', 'variations', 'beliefs', 'decent', 'dominated', 'broader']\n",
      "\n",
      "80 ['first', 'last', 'since', 'every', 'end', 'next', 'second', 'early', 'began', 'taken', 'period', 'brought', 'following', 'short', 'run', 'century', 'play', 'third', 'expected', 'return', 'late', 'added', 'beginning', 'final', 'start', 'fall', 'earlier', 'throughout', 'summer', 'continued', 'month', 'series', 'worked', 'spring', 'immediately', 'audience', 'visit', 'remained', 'season', 'usual', 'records', 'dance', 'previous', 'patient', 'opening', 'winter', 'session', 'completed', 'traffic', 'paris', 'ended', 'win', 'hopes', 'vacation', 'bob', 'tv']\n",
      "\n",
      "81 ['patterns', 'muscle', 'species', 'beings', 'abstract', 'bone', 'strain', 'concentrated', 'worker', 'consequence', 'suggests', 'pointing', 'vivid', 'subtle', 'pressing', 'continuity', 'diffusion', 'angels', 'anglo-saxon', 'triumph', 'displays', 'respectable', 'heritage', 'habits', 'colonial', 'mate', 'forming', 'michigan', 'rugged']\n",
      "\n",
      "82 ['found', 'best', 'name', 'word', 'words', 'already', 'music', 'book', 'english', 'finally', 'wrote', 'recent', 'read', 'received', 'written', 'england', 'letter', 'reading', 'french', 'southern', 'works', 'note', 'apparently', 'writing', 'letters', 'indicated', 'news', 'jazz', 'books', 'shows', 'tradition', 'frequently', 'famous', 'names', 'german', 'presented', 'event', 'writers', 'powers', 'naturally', 'pictures', 'message', 'speech', 'theme', 'papers', 'poem', 'numerous', 'fiction', 'copy', 'recording']\n",
      "\n",
      "83 ['image', 'plane', 'familiar', 'object', 'exist', 'lie', 'hence', 'minds', 'mantle', 'doctrine', 'brain', 'consists', 'exception', 'simultaneously', 'definite', 'examine', 'leads', 'weak', 'movies', 'allowing', 'secondary', 'historian', 'perception', 'ignored', 'occurs', 'nude']\n",
      "\n",
      "84 ['also', 'used', 'use', 'number', 'system', 'possible', 'area', 'different', 'information', 'study', 'available', 'areas', 'control', 'provide', 'various', 'type', 'needed', 'values', 'basis', 'conditions', 'forces', 'data', 'research', 'developed', 'growth', 'results', 'food', 'effort', 'methods', 'addition', 'method', 'according', 'population', 'provided', 'changes', 'systems', 'direct', 'degree', 'groups', 'manner', 'larger', 'additional', 'described', 'technical', 'test', 'activity', 'types', 'specific', 'include', 'standard', 'designed', 'applied', 'limited', 'factors', 'original', 'studies', 'related', 'techniques', 'included', 'proper', 'source', 'objective', 'complex', 'management', 'purposes', 'carry', 'sources', 'units', 'require', 'scientific', 'variety', 'distribution', 'collection', 'requirements', 'essential', 'differences', 'smaller', 'permit', 'selected', 'resources', 'plus', 'factor', 'levels', 'appropriate', 'teaching', 'adequate', 'properties', 'primarily', 'site', 'tests', 'procedures', 'uses', 'providing', 'critical', 'becoming', 'processes', 'preparation', 'detailed', 'widely', 'essentially', 'varied', 'evaluation']\n",
      "\n",
      "85 ['clean', 'salt', 'cup', 'liquor', 'iron', 'wire', 'chandler', 'fishing', 'covers', 'meal', 'residence', 'irish', 'ladies', 'ranch', 'controversy', 'bath', 'storm', 'mysterious', 'stretch', 'mexican', 'searching', 'rhythm', 'neat', 'gentlemen', 'cream', 'nest', 'ranks', 'ham', 'likes', 'drank', 'sober']\n",
      "\n",
      "86 ['would', 'said', 'could', 'way', 'see', 'get', 'know', 'us', 'come', 'go', 'right', 'take', 'say', \"don't\", 'something', 'think', \"didn't\", 'going', 'let', 'want', \"it's\", 'anything', \"i'm\", 'tell', 'sure', 'leave', \"that's\", \"i'll\", 'else', \"couldn't\", \"can't\", 'care', \"you're\", 'yes', 'ready', 'maybe', 'chance', \"wouldn't\", 'ask', \"he's\", 'oh', 'stay', 'wish', \"won't\", \"he'd\", \"isn't\", 'hell', 'wait', \"you'll\", \"doesn't\", 'check', 'captain', 'send', \"let's\", \"you've\", 'phil', \"they're\", \"we'll\", 'tom', 'kill', 'please', 'imagine', \"we're\", 'notice', 'somebody', 'replied', 'afraid', 'guess', 'pick', 'plenty', 'worry', 'forget', \"what's\", 'wonderful', 'advice', 'guy', 'listen', 'agree', 'ride', \"she's\", 'luck', 'anyway', \"ain't\", 'anybody', 'throw', 'sell', \"'em\", 'decide', 'neighbors', 'assured', 'finish', 'anywhere', 'tonight', \"god's\", 'glad', 'mood', 'fool', \"you'd\", \"aren't\", 'wear', 'waste', 'blame', \"they'll\", 'courage', \"we'd\", 'castro', \"they'd\", \"he'll\", 'harm', 'freely', 'figured']\n",
      "\n",
      "87 ['aside', 'device', 'hero', 'expensive', 'warfare', 'psychological', 'camera', 'patients', 'missiles', 'accordingly', 'helps', 'russians', 'solutions', 'movie', 'committed', 'instruments', 'exposure', 'eighth', 'fogg', 'controlling', 'valid', 'novels', 'thorough', 'biological', 'styles']\n",
      "\n",
      "88 ['entered', 'apartment', 'bottle', 'store', 'empty', 'rooms', 'motion', 'windows', 'bedroom', 'nodded', 'noticed', 'quietly', 'lincoln', 'shut', 'glance', 'stepped', 'guest', 'lying', 'doors', 'yard', 'bench', 'returning', 'disappeared', 'keys', 'crowded', 'howard', 'tossed', 'barely', 'locked', 'alex', 'shorts', 'lighted', 'barn', 'hanging', 'quarters', 'dining', 'upstairs', 'fled', 'rushed', 'suite', 'slept', 'staring', 'emerged', 'alec', 'ward', 'pulling', 'patrol', 'nearest', 'backed', 'motel', 'hurried', 'cabin', 'refrigerator', 'loaded', 'dressing', 'racing', 'shell', 'crack', 'stumbled', 'desert', 'hen', 'hoag', 'rang', 'garage', 'sidewalk', 'tent', 'peered', 'suitcase', 'lobby', 'rises', 'crawled', 'glued', 'cottage']\n",
      "\n",
      "89 ['peace', 'union', 'nations', 'countries', 'kennedy', 'led', 'soviet', 'efforts', 'british', 'nuclear', 'leaders', 'communist', 'conference', 'possibility', 'russian', 'favor', 'berlin', 'leader', 'russia', 'responsible', 'danger', 'liberal', 'seek', 'khrushchev', 'laos', 'powerful', 'greatly', 'weapons', 'artists', 'risk', 'introduced', 'u.n.', 'firmly', 'cuba', 'moscow', 'opposed', 'democrats', 'bringing', 'urged', 'owners', 'facing', 'debate', 'discuss', 'textile', 'climate', \"kennedy's\", 'wars', 'premier', 'biggest', 'regime', 'champion', 'intentions', 'socialist', 'tactics', 'negotiations', 'cuban']\n",
      "\n",
      "90 ['effective', 'term', 'policies', 'internal', 'task', 'goal', 'establish', 'demands', 'decisions', 'developing', 'achieve', 'consideration', 'operate', 'external', 'institution', 'atlantic', 'presumably', 'cooperation', 'objectives', 'determination', 'aim', 'formation', 'guide', 'thereby', 'mechanical', 'long-term', 'temporary', 'promote', 'absolute', 'recovery', 'morality', 'ecumenical', 'unions', 'maintaining', 'exclusive', 'placing', 'peaceful', 'conferences', 'responsibilities', 'insure', 'encouraging', 'discrimination', 'voluntary', 'balanced', 'recommendations', 'economical', 'governing', 'binding', 'solely', 'solve', 'whereby', 'tensions']\n",
      "\n",
      "91 ['training', 'facilities', 'funds', 'assistance', 'vocational', 'personnel', 'projects', 'forest', 'credit', 'benefit', 'agencies', 'armed', 'existing', 'budget', 'agency', 'firms', 'conducted', 'opportunities', 'devoted', 'shooting', 'safety', 'grant', 'expansion', 'boards', 'engineering', 'loan', 'offices', 'expenditures', 'developments', 'investment', 'recreation', 'bureau', 'communities', 'laboratory', 'highway', 'colleges', 'agricultural', \"nation's\", 'banks', 'skills', 'counties', 'hunting', 'financing', 'matching', 'electronics', 'finance', 'skilled', 'entertainment', 'proposals', 'volunteers', 'talents', 'expanding', 'surplus', 'instruction', 'departments', 'civilian', 'employee', 'contracts', 'stressed', 'agriculture', 'governmental', 'rehabilitation', 'overseas', 'statistics', 'procurement', 'expanded', 'supplement', 'cooperative', 'parks', 'grants', 'specialists', 'comprehensive']\n",
      "\n",
      "92 ['cattle', 'metal', 'milk', 'meat', 'readily', 'increasingly', 'rarely', 'fed', 'selection', 'mixed', 'yield', 'reasonably', 'testing', 'enterprise', 'beef', 'cow', 'treat', 'feeding', 'empirical', 'continuously', 'herd', \"weren't\", 'conversion', 'mustard', 'sailing', 'livestock', 'dairy']\n",
      "\n",
      "93 ['eyes', 'white', 'black', 'red', 'dark', 'hair', 'blue', 'green', 'thin', 'spoke', 'bright', 'gray', 'faces', 'thick', 'dress', 'wore', 'nose', 'pale', 'sky', 'yellow', 'tall', 'grass', 'tiny', 'pair', 'brilliant', 'driver', 'pink', 'suit', 'plain', 'skin', 'lights', 'wearing', 'coat', 'cloth', 'golden', 'smooth', 'bread', 'ears', 'track', 'paint', 'spanish', 'bride', 'jacket', 'falling', 'violent', 'stuff', 'silver', 'sand', 'stained', 'shirt', 'beard', 'suits', 'faint', 'leather', 'belly', 'cleared', 'worn', 'tie', 'skirt', 'stiff', 'blonde', 'boots', 'grabbed', 'jungle', 'trim', 'brushed']\n",
      "\n",
      "94 ['act', 'shall', 'court', 'trial', 'decision', 'justice', 'unless', 'claim', 'authority', 'allowed', 'rules', 'file', 'enter', 'rights', 'hearing', 'interior', 'rule', 'legal', 'assumed', 'proved', 'directed', 'relief', 'appeal', 'domestic', 'grounds', 'permitted', 'granted', 'review', 'sought', 'administrative', 'approval', 'investigation', 'supreme', 'courts', 'denied', 'testimony', 'recommended', 'adopted', 'referred', \"state's\", 'effectively', 'claimed', 'duties', 'petitioner', 'recommend', 'criminal']\n",
      "\n",
      "95 ['places', 'london', 'companies', 'trip', 'master', 'score', 'soft', 'orders', 'appearance', 'handle', 'television', 'impressive', 'accomplished', 'arranged', 'distinguished', 'tool', 'performed', 'determining', 'socialism']\n",
      "\n",
      "96 ['time', 'murder', 'sweet', 'hanover', 'lewis', 'uncle', 'joe', 'breakfast', 'cousin', 'sick', 'sorry', 'drinking', 'tired', 'hoped', 'curious', 'lucy', 'hans', 'mama', 'fun', 'linda', 'anne', 'funny', 'pleased', 'kate', 'handsome', 'papa', 'mad', \"haven't\", 'sister', 'drunk', 'colonel', 'stronger', 'noise', 'jim', 'dressed', 'hurry', 'thank', 'peter', 'worried', 'jane', 'stanley', 'crazy', 'mistake', 'nights', 'remarked', 'damn', 'eating', 'remark', 'maid', 'shock', 'felix', 'eddie', 'johnny', 'listened', 'ann', 'anxious', 'divorce', 'dawn', 'imagined', 'cap', 'myra', 'dan', 'fred', 'arlene', 'johnnie', 'unhappy', 'eileen', 'billy', 'owen', 'blanche', 'wally', 'honey', 'tim', 'conductor', 'bore', 'theresa', 'moore', 'stupid', 'wake', 'stuck', 'casey', 'killing', 'excited', 'maggie', 'hungry', 'bobby', 'midnight', 'arrival', 'dive', 'joke', 'ah', 'sighed', 'laughter', 'bother', \"shouldn't\", \"woman's\", 'sandburg', 'panic', 'keith', 'smart', 'joyce', 'killer', 'kay', 'tale', 'reverend', 'scared', 'lucky', 'rush', 'cathy', 'okay', 'bet', 'guys', 'boss', 'freddy', 'happily', 'buck', 'skyros', 'donald', 'anyhow', 'damned', 'guitar', 'puzzled', 'helion', 'snapped']\n",
      "\n",
      "97 ['break', 'bought', 'version', 'ring', 'chamber', 'contains', 'stores', 'ocean', 'sugar', 'representing', 'replace', 'extending', 'butter', 'al', 'madison', 'describes', 'soap', 'francis', 'fans', 'newer', 'respective', 'depths']\n",
      "\n",
      "98 ['opportunity', 'believed', 'fighting', 'career', 'search', 'detective', 'partly', 'guns', 'constantly', 'writes', 'definition', 'survey', 'holmes', 'patent', 'elaborate', 'sacrifice', 'reputation', 'occupation', 'treaty', 'realtors']\n",
      "\n",
      "99 ['broad', 'reference', 'objects', 'assignment', 'repeated', 'generation', 'description', 'examples', 'precisely', 'odd', 'replaced', 'rare', 'parallel', 'visual', 'permanent', 'isolated', 'tends', 'composer', 'network', 'optimal', 'closing', 'absent', 'refer', 'dilemma', 'rational', 'ben']\n",
      "\n"
     ]
    }
   ],
   "source": [
    "for i in xrange(0,100):\n",
    "    print i, clusterKmeans[i]\n",
    "    print"
   ]
  },
  {
   "cell_type": "code",
   "execution_count": null,
   "metadata": {
    "collapsed": true
   },
   "outputs": [],
   "source": []
  }
 ],
 "metadata": {
  "kernelspec": {
   "display_name": "Python 2",
   "language": "python",
   "name": "python2"
  },
  "language_info": {
   "codemirror_mode": {
    "name": "ipython",
    "version": 2
   },
   "file_extension": ".py",
   "mimetype": "text/x-python",
   "name": "python",
   "nbconvert_exporter": "python",
   "pygments_lexer": "ipython2",
   "version": "2.7.10"
  }
 },
 "nbformat": 4,
 "nbformat_minor": 0
}
