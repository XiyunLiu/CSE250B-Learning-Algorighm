{
 "cells": [
  {
   "cell_type": "code",
   "execution_count": 1,
   "metadata": {
    "collapsed": true
   },
   "outputs": [],
   "source": [
    "from collections import defaultdict\n",
    "from sklearn.naive_bayes import MultinomialNB\n",
    "import numpy as np\n",
    "import math\n",
    "import sys\n",
    "import random\n",
    "from nltk.corpus import stopwords"
   ]
  },
  {
   "cell_type": "markdown",
   "metadata": {},
   "source": [
    "M =  full with stop words  error rate: 0.21892071952\n",
    "\n",
    "M =  full without stop words  error rate: 0.199200532978\n",
    "\n",
    "M =  20000 random error rate: 0.30726182545\n",
    "\n",
    "M =  10000 random error rate: 0.409593604264\n",
    "\n",
    "M =  5000  error rate: 0.564956695536\n",
    "\n",
    "### Random but log(1+count)\n",
    "\n",
    "M =  20000  error rate: 0.301265822785\n",
    "\n",
    "M =  10000  error rate: 0.38654230513\n",
    "\n",
    "### Random without removing stop words\n",
    "\n",
    "M = 5000 mean 0.543730846102 std 0.0129676478143"
   ]
  },
  {
   "cell_type": "code",
   "execution_count": 2,
   "metadata": {
    "collapsed": true
   },
   "outputs": [],
   "source": [
    "directory = \"/Users/liuxiyun/Dropbox/Study/16fall/CSE250B/Hw2/20news-bydate_parse/matlab/\""
   ]
  },
  {
   "cell_type": "code",
   "execution_count": 3,
   "metadata": {
    "collapsed": false
   },
   "outputs": [],
   "source": [
    "def readData(name):\n",
    "    with open(directory + name) as f:\n",
    "        content = [[int(num) for num in x.strip('\\n').split(\" \")] for x in f.readlines()]\n",
    "    print len(content),\n",
    "    return content\n",
    "def readLabel(name):\n",
    "    with open(directory + name) as f:\n",
    "        content = [int(num) for num in f.readlines()]\n",
    "    print len(content),\n",
    "    return content\n",
    "def readMap(name):\n",
    "    d = {}\n",
    "    with open(directory + name) as f:\n",
    "        for line in f:\n",
    "           (val, key) = line.split()\n",
    "           d[int(key)] = val\n",
    "    return d"
   ]
  },
  {
   "cell_type": "code",
   "execution_count": 4,
   "metadata": {
    "collapsed": false
   },
   "outputs": [
    {
     "name": "stdout",
     "output_type": "stream",
     "text": [
      "1467345 11269 967874 7505\n"
     ]
    }
   ],
   "source": [
    "trainData = readData('train.data')\n",
    "trainLabel = readLabel('train.label')\n",
    "testData = readData('test.data')\n",
    "testLabel = readLabel('test.label')\n",
    "trainMap = readMap('train.map')\n",
    "testMap = readMap('test.map')"
   ]
  },
  {
   "cell_type": "code",
   "execution_count": 5,
   "metadata": {
    "collapsed": true
   },
   "outputs": [],
   "source": [
    "with open(\"/Users/liuxiyun/Dropbox/Study/16fall/CSE250B/Hw2/vocabulary.txt\") as f:\n",
    "    vocabulary = [x.strip('\\n') for x in f.readlines()]"
   ]
  },
  {
   "cell_type": "code",
   "execution_count": 6,
   "metadata": {
    "collapsed": false
   },
   "outputs": [
    {
     "name": "stdout",
     "output_type": "stream",
     "text": [
      "11269 61188 20 7505\n"
     ]
    }
   ],
   "source": [
    "numDoc = len(trainLabel)\n",
    "numVoc = len(vocabulary)\n",
    "numClass = 20\n",
    "numTest = len(testLabel)\n",
    "print numDoc,numVoc,numClass,numTest"
   ]
  },
  {
   "cell_type": "code",
   "execution_count": 38,
   "metadata": {
    "collapsed": false
   },
   "outputs": [],
   "source": [
    "trainX = np.zeros((numDoc, numVoc))\n",
    "testX = np.zeros((len(testLabel), numVoc))\n",
    "for wordInfo in trainData:\n",
    "    trainX[wordInfo[0]-1][wordInfo[1]-1] = wordInfo[2]\n",
    "for wordInfo in testData:\n",
    "    testX[wordInfo[0]-1][wordInfo[1]-1] = wordInfo[2]"
   ]
  },
  {
   "cell_type": "code",
   "execution_count": 7,
   "metadata": {
    "collapsed": true
   },
   "outputs": [],
   "source": [
    "rawIdxList = [num for num in range(0,numVoc)]"
   ]
  },
  {
   "cell_type": "code",
   "execution_count": 8,
   "metadata": {
    "collapsed": false
   },
   "outputs": [],
   "source": [
    "pi = [trainLabel.count(label)*1.0/numDoc for label in range(1,21)]"
   ]
  },
  {
   "cell_type": "code",
   "execution_count": 13,
   "metadata": {
    "collapsed": false
   },
   "outputs": [],
   "source": [
    "# Get stop words' index \n",
    "stopWords = [str(x) for x in stopwords.words(\"english\")]\n",
    "stopWordsIdx = []\n",
    "for stopWords in stopWords:\n",
    "    if stopWords in set(vocabulary):\n",
    "        stopWordsIdx.append(vocabulary.index(stopWords))"
   ]
  },
  {
   "cell_type": "code",
   "execution_count": 85,
   "metadata": {
    "collapsed": false
   },
   "outputs": [],
   "source": [
    "# Pjw\n",
    "eachClassWordCount = np.ones((20,numVoc)) # 1 for smoothing\n",
    "for i in range(0,len(trainData)):\n",
    "    docId = trainData[i][0]\n",
    "    wordId = trainData[i][1]\n",
    "    wordCount = trainData[i][2]\n",
    "    docLabel = trainLabel[docId-1]\n",
    "    eachClassWordCount[docLabel-1][wordId-1] += wordCount\n",
    "numTotalWordCount = zip(np.sum(eachClassWordCount, axis = 0),rawIdxList)\n",
    "numTotalWordCount.sort(key = lambda x:x[0],reverse = True)\n",
    "topCountWordIdx = map(lambda x:x[1], numTotalWordCount)\n",
    "topCountWordIdxRemoveStop = filter(lambda x: x not in set(stopWordsIdx),topCountWordIdx)"
   ]
  },
  {
   "cell_type": "code",
   "execution_count": 86,
   "metadata": {
    "collapsed": false
   },
   "outputs": [],
   "source": [
    "def predictThisDoc(pjw,docWordCount):\n",
    "    maxProb = -sys.maxint - 1\n",
    "    guessClass = 0\n",
    "    logPi = np.log(pi)\n",
    "    logPjw = np.log(pjw)\n",
    "    for groupId in range(0, numClass):\n",
    "        p = logPi[groupId]\n",
    "        for word in range(0,len(docWordCount)):\n",
    "            p += docWordCount[word]*logPjw[groupId][word]\n",
    "        if p > maxProb:\n",
    "            maxProb = p\n",
    "            guessClass = groupId\n",
    "    return guessClass"
   ]
  },
  {
   "cell_type": "code",
   "execution_count": 97,
   "metadata": {
    "collapsed": false
   },
   "outputs": [],
   "source": [
    "def test(M):\n",
    "    filteredPJW, filteredTestX = generatePJWAndTestX(M, eachClassWordCount, testX[:100])\n",
    "    print len(filteredPJW[1])\n",
    "    error= 0\n",
    "    i = 0\n",
    "    for i in range(len(filteredTestX)):\n",
    "        predictLabel = predictThisDoc(filteredPJW, filteredTestX[i])\n",
    "        print predictLabel, testLabel[i]\n",
    "        if predictLabel!= testLabel[i]:\n",
    "            error += 1\n",
    "    error_rate = error* 1.0 / len(filteredTestX)\n",
    "    print \"M =\", M,\" error_rate:\" + str(error_rate)\n",
    "    return error_rate"
   ]
  },
  {
   "cell_type": "code",
   "execution_count": 98,
   "metadata": {
    "collapsed": false
   },
   "outputs": [
    {
     "name": "stdout",
     "output_type": "stream",
     "text": [
      "9863\n",
      "0 1\n",
      "0 1\n",
      "0 1\n",
      "15 1\n",
      "0 1\n",
      "0 1\n",
      "0 1\n",
      "0 1\n"
     ]
    },
    {
     "ename": "KeyboardInterrupt",
     "evalue": "",
     "output_type": "error",
     "traceback": [
      "\u001b[0;31m---------------------------------------------------------------------------\u001b[0m",
      "\u001b[0;31mKeyboardInterrupt\u001b[0m                         Traceback (most recent call last)",
      "\u001b[0;32m<ipython-input-98-73757ac3963b>\u001b[0m in \u001b[0;36m<module>\u001b[0;34m()\u001b[0m\n\u001b[0;32m----> 1\u001b[0;31m \u001b[0mtest\u001b[0m\u001b[0;34m(\u001b[0m\u001b[0;36m5000\u001b[0m\u001b[0;34m)\u001b[0m\u001b[0;34m\u001b[0m\u001b[0m\n\u001b[0m",
      "\u001b[0;32m<ipython-input-97-03b624a9d87e>\u001b[0m in \u001b[0;36mtest\u001b[0;34m(M)\u001b[0m\n\u001b[1;32m      5\u001b[0m     \u001b[0mi\u001b[0m \u001b[0;34m=\u001b[0m \u001b[0;36m0\u001b[0m\u001b[0;34m\u001b[0m\u001b[0m\n\u001b[1;32m      6\u001b[0m     \u001b[0;32mfor\u001b[0m \u001b[0mi\u001b[0m \u001b[0;32min\u001b[0m \u001b[0mrange\u001b[0m\u001b[0;34m(\u001b[0m\u001b[0mlen\u001b[0m\u001b[0;34m(\u001b[0m\u001b[0mfilteredTestX\u001b[0m\u001b[0;34m)\u001b[0m\u001b[0;34m)\u001b[0m\u001b[0;34m:\u001b[0m\u001b[0;34m\u001b[0m\u001b[0m\n\u001b[0;32m----> 7\u001b[0;31m         \u001b[0mpredictLabel\u001b[0m \u001b[0;34m=\u001b[0m \u001b[0mpredictThisDoc\u001b[0m\u001b[0;34m(\u001b[0m\u001b[0mfilteredPJW\u001b[0m\u001b[0;34m,\u001b[0m \u001b[0mfilteredTestX\u001b[0m\u001b[0;34m[\u001b[0m\u001b[0mi\u001b[0m\u001b[0;34m]\u001b[0m\u001b[0;34m)\u001b[0m\u001b[0;34m\u001b[0m\u001b[0m\n\u001b[0m\u001b[1;32m      8\u001b[0m         \u001b[0;32mprint\u001b[0m \u001b[0mpredictLabel\u001b[0m\u001b[0;34m,\u001b[0m \u001b[0mtestLabel\u001b[0m\u001b[0;34m[\u001b[0m\u001b[0mi\u001b[0m\u001b[0;34m]\u001b[0m\u001b[0;34m\u001b[0m\u001b[0m\n\u001b[1;32m      9\u001b[0m         \u001b[0;32mif\u001b[0m \u001b[0mpredictLabel\u001b[0m\u001b[0;34m!=\u001b[0m \u001b[0mtestLabel\u001b[0m\u001b[0;34m[\u001b[0m\u001b[0mi\u001b[0m\u001b[0;34m]\u001b[0m\u001b[0;34m:\u001b[0m\u001b[0;34m\u001b[0m\u001b[0m\n",
      "\u001b[0;32m<ipython-input-86-3e83acec434e>\u001b[0m in \u001b[0;36mpredictThisDoc\u001b[0;34m(pjw, docWordCount)\u001b[0m\n\u001b[1;32m      7\u001b[0m         \u001b[0mp\u001b[0m \u001b[0;34m=\u001b[0m \u001b[0mlogPi\u001b[0m\u001b[0;34m[\u001b[0m\u001b[0mgroupId\u001b[0m\u001b[0;34m]\u001b[0m\u001b[0;34m\u001b[0m\u001b[0m\n\u001b[1;32m      8\u001b[0m         \u001b[0;32mfor\u001b[0m \u001b[0mword\u001b[0m \u001b[0;32min\u001b[0m \u001b[0mrange\u001b[0m\u001b[0;34m(\u001b[0m\u001b[0;36m0\u001b[0m\u001b[0;34m,\u001b[0m\u001b[0mlen\u001b[0m\u001b[0;34m(\u001b[0m\u001b[0mdocWordCount\u001b[0m\u001b[0;34m)\u001b[0m\u001b[0;34m)\u001b[0m\u001b[0;34m:\u001b[0m\u001b[0;34m\u001b[0m\u001b[0m\n\u001b[0;32m----> 9\u001b[0;31m             \u001b[0mp\u001b[0m \u001b[0;34m+=\u001b[0m \u001b[0mdocWordCount\u001b[0m\u001b[0;34m[\u001b[0m\u001b[0mword\u001b[0m\u001b[0;34m]\u001b[0m\u001b[0;34m*\u001b[0m\u001b[0mlogPjw\u001b[0m\u001b[0;34m[\u001b[0m\u001b[0mgroupId\u001b[0m\u001b[0;34m]\u001b[0m\u001b[0;34m[\u001b[0m\u001b[0mword\u001b[0m\u001b[0;34m]\u001b[0m\u001b[0;34m\u001b[0m\u001b[0m\n\u001b[0m\u001b[1;32m     10\u001b[0m         \u001b[0;32mif\u001b[0m \u001b[0mp\u001b[0m \u001b[0;34m>\u001b[0m \u001b[0mmaxProb\u001b[0m\u001b[0;34m:\u001b[0m\u001b[0;34m\u001b[0m\u001b[0m\n\u001b[1;32m     11\u001b[0m             \u001b[0mmaxProb\u001b[0m \u001b[0;34m=\u001b[0m \u001b[0mp\u001b[0m\u001b[0;34m\u001b[0m\u001b[0m\n",
      "\u001b[0;31mKeyboardInterrupt\u001b[0m: "
     ]
    }
   ],
   "source": [
    "test(5000)"
   ]
  },
  {
   "cell_type": "code",
   "execution_count": 100,
   "metadata": {
    "collapsed": false
   },
   "outputs": [],
   "source": [
    "def generatePJWAndTestX(M, eachClassWordCount, testX):\n",
    "M= 100\n",
    "    randIdx = randomSubVocab(M)\n",
    "    idxRandomNeedRemove  = filter(lambda x: x not in set(randIdx), rawIdxList)\n",
    "    idxNeedRemove = list(set(idxRandomNeedRemove + stopWordsIdx))\n",
    "    filteredEachClassWordCount = np.delete(eachClassWordCount, idxNeedRemove, axis = 1)\n",
    "    filteredTestX = np.delete(testX, idxNeedRemove, axis = 1)\n",
    "\n",
    "    numWordInClass = np.sum(filteredEachClassWordCount, axis = 1)\n",
    "    pjw = np.log(1+filteredEachClassWordCount/numWordInClass[:,None])\n",
    "\n",
    "#     return pjw, filteredTestX"
   ]
  },
  {
   "cell_type": "code",
   "execution_count": 102,
   "metadata": {
    "collapsed": false
   },
   "outputs": [
    {
     "data": {
      "text/plain": [
       "(7505, 99)"
      ]
     },
     "execution_count": 102,
     "metadata": {},
     "output_type": "execute_result"
    }
   ],
   "source": [
    "filteredTestX.shape"
   ]
  },
  {
   "cell_type": "code",
   "execution_count": 94,
   "metadata": {
    "collapsed": false
   },
   "outputs": [],
   "source": [
    "def randomSubVocab(M):\n",
    "    randomIdx = random.sample(range(0, numVoc), M)\n",
    "    return randomIdx"
   ]
  },
  {
   "cell_type": "code",
   "execution_count": 339,
   "metadata": {
    "collapsed": false
   },
   "outputs": [
    {
     "ename": "KeyboardInterrupt",
     "evalue": "",
     "output_type": "error",
     "traceback": [
      "\u001b[0;31m---------------------------------------------------------------------------\u001b[0m",
      "\u001b[0;31mKeyboardInterrupt\u001b[0m                         Traceback (most recent call last)",
      "\u001b[0;32m<ipython-input-339-6e831fe351bb>\u001b[0m in \u001b[0;36m<module>\u001b[0;34m()\u001b[0m\n\u001b[1;32m      1\u001b[0m \u001b[0;31m# replace f with log(1+f)\u001b[0m\u001b[0;34m\u001b[0m\u001b[0;34m\u001b[0m\u001b[0m\n\u001b[1;32m      2\u001b[0m \u001b[0mM\u001b[0m \u001b[0;34m=\u001b[0m \u001b[0;36m5000\u001b[0m\u001b[0;34m\u001b[0m\u001b[0m\n\u001b[0;32m----> 3\u001b[0;31m \u001b[0mremovedPJW\u001b[0m\u001b[0;34m,\u001b[0m \u001b[0mremovedTest\u001b[0m \u001b[0;34m=\u001b[0m \u001b[0mremoveWordsFromPJWAndTestAndLog\u001b[0m\u001b[0;34m(\u001b[0m\u001b[0mM\u001b[0m\u001b[0;34m)\u001b[0m\u001b[0;34m\u001b[0m\u001b[0m\n\u001b[0m\u001b[1;32m      4\u001b[0m \u001b[0mtest\u001b[0m\u001b[0;34m(\u001b[0m\u001b[0mM\u001b[0m\u001b[0;34m,\u001b[0m\u001b[0mremovedPJW\u001b[0m\u001b[0;34m,\u001b[0m \u001b[0mremovedTest\u001b[0m\u001b[0;34m)\u001b[0m\u001b[0;34m\u001b[0m\u001b[0m\n",
      "\u001b[0;32m<ipython-input-338-7fc771966283>\u001b[0m in \u001b[0;36mremoveWordsFromPJWAndTestAndLog\u001b[0;34m(M, subsetIdx)\u001b[0m\n\u001b[1;32m      3\u001b[0m     \u001b[0midxNotInSubset\u001b[0m \u001b[0;34m=\u001b[0m \u001b[0mfilter\u001b[0m\u001b[0;34m(\u001b[0m\u001b[0;32mlambda\u001b[0m \u001b[0mnum\u001b[0m\u001b[0;34m:\u001b[0m \u001b[0mnum\u001b[0m \u001b[0;32mnot\u001b[0m \u001b[0;32min\u001b[0m \u001b[0mset\u001b[0m\u001b[0;34m(\u001b[0m\u001b[0msubsetIdx\u001b[0m\u001b[0;34m)\u001b[0m \u001b[0;32mand\u001b[0m \u001b[0mnum\u001b[0m \u001b[0;32mnot\u001b[0m \u001b[0;32min\u001b[0m \u001b[0mrandomIdx\u001b[0m\u001b[0;34m,\u001b[0m \u001b[0;34m[\u001b[0m\u001b[0mi\u001b[0m \u001b[0;32mfor\u001b[0m \u001b[0mi\u001b[0m \u001b[0;32min\u001b[0m \u001b[0mrange\u001b[0m\u001b[0;34m(\u001b[0m\u001b[0;36m0\u001b[0m\u001b[0;34m,\u001b[0m\u001b[0mnumVoc\u001b[0m\u001b[0;34m)\u001b[0m\u001b[0;34m]\u001b[0m\u001b[0;34m)\u001b[0m\u001b[0;34m\u001b[0m\u001b[0m\n\u001b[1;32m      4\u001b[0m     \u001b[0mupdatedPJW\u001b[0m \u001b[0;34m=\u001b[0m \u001b[0mnp\u001b[0m\u001b[0;34m.\u001b[0m\u001b[0mdelete\u001b[0m\u001b[0;34m(\u001b[0m\u001b[0mpjw\u001b[0m\u001b[0;34m,\u001b[0m \u001b[0midxNotInSubset\u001b[0m\u001b[0;34m,\u001b[0m \u001b[0maxis\u001b[0m \u001b[0;34m=\u001b[0m \u001b[0;36m1\u001b[0m\u001b[0;34m)\u001b[0m\u001b[0;34m\u001b[0m\u001b[0m\n\u001b[0;32m----> 5\u001b[0;31m     \u001b[0mupdatedTest\u001b[0m \u001b[0;34m=\u001b[0m \u001b[0mfilter\u001b[0m\u001b[0;34m(\u001b[0m\u001b[0;32mlambda\u001b[0m \u001b[0mwordInfo\u001b[0m\u001b[0;34m:\u001b[0m \u001b[0mwordInfo\u001b[0m\u001b[0;34m[\u001b[0m\u001b[0;36m1\u001b[0m\u001b[0;34m]\u001b[0m \u001b[0;32mnot\u001b[0m \u001b[0;32min\u001b[0m \u001b[0mset\u001b[0m\u001b[0;34m(\u001b[0m\u001b[0midxNotInSubset\u001b[0m\u001b[0;34m)\u001b[0m\u001b[0;34m,\u001b[0m\u001b[0mtestData\u001b[0m\u001b[0;34m)\u001b[0m\u001b[0;34m\u001b[0m\u001b[0m\n\u001b[0m\u001b[1;32m      6\u001b[0m     \u001b[0mupdatedPJW\u001b[0m \u001b[0;34m=\u001b[0m \u001b[0mnp\u001b[0m\u001b[0;34m.\u001b[0m\u001b[0mlog2\u001b[0m\u001b[0;34m(\u001b[0m\u001b[0;36m1\u001b[0m\u001b[0;34m+\u001b[0m\u001b[0mupdatedPJW\u001b[0m\u001b[0;34m)\u001b[0m\u001b[0;34m\u001b[0m\u001b[0m\n\u001b[1;32m      7\u001b[0m     \u001b[0;32mreturn\u001b[0m \u001b[0mupdatedPJW\u001b[0m\u001b[0;34m,\u001b[0m\u001b[0mupdatedTest\u001b[0m\u001b[0;34m\u001b[0m\u001b[0m\n",
      "\u001b[0;32m<ipython-input-338-7fc771966283>\u001b[0m in \u001b[0;36m<lambda>\u001b[0;34m(wordInfo)\u001b[0m\n\u001b[1;32m      3\u001b[0m     \u001b[0midxNotInSubset\u001b[0m \u001b[0;34m=\u001b[0m \u001b[0mfilter\u001b[0m\u001b[0;34m(\u001b[0m\u001b[0;32mlambda\u001b[0m \u001b[0mnum\u001b[0m\u001b[0;34m:\u001b[0m \u001b[0mnum\u001b[0m \u001b[0;32mnot\u001b[0m \u001b[0;32min\u001b[0m \u001b[0mset\u001b[0m\u001b[0;34m(\u001b[0m\u001b[0msubsetIdx\u001b[0m\u001b[0;34m)\u001b[0m \u001b[0;32mand\u001b[0m \u001b[0mnum\u001b[0m \u001b[0;32mnot\u001b[0m \u001b[0;32min\u001b[0m \u001b[0mrandomIdx\u001b[0m\u001b[0;34m,\u001b[0m \u001b[0;34m[\u001b[0m\u001b[0mi\u001b[0m \u001b[0;32mfor\u001b[0m \u001b[0mi\u001b[0m \u001b[0;32min\u001b[0m \u001b[0mrange\u001b[0m\u001b[0;34m(\u001b[0m\u001b[0;36m0\u001b[0m\u001b[0;34m,\u001b[0m\u001b[0mnumVoc\u001b[0m\u001b[0;34m)\u001b[0m\u001b[0;34m]\u001b[0m\u001b[0;34m)\u001b[0m\u001b[0;34m\u001b[0m\u001b[0m\n\u001b[1;32m      4\u001b[0m     \u001b[0mupdatedPJW\u001b[0m \u001b[0;34m=\u001b[0m \u001b[0mnp\u001b[0m\u001b[0;34m.\u001b[0m\u001b[0mdelete\u001b[0m\u001b[0;34m(\u001b[0m\u001b[0mpjw\u001b[0m\u001b[0;34m,\u001b[0m \u001b[0midxNotInSubset\u001b[0m\u001b[0;34m,\u001b[0m \u001b[0maxis\u001b[0m \u001b[0;34m=\u001b[0m \u001b[0;36m1\u001b[0m\u001b[0;34m)\u001b[0m\u001b[0;34m\u001b[0m\u001b[0m\n\u001b[0;32m----> 5\u001b[0;31m     \u001b[0mupdatedTest\u001b[0m \u001b[0;34m=\u001b[0m \u001b[0mfilter\u001b[0m\u001b[0;34m(\u001b[0m\u001b[0;32mlambda\u001b[0m \u001b[0mwordInfo\u001b[0m\u001b[0;34m:\u001b[0m \u001b[0mwordInfo\u001b[0m\u001b[0;34m[\u001b[0m\u001b[0;36m1\u001b[0m\u001b[0;34m]\u001b[0m \u001b[0;32mnot\u001b[0m \u001b[0;32min\u001b[0m \u001b[0mset\u001b[0m\u001b[0;34m(\u001b[0m\u001b[0midxNotInSubset\u001b[0m\u001b[0;34m)\u001b[0m\u001b[0;34m,\u001b[0m\u001b[0mtestData\u001b[0m\u001b[0;34m)\u001b[0m\u001b[0;34m\u001b[0m\u001b[0m\n\u001b[0m\u001b[1;32m      6\u001b[0m     \u001b[0mupdatedPJW\u001b[0m \u001b[0;34m=\u001b[0m \u001b[0mnp\u001b[0m\u001b[0;34m.\u001b[0m\u001b[0mlog2\u001b[0m\u001b[0;34m(\u001b[0m\u001b[0;36m1\u001b[0m\u001b[0;34m+\u001b[0m\u001b[0mupdatedPJW\u001b[0m\u001b[0;34m)\u001b[0m\u001b[0;34m\u001b[0m\u001b[0m\n\u001b[1;32m      7\u001b[0m     \u001b[0;32mreturn\u001b[0m \u001b[0mupdatedPJW\u001b[0m\u001b[0;34m,\u001b[0m\u001b[0mupdatedTest\u001b[0m\u001b[0;34m\u001b[0m\u001b[0m\n",
      "\u001b[0;31mKeyboardInterrupt\u001b[0m: "
     ]
    }
   ],
   "source": [
    "# replace f with log(1+f)\n",
    "M = 5000\n",
    "removedPJW, removedTest = removeWordsFromPJWAndTestAndLog(M)\n",
    "test(M,removedPJW, removedTest)"
   ]
  },
  {
   "cell_type": "code",
   "execution_count": null,
   "metadata": {
    "collapsed": true
   },
   "outputs": [],
   "source": [
    "# replace f with log(1+f)\n",
    "M = 10000\n",
    "removedPJW, removedTest = removeWordsFromPJWAndTestAndLog(M)\n",
    "test(M,removedPJW, removedTest)"
   ]
  },
  {
   "cell_type": "code",
   "execution_count": 183,
   "metadata": {
    "collapsed": false
   },
   "outputs": [
    {
     "name": "stdout",
     "output_type": "stream",
     "text": [
      "M = 61188  error_rate:0.21894989339\n"
     ]
    },
    {
     "data": {
      "text/plain": [
       "0.21894989339019189"
      ]
     },
     "execution_count": 183,
     "metadata": {},
     "output_type": "execute_result"
    }
   ],
   "source": [
    "# Full vocab\n",
    "test(numVoc)"
   ]
  },
  {
   "cell_type": "code",
   "execution_count": 301,
   "metadata": {
    "collapsed": false
   },
   "outputs": [],
   "source": [
    "def getNewX(removedIdx, train = trainX, test = testX):\n",
    "    newTrainX = np.delete(train, removedIdx, axis = 1)\n",
    "    newTestX = np.delete(test, removedIdx, axis = 1)\n",
    "    return newTrainX, newTestX\n",
    "\n",
    "def randomSubVocIdx(M, fullIdx):\n",
    "    randomIdx = random.sample(range(0, len(fullIdx)), M)\n",
    "    subsetIdxList = [fullIdx[i] for i in randomIdx]\n",
    "    return subsetIdxList"
   ]
  },
  {
   "cell_type": "code",
   "execution_count": null,
   "metadata": {
    "collapsed": true
   },
   "outputs": [],
   "source": [
    "def testUsingLib(trainX,testX,M):\n",
    "    clf = MultinomialNB()\n",
    "    clf.fit(trainX,np.array(trainLabel))#Target values.\n",
    "    MultinomialNB(alpha=1.0, class_prior=pi, fit_prior=False)\n",
    "    predictLabel = clf.predict(testX)\n",
    "    errorRate = len(filter(lambda x: x[0] != x[1],zip(predictLabel,testLabel)))*1.0/numTest\n",
    "    print \"M = \", M, \" error rate:\",errorRate\n",
    "    return errorRate"
   ]
  },
  {
   "cell_type": "code",
   "execution_count": 230,
   "metadata": {
    "collapsed": false
   },
   "outputs": [
    {
     "name": "stdout",
     "output_type": "stream",
     "text": [
      "M =  full with stop words  error rate: 0.21892071952\n"
     ]
    },
    {
     "data": {
      "text/plain": [
       "(array([ 1,  1,  1, ...,  1, 16,  2]), 0.21892071952031977)"
      ]
     },
     "execution_count": 230,
     "metadata": {},
     "output_type": "execute_result"
    }
   ],
   "source": [
    "testUsingLib(trainX,testX,'full with stop words')"
   ]
  },
  {
   "cell_type": "code",
   "execution_count": 232,
   "metadata": {
    "collapsed": false
   },
   "outputs": [
    {
     "name": "stdout",
     "output_type": "stream",
     "text": [
      "M =  full without stop words  error rate: 0.199200532978\n"
     ]
    },
    {
     "data": {
      "text/plain": [
       "(array([ 1,  1,  1, ...,  1, 16,  2]), 0.19920053297801465)"
      ]
     },
     "execution_count": 232,
     "metadata": {},
     "output_type": "execute_result"
    }
   ],
   "source": [
    "newTrainX, newTestX = getNewX(stopWordsIdx)\n",
    "testUsingLib(newTrainX,newTestX, 'full without stop words')"
   ]
  },
  {
   "cell_type": "code",
   "execution_count": 311,
   "metadata": {
    "collapsed": false
   },
   "outputs": [],
   "source": [
    "def randomSelectSubsetTest(M, trainX = trainX,testX = testX):\n",
    "    idxWithoutStopWords = filter(lambda x: x not in stopWordsIdx, [i for i in range(0,numVoc)])\n",
    "    randomIdx = set(randomSubVocIdx(M, [i for i in range(0,numVoc)]))\n",
    "    idxNeedRemove = filter(lambda x: x not in randomIdx, [i for i in range(0,numVoc)])\n",
    "    newTrainX, newTestX = getNewX(idxNeedRemove,trainX,testX)\n",
    "    return testUsingLib(newTrainX,newTestX, M)"
   ]
  },
  {
   "cell_type": "code",
   "execution_count": 308,
   "metadata": {
    "collapsed": false
   },
   "outputs": [
    {
     "ename": "KeyboardInterrupt",
     "evalue": "",
     "output_type": "error",
     "traceback": [
      "\u001b[0;31m---------------------------------------------------------------------------\u001b[0m",
      "\u001b[0;31mKeyboardInterrupt\u001b[0m                         Traceback (most recent call last)",
      "\u001b[0;32m<ipython-input-308-f786b574efb5>\u001b[0m in \u001b[0;36m<module>\u001b[0;34m()\u001b[0m\n\u001b[1;32m      1\u001b[0m \u001b[0mrandomTwo\u001b[0m \u001b[0;34m=\u001b[0m \u001b[0;34m[\u001b[0m\u001b[0;34m]\u001b[0m\u001b[0;34m\u001b[0m\u001b[0m\n\u001b[1;32m      2\u001b[0m \u001b[0;32mfor\u001b[0m \u001b[0mi\u001b[0m \u001b[0;32min\u001b[0m \u001b[0mrange\u001b[0m\u001b[0;34m(\u001b[0m\u001b[0;36m0\u001b[0m\u001b[0;34m,\u001b[0m\u001b[0;36m10\u001b[0m\u001b[0;34m)\u001b[0m\u001b[0;34m:\u001b[0m\u001b[0;34m\u001b[0m\u001b[0m\n\u001b[0;32m----> 3\u001b[0;31m     \u001b[0mrandomTwo\u001b[0m\u001b[0;34m.\u001b[0m\u001b[0mappend\u001b[0m\u001b[0;34m(\u001b[0m\u001b[0mrandomSelectSubsetTest\u001b[0m\u001b[0;34m(\u001b[0m\u001b[0;36m20000\u001b[0m\u001b[0;34m)\u001b[0m\u001b[0;34m)\u001b[0m\u001b[0;34m\u001b[0m\u001b[0m\n\u001b[0m",
      "\u001b[0;32m<ipython-input-306-d85c25393dc5>\u001b[0m in \u001b[0;36mrandomSelectSubsetTest\u001b[0;34m(M, trainX, testX)\u001b[0m\n\u001b[1;32m      3\u001b[0m     \u001b[0mrandomIdx\u001b[0m \u001b[0;34m=\u001b[0m \u001b[0mset\u001b[0m\u001b[0;34m(\u001b[0m\u001b[0mrandomSubVocIdx\u001b[0m\u001b[0;34m(\u001b[0m\u001b[0mM\u001b[0m\u001b[0;34m,\u001b[0m \u001b[0;34m[\u001b[0m\u001b[0mi\u001b[0m \u001b[0;32mfor\u001b[0m \u001b[0mi\u001b[0m \u001b[0;32min\u001b[0m \u001b[0mrange\u001b[0m\u001b[0;34m(\u001b[0m\u001b[0;36m0\u001b[0m\u001b[0;34m,\u001b[0m\u001b[0mnumVoc\u001b[0m\u001b[0;34m)\u001b[0m\u001b[0;34m]\u001b[0m\u001b[0;34m)\u001b[0m\u001b[0;34m)\u001b[0m\u001b[0;34m\u001b[0m\u001b[0m\n\u001b[1;32m      4\u001b[0m     \u001b[0midxNeedRemove\u001b[0m \u001b[0;34m=\u001b[0m \u001b[0mfilter\u001b[0m\u001b[0;34m(\u001b[0m\u001b[0;32mlambda\u001b[0m \u001b[0mx\u001b[0m\u001b[0;34m:\u001b[0m \u001b[0mx\u001b[0m \u001b[0;32mnot\u001b[0m \u001b[0;32min\u001b[0m \u001b[0mrandomIdx\u001b[0m\u001b[0;34m,\u001b[0m \u001b[0;34m[\u001b[0m\u001b[0mi\u001b[0m \u001b[0;32mfor\u001b[0m \u001b[0mi\u001b[0m \u001b[0;32min\u001b[0m \u001b[0mrange\u001b[0m\u001b[0;34m(\u001b[0m\u001b[0;36m0\u001b[0m\u001b[0;34m,\u001b[0m\u001b[0mnumVoc\u001b[0m\u001b[0;34m)\u001b[0m\u001b[0;34m]\u001b[0m\u001b[0;34m)\u001b[0m\u001b[0;34m\u001b[0m\u001b[0m\n\u001b[0;32m----> 5\u001b[0;31m     \u001b[0mnewTrainX\u001b[0m\u001b[0;34m,\u001b[0m \u001b[0mnewTestX\u001b[0m \u001b[0;34m=\u001b[0m \u001b[0mgetNewX\u001b[0m\u001b[0;34m(\u001b[0m\u001b[0midxNeedRemove\u001b[0m\u001b[0;34m,\u001b[0m\u001b[0mtrainX\u001b[0m\u001b[0;34m,\u001b[0m\u001b[0mtestX\u001b[0m\u001b[0;34m)\u001b[0m\u001b[0;34m\u001b[0m\u001b[0m\n\u001b[0m\u001b[1;32m      6\u001b[0m     \u001b[0mtestUsingLib\u001b[0m\u001b[0;34m(\u001b[0m\u001b[0mnewTrainX\u001b[0m\u001b[0;34m,\u001b[0m\u001b[0mnewTestX\u001b[0m\u001b[0;34m,\u001b[0m \u001b[0mM\u001b[0m\u001b[0;34m)\u001b[0m\u001b[0;34m\u001b[0m\u001b[0m\n",
      "\u001b[0;32m<ipython-input-301-f4c0569839a4>\u001b[0m in \u001b[0;36mgetNewX\u001b[0;34m(removedIdx, train, test)\u001b[0m\n\u001b[1;32m      1\u001b[0m \u001b[0;32mdef\u001b[0m \u001b[0mgetNewX\u001b[0m\u001b[0;34m(\u001b[0m\u001b[0mremovedIdx\u001b[0m\u001b[0;34m,\u001b[0m \u001b[0mtrain\u001b[0m \u001b[0;34m=\u001b[0m \u001b[0mtrainX\u001b[0m\u001b[0;34m,\u001b[0m \u001b[0mtest\u001b[0m \u001b[0;34m=\u001b[0m \u001b[0mtestX\u001b[0m\u001b[0;34m)\u001b[0m\u001b[0;34m:\u001b[0m\u001b[0;34m\u001b[0m\u001b[0m\n\u001b[0;32m----> 2\u001b[0;31m     \u001b[0mnewTrainX\u001b[0m \u001b[0;34m=\u001b[0m \u001b[0mnp\u001b[0m\u001b[0;34m.\u001b[0m\u001b[0mdelete\u001b[0m\u001b[0;34m(\u001b[0m\u001b[0mtrain\u001b[0m\u001b[0;34m,\u001b[0m \u001b[0mremovedIdx\u001b[0m\u001b[0;34m,\u001b[0m \u001b[0maxis\u001b[0m \u001b[0;34m=\u001b[0m \u001b[0;36m1\u001b[0m\u001b[0;34m)\u001b[0m\u001b[0;34m\u001b[0m\u001b[0m\n\u001b[0m\u001b[1;32m      3\u001b[0m     \u001b[0mnewTestX\u001b[0m \u001b[0;34m=\u001b[0m \u001b[0mnp\u001b[0m\u001b[0;34m.\u001b[0m\u001b[0mdelete\u001b[0m\u001b[0;34m(\u001b[0m\u001b[0mtest\u001b[0m\u001b[0;34m,\u001b[0m \u001b[0mremovedIdx\u001b[0m\u001b[0;34m,\u001b[0m \u001b[0maxis\u001b[0m \u001b[0;34m=\u001b[0m \u001b[0;36m1\u001b[0m\u001b[0;34m)\u001b[0m\u001b[0;34m\u001b[0m\u001b[0m\n\u001b[1;32m      4\u001b[0m     \u001b[0;32mreturn\u001b[0m \u001b[0mnewTrainX\u001b[0m\u001b[0;34m,\u001b[0m \u001b[0mnewTestX\u001b[0m\u001b[0;34m\u001b[0m\u001b[0m\n\u001b[1;32m      5\u001b[0m \u001b[0;34m\u001b[0m\u001b[0m\n",
      "\u001b[0;32m/Library/Frameworks/Python.framework/Versions/2.7/lib/python2.7/site-packages/numpy-1.10.4-py2.7-macosx-10.6-intel.egg/numpy/lib/function_base.pyc\u001b[0m in \u001b[0;36mdelete\u001b[0;34m(arr, obj, axis)\u001b[0m\n\u001b[1;32m   3878\u001b[0m         \u001b[0mkeep\u001b[0m\u001b[0;34m[\u001b[0m\u001b[0mobj\u001b[0m\u001b[0;34m,\u001b[0m \u001b[0;34m]\u001b[0m \u001b[0;34m=\u001b[0m \u001b[0mFalse\u001b[0m\u001b[0;34m\u001b[0m\u001b[0m\n\u001b[1;32m   3879\u001b[0m         \u001b[0mslobj\u001b[0m\u001b[0;34m[\u001b[0m\u001b[0maxis\u001b[0m\u001b[0;34m]\u001b[0m \u001b[0;34m=\u001b[0m \u001b[0mkeep\u001b[0m\u001b[0;34m\u001b[0m\u001b[0m\n\u001b[0;32m-> 3880\u001b[0;31m         \u001b[0mnew\u001b[0m \u001b[0;34m=\u001b[0m \u001b[0marr\u001b[0m\u001b[0;34m[\u001b[0m\u001b[0mslobj\u001b[0m\u001b[0;34m]\u001b[0m\u001b[0;34m\u001b[0m\u001b[0m\n\u001b[0m\u001b[1;32m   3881\u001b[0m \u001b[0;34m\u001b[0m\u001b[0m\n\u001b[1;32m   3882\u001b[0m     \u001b[0;32mif\u001b[0m \u001b[0mwrap\u001b[0m\u001b[0;34m:\u001b[0m\u001b[0;34m\u001b[0m\u001b[0m\n",
      "\u001b[0;31mKeyboardInterrupt\u001b[0m: "
     ]
    }
   ],
   "source": [
    "randomTwentyThousand = []\n",
    "for i in range(0,10):\n",
    "    randomTwentyThousand.append(randomSelectSubsetTest(20000))"
   ]
  },
  {
   "cell_type": "code",
   "execution_count": null,
   "metadata": {
    "collapsed": false
   },
   "outputs": [],
   "source": [
    "randomTenThousand = []\n",
    "for i in range(0,10):\n",
    "    randomTenThousand.append(randomSelectSubsetTest(10000))\n",
    "print np.mean(randomTenThousand)\n",
    "print np.std(randomTenThousand)"
   ]
  },
  {
   "cell_type": "code",
   "execution_count": 328,
   "metadata": {
    "collapsed": false
   },
   "outputs": [],
   "source": [
    "randomFiveThousand = [0.5530979347,0.559360426382,0.520319786809,0.549500333111,0.518854097268,0.543904063957,0.552831445703,0.550566289141,0.547501665556,0.541372418388]\n",
    "# for i in range(0,10):\n",
    "#     randomFiveThousand.append(randomSelectSubsetTest(5000))"
   ]
  },
  {
   "cell_type": "code",
   "execution_count": 330,
   "metadata": {
    "collapsed": false
   },
   "outputs": [
    {
     "name": "stdout",
     "output_type": "stream",
     "text": [
      "0.543730846102\n",
      "0.0129676478143\n"
     ]
    }
   ],
   "source": [
    "print np.mean(randomFiveThousand)\n",
    "print np.std(randomFiveThousand)"
   ]
  },
  {
   "cell_type": "code",
   "execution_count": 284,
   "metadata": {
    "collapsed": false
   },
   "outputs": [],
   "source": [
    "pjwStd = []\n",
    "pjwMean = []\n",
    "for i in range(0,numVoc):\n",
    "    pjwStd.append(np.std(pjw[:,i]))\n",
    "    pjwMean.append(np.mean(pjw[:,i]))"
   ]
  },
  {
   "cell_type": "code",
   "execution_count": 279,
   "metadata": {
    "collapsed": false
   },
   "outputs": [],
   "source": [
    "stdWithIdx = zip(pjwStd,rawIdxList)\n",
    "stdWithIdx.sort(key = lambda x: x[0])\n",
    "stdWithIdx = filter(lambda x: x[1] not in set(stopWordsIdx),stdWithIdx)"
   ]
  },
  {
   "cell_type": "code",
   "execution_count": 280,
   "metadata": {
    "collapsed": true
   },
   "outputs": [],
   "source": [
    "def selectSubsetByStd(M):\n",
    "    subsetIdx = map(lambda (std,idx): idx, stdWithIdx)[:M]\n",
    "    idxNeedRemove = filter(lambda x: x not in subsetIdx, [i for i in range(0,numVoc)])\n",
    "    newTrainX, newTestX = getNewX(idxNeedRemove)\n",
    "    testUsingLib(newTrainX,newTestX, M)"
   ]
  },
  {
   "cell_type": "code",
   "execution_count": 282,
   "metadata": {
    "collapsed": false
   },
   "outputs": [
    {
     "name": "stdout",
     "output_type": "stream",
     "text": [
      "M =  20000  error rate: 0.701132578281\n"
     ]
    }
   ],
   "source": [
    "selectSubsetByStd(20000)"
   ]
  },
  {
   "cell_type": "code",
   "execution_count": 286,
   "metadata": {
    "collapsed": false
   },
   "outputs": [
    {
     "data": {
      "text/plain": [
       "0.034637029928602091"
      ]
     },
     "execution_count": 286,
     "metadata": {},
     "output_type": "execute_result"
    }
   ],
   "source": [
    "np.max(pjwMean)"
   ]
  },
  {
   "cell_type": "code",
   "execution_count": 297,
   "metadata": {
    "collapsed": false
   },
   "outputs": [],
   "source": [
    "logTrainX = np.log2(trainX+1)\n",
    "logTestX = np.log2(testX+1)"
   ]
  },
  {
   "cell_type": "code",
   "execution_count": 303,
   "metadata": {
    "collapsed": false
   },
   "outputs": [
    {
     "name": "stdout",
     "output_type": "stream",
     "text": [
      "M =  20000  error rate: 0.301265822785\n"
     ]
    }
   ],
   "source": [
    "randomSelectSubsetTest(20000,logTrainX,logTestX)"
   ]
  },
  {
   "cell_type": "code",
   "execution_count": 304,
   "metadata": {
    "collapsed": false
   },
   "outputs": [
    {
     "name": "stdout",
     "output_type": "stream",
     "text": [
      "M =  10000  error rate: 0.38654230513\n"
     ]
    }
   ],
   "source": [
    "randomSelectSubsetTest(10000,logTrainX,logTestX)"
   ]
  },
  {
   "cell_type": "code",
   "execution_count": 305,
   "metadata": {
    "collapsed": false
   },
   "outputs": [
    {
     "name": "stdout",
     "output_type": "stream",
     "text": [
      "M =  5000  error rate: 0.532311792139\n"
     ]
    }
   ],
   "source": [
    "randomSelectSubsetTest(5000,logTrainX,logTestX)"
   ]
  },
  {
   "cell_type": "code",
   "execution_count": 69,
   "metadata": {
    "collapsed": false
   },
   "outputs": [
    {
     "data": {
      "text/plain": [
       "array([[1, 2]])"
      ]
     },
     "execution_count": 69,
     "metadata": {},
     "output_type": "execute_result"
    }
   ],
   "source": [
    "a = np.array([[1,2],[3,4]])\n",
    "a[:1]"
   ]
  },
  {
   "cell_type": "code",
   "execution_count": null,
   "metadata": {
    "collapsed": true
   },
   "outputs": [],
   "source": []
  }
 ],
 "metadata": {
  "kernelspec": {
   "display_name": "Python 2",
   "language": "python",
   "name": "python2"
  },
  "language_info": {
   "codemirror_mode": {
    "name": "ipython",
    "version": 2
   },
   "file_extension": ".py",
   "mimetype": "text/x-python",
   "name": "python",
   "nbconvert_exporter": "python",
   "pygments_lexer": "ipython2",
   "version": "2.7.10"
  }
 },
 "nbformat": 4,
 "nbformat_minor": 0
}
