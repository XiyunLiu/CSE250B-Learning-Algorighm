{
 "cells": [
  {
   "cell_type": "code",
   "execution_count": 1,
   "metadata": {
    "collapsed": true
   },
   "outputs": [],
   "source": [
    "%matplotlib inline"
   ]
  },
  {
   "cell_type": "code",
   "execution_count": 2,
   "metadata": {
    "collapsed": true
   },
   "outputs": [],
   "source": [
    "import numpy as np\n",
    "import math\n",
    "from random import shuffle\n",
    "import random\n",
    "import numpy as np\n",
    "import matplotlib.pyplot as plt\n",
    "from sklearn import metrics, linear_model, datasets, preprocessing"
   ]
  },
  {
   "cell_type": "code",
   "execution_count": 5,
   "metadata": {
    "collapsed": false
   },
   "outputs": [],
   "source": [
    "with open('wine.data.txt') as f:\n",
    "    content = [[float(x) for x in line.strip().split(',')] for line in f.readlines()]\n",
    "shuffle(content)\n",
    "trainingLabel = map(lambda x : x[0], content[:128])\n",
    "trainingData = np.array(map(lambda x : x[1:]+[1], content[:128]))\n",
    "testLabel = map(lambda x : x[0], content[128:])\n",
    "testData = np.array(map(lambda x : x[1:]+[1], content[128:]))\n",
    "# Nomalize\n",
    "trainingData = trainingData/np.max(trainingData,0)\n",
    "testData = testData/np.max(testData,0)"
   ]
  },
  {
   "cell_type": "code",
   "execution_count": 6,
   "metadata": {
    "collapsed": false
   },
   "outputs": [
    {
     "name": "stdout",
     "output_type": "stream",
     "text": [
      "0.04\n"
     ]
    }
   ],
   "source": [
    "# Using sklearn to do standard logistic regression\n",
    "logreg = linear_model.LogisticRegression(C = 1e5, solver = 'lbfgs', multi_class = 'multinomial')\n",
    "logreg.fit(trainingData,trainingLabel)\n",
    "Z = logreg.predict(testData)\n",
    "errorRate = len(filter(lambda x: x[0] != x[1], zip(Z,testLabel)))*1.0/len(Z)\n",
    "print errorRate"
   ]
  },
  {
   "cell_type": "code",
   "execution_count": 7,
   "metadata": {
    "collapsed": false
   },
   "outputs": [
    {
     "data": {
      "text/plain": [
       "19.027975112805155"
      ]
     },
     "execution_count": 7,
     "metadata": {},
     "output_type": "execute_result"
    }
   ],
   "source": [
    "# Final optimal loss L*\n",
    "predictProb = logreg.predict_proba(trainingData)\n",
    "metrics.log_loss(trainingLabel,predictProb)*len(trainingData)"
   ]
  },
  {
   "cell_type": "code",
   "execution_count": 8,
   "metadata": {
    "collapsed": false
   },
   "outputs": [],
   "source": [
    "def plotUpdate(batch, first, second, third, title, ylabel):\n",
    "    inOrder, = plt.plot([i*batch for i in range(0,len(first))], first)\n",
    "    random, = plt.plot([i*batch for i in range(0,len(second))], second)\n",
    "    oneByOne, = plt.plot([i*batch for i in range(0,len(second))], third)\n",
    "    plt.xlabel('t')\n",
    "    plt.ylabel(ylabel)\n",
    "    plt.title(title)\n",
    "    plt.legend([inOrder, random, oneByOne], ['in-order-feature coordinate descent', 'random-feature coordinate descent', 'one-by-one-feature coordinate descent'])\n",
    "    plt.grid(True)"
   ]
  },
  {
   "cell_type": "code",
   "execution_count": 9,
   "metadata": {
    "collapsed": false
   },
   "outputs": [],
   "source": [
    "class CoordinateDescent():\n",
    "    def __init__(self):\n",
    "        self.coef_ = np.zeros((3,14))\n",
    "        self.numClass = 0\n",
    "        self.numFeature = 0\n",
    "        self.lossPath = []\n",
    "        self.errorPath = []\n",
    "        self.numIter = 3e5\n",
    "        self.stepSize = 5e-5\n",
    "        \n",
    "    def calculateLoss(self, coeff, X, y):\n",
    "        '''\n",
    "        X: training data np.array(num_Sample, num_feature)\n",
    "        y: training label np.array(num_Sample)\n",
    "        '''\n",
    "        loss = 0\n",
    "        for i in range(0,len(X)):\n",
    "            loss -= np.dot(X[i], coeff[int(y[i])-1])\n",
    "            loss += np.log(np.exp(np.dot(X[i], coeff[0]))+np.exp(np.dot(X[i], coeff[1]))+np.exp(np.dot(X[i], coeff[2])))\n",
    "        return loss\n",
    "    \n",
    "    def calculateDerivative(self, j, k, coeff, X, y):\n",
    "        '''\n",
    "        j: class number\n",
    "        k: feature number\n",
    "        '''\n",
    "        derivative = 0\n",
    "        for i in range(len(X)):        \n",
    "            if int(y[i])-1 == j:\n",
    "                derivative -= X[i][k]\n",
    "            totalExp = np.exp(np.dot(X[i], coeff[0])) + np.exp(np.dot(X[i], coeff[1])) + np.exp(np.dot(X[i], coeff[2]))\n",
    "            derivative += X[i][k] * np.exp(np.dot(X[i], coeff[j])) / totalExp\n",
    "        return derivative\n",
    "    \n",
    "    def fit(self, trainingData, trainingLabel, testData, testLabel, randomize = False, warmStart = False, naive = False, batch = 100):\n",
    "        '''\n",
    "        randomize: randomly choose coordinate to do gradient descent\n",
    "        warmStart: if True, don't reset coefficients all to zeros\n",
    "        '''\n",
    "        self.numClass = 3\n",
    "        self.numFeature = len(trainingData[0])\n",
    "        if naive:\n",
    "            self.naiveCoordinateDescent(trainingData, trainingLabel, testData, testLabel, warmStart, batch)\n",
    "        elif not randomize:\n",
    "            self.inOrderCoordinateDescent(trainingData, trainingLabel, testData, testLabel, warmStart, batch)\n",
    "        else:\n",
    "            self.randomCoordinateDescent(trainingData, trainingLabel, testData, testLabel, warmStart, batch)\n",
    "            \n",
    "    def naiveCoordinateDescent(self, X, y, testData, testLabel, warmStart, batch):\n",
    "        '''\n",
    "        X: training data np.array(num_Sample, num_feature)\n",
    "        y: training label np.array(num_Sample)\n",
    "        '''\n",
    "        if not warmStart:\n",
    "            self.coef_ = np.zeros((3,14))\n",
    "        numIter = 0\n",
    "        while numIter <= self.numIter:\n",
    "            for k in range(0, self.numFeature):\n",
    "                for j in range(0, self.numClass):\n",
    "                    # Update self.coef_[j][k] using gradient descent\n",
    "                    self.coef_[j][k] -= self.stepSize * self.calculateDerivative(j, k, self.coef_, X, y)\n",
    "                    numIter += 1\n",
    "                    if numIter % batch == 0:\n",
    "                        self.lossPath.append(self.calculateLoss(self.coef_, X, y))\n",
    "                        self.errorPath.append(self.test(self.coef_, testData, testLabel))\n",
    "                    if numIter % 1000 == 0:\n",
    "                        print numIter,\n",
    "                        \n",
    "    def inOrderCoordinateDescent(self, X, y, testData, testLabel, warmStart, batch):\n",
    "        '''\n",
    "        X: training data np.array(num_Sample, num_feature)\n",
    "        y: training label np.array(num_Sample)\n",
    "        '''\n",
    "        allSet = False\n",
    "        if not warmStart:\n",
    "            self.coef_ = np.zeros((3,14))\n",
    "        numIter = 0\n",
    "        j,k = 0,0\n",
    "        lossChange = np.zeros(14)\n",
    "        postLoss = self.calculateLoss(self.coef_, X, y)\n",
    "        while numIter <= self.numIter:\n",
    "            preLoss = postLoss\n",
    "            # Update self.coef_[j][k] using gradient descent\n",
    "            for j in range(0,3):\n",
    "                self.coef_[j][k] -= self.stepSize * self.calculateDerivative(j, k, self.coef_, X, y)\n",
    "                numIter += 1\n",
    "                if numIter % batch == 0:\n",
    "                    self.lossPath.append(self.calculateLoss(self.coef_, X, y))\n",
    "                    self.errorPath.append(self.test(self.coef_, testData, testLabel))\n",
    "                if numIter % 1000 == 0:\n",
    "                    print numIter,\n",
    "            postLoss = self.calculateLoss(self.coef_, X, y)\n",
    "            lossChange[k] = preLoss - postLoss\n",
    "            if not allSet:\n",
    "                k += 1\n",
    "                if k == 14:\n",
    "                    allSet = True\n",
    "            if allSet:\n",
    "                k = np.argmax(lossChange)\n",
    "                        \n",
    "    def randomCoordinateDescent(self, X, y, testData, testLabel, warmStart, batch):\n",
    "        '''\n",
    "        X: training data np.array(num_Sample, num_feature)\n",
    "        y: training label np.array(num_Sample)\n",
    "        '''\n",
    "        if not warmStart:\n",
    "            self.coef_ = np.zeros((3,14))\n",
    "        numIter = 0\n",
    "        while numIter <= self.numIter:\n",
    "            k = random.randint(0, self.numFeature-1)\n",
    "            j = random.randint(0, self.numClass-1)\n",
    "            # Update self.coef_[j][k] using gradient descent\n",
    "            self.coef_[j][k] -= self.stepSize * self.calculateDerivative(j, k, self.coef_, X, y)\n",
    "            numIter += 1\n",
    "            if numIter % batch == 0:\n",
    "                self.lossPath.append(self.calculateLoss(self.coef_, X, y))\n",
    "                self.errorPath.append(self.test(self.coef_, testData, testLabel))\n",
    "            if numIter % 1000 == 0:\n",
    "                print numIter, \n",
    "                \n",
    "    def test(self, coeff, testData, testLabel):\n",
    "        error = 0\n",
    "        for i in range(0,len(testData)):\n",
    "            predictLabel = np.argmax(np.dot(coeff,testData[i]))+1\n",
    "            if predictLabel != int(testLabel[i]):\n",
    "                error += 1\n",
    "        return error*1.0/len(testData)"
   ]
  },
  {
   "cell_type": "code",
   "execution_count": null,
   "metadata": {
    "collapsed": false
   },
   "outputs": [
    {
     "name": "stdout",
     "output_type": "stream",
     "text": [
      "1000 2000 3000 4000 5000 6000 7000 8000 9000 10000 11000 12000 13000 14000 15000 16000 17000 18000 19000 20000 21000 22000 23000 24000 25000 26000 27000 28000 29000 30000 31000 32000 33000 34000 35000 36000 37000 38000 39000 40000 41000 42000 43000 44000 45000 46000 47000 48000 49000 50000 51000 52000 53000 54000 55000 56000 57000 58000 59000 60000 61000 62000 63000 64000 65000 66000 67000 68000 69000 70000 71000 72000 73000 74000 75000 76000 77000 78000 79000 80000 81000 82000 83000 84000 85000 86000 87000 88000 89000 90000 91000 92000 93000 94000 95000 96000 97000 98000 99000 100000 101000 102000 103000 104000 105000 106000 107000 108000 109000 110000 111000 112000 113000 114000 115000 116000 117000 118000 119000 120000 121000 122000 123000 124000 125000 126000 127000 128000 129000 130000 131000 132000 133000 134000 135000 136000 137000 138000 139000 140000 141000 142000 143000 144000 145000 146000 147000 148000 149000 150000 151000 152000 153000 154000 155000 156000 157000 158000 159000 160000 161000 162000 163000 164000 165000 166000 167000 168000 169000 170000 171000 172000 173000 174000 175000 176000 177000 178000 179000 180000 181000 182000 183000 184000 185000 186000 187000 188000 189000 190000 191000 192000 193000 194000 195000 196000 197000 198000 199000 200000 201000 202000 203000 204000 205000 206000 207000 208000 209000 210000 211000 212000 213000 214000 215000 216000 217000 218000 219000 220000 221000 222000 223000 224000 225000 226000 227000 228000 229000 230000 231000 232000 233000 234000 235000 236000 237000 238000 239000 240000 241000 242000 243000"
     ]
    }
   ],
   "source": [
    "# In-order-feature\n",
    "coordinateDescent = CoordinateDescent()\n",
    "coordinateDescent.fit(trainingData, trainingLabel, testData, testLabel, batch = 150)"
   ]
  },
  {
   "cell_type": "code",
   "execution_count": null,
   "metadata": {
    "collapsed": false
   },
   "outputs": [],
   "source": [
    "# Random-select-feature\n",
    "coordinateDescentRandom = CoordinateDescent()\n",
    "coordinateDescentRandom.fit(trainingData, trainingLabel, testData, testLabel, randomize = True, batch = 150)"
   ]
  },
  {
   "cell_type": "code",
   "execution_count": null,
   "metadata": {
    "collapsed": false
   },
   "outputs": [],
   "source": [
    "# One-by-one feature\n",
    "coordinateDescentNaive = CoordinateDescent()\n",
    "coordinateDescentNaive.fit(trainingData, trainingLabel, testData, testLabel, naive = True, batch = 150)"
   ]
  },
  {
   "cell_type": "code",
   "execution_count": 185,
   "metadata": {
    "collapsed": false
   },
   "outputs": [
    {
     "data": {
      "image/png": "[encoded data removed]",
      "text/plain": [
       "<matplotlib.figure.Figure at 0x10a04fd90>"
      ]
     },
     "metadata": {},
     "output_type": "display_data"
    }
   ],
   "source": [
    "errorInOrder = coordinateDescent.errorPath\n",
    "errorRan = coordinateDescentRandom.errorPath\n",
    "errorNaive = coordinateDescentNaive.errorPath\n",
    "plotUpdate(150, errorInOrder, errorRan, errorNaive, title = '', ylabel = 'error rate')\n",
    "plt.savefig('error_step5e-5_2.jpeg')"
   ]
  },
  {
   "cell_type": "code",
   "execution_count": 186,
   "metadata": {
    "collapsed": false
   },
   "outputs": [
    {
     "data": {
      "image/png": "[encoded data removed]",
      "text/plain": [
       "<matplotlib.figure.Figure at 0x10a998b50>"
      ]
     },
     "metadata": {},
     "output_type": "display_data"
    }
   ],
   "source": [
    "lossInOrder = coordinateDescent.lossPath\n",
    "lossPathNaive = coordinateDescentNaive.lossPath\n",
    "lossPathRan = coordinateDescentRandom.lossPath\n",
    "plotUpdate(150, lossInOrder, lossPathRan, lossPathNaive,title = '', ylabel = 'L(w)')\n",
    "plt.savefig('Lw_step5e-5_2.jpeg')"
   ]
  },
  {
   "cell_type": "code",
   "execution_count": null,
   "metadata": {
    "collapsed": true
   },
   "outputs": [],
   "source": []
  }
 ],
 "metadata": {
  "kernelspec": {
   "display_name": "Python 2",
   "language": "python",
   "name": "python2"
  },
  "language_info": {
   "codemirror_mode": {
    "name": "ipython",
    "version": 2
   },
   "file_extension": ".py",
   "mimetype": "text/x-python",
   "name": "python",
   "nbconvert_exporter": "python",
   "pygments_lexer": "ipython2",
   "version": "2.7.10"
  }
 },
 "nbformat": 4,
 "nbformat_minor": 0
}
