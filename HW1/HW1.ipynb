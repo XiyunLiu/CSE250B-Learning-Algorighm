{
 "cells": [
  {
   "cell_type": "code",
   "execution_count": 28,
   "metadata": {
    "collapsed": true
   },
   "outputs": [],
   "source": [
    "import struct\n",
    "import numpy as np\n",
    "import math\n",
    "import matplotlib.pyplot as plt\n",
    "import random\n",
    "import os, struct\n",
    "import sys\n",
    "import time\n",
    "from sklearn.neighbors import NearestNeighbors\n",
    "from collections import deque\n",
    "from array import array as pyarray\n",
    "from numpy import append, array, int8, uint8, zeros"
   ]
  },
  {
   "cell_type": "code",
   "execution_count": 3,
   "metadata": {
    "collapsed": true
   },
   "outputs": [],
   "source": [
    "trainingImagePath='dataset/train-images.idx3-ubyte'\n",
    "trainingLablePath='dataset/train-labels.idx1-ubyte'\n",
    "testImagePath='dataset/t10k-images.idx3-ubyte'\n",
    "testLablePath='dataset/t10k-labels.idx1-ubyte'"
   ]
  },
  {
   "cell_type": "code",
   "execution_count": 38,
   "metadata": {
    "collapsed": false
   },
   "outputs": [],
   "source": [
    "class PrototypeSelectionForNearestNeighbor():\n",
    "    def __init__(self):\n",
    "        self.trainingImages = None\n",
    "        self.trainingLabels = None\n",
    "        self.testImages = None\n",
    "        self.testLabels = None\n",
    "        self.randomImages = []\n",
    "        self.randomLabels = []\n",
    "        \n",
    "    def load_mnist(self, dataset=\"training\", digits=np.arange(10), path=\"dataset/\"):\n",
    "        \"\"\"\n",
    "        Loads MNIST files into 3D numpy arrays\n",
    "\n",
    "        Adapted from: http://abel.ee.ucla.edu/cvxopt/_downloads/mnist.py\n",
    "        \"\"\"\n",
    "\n",
    "        if dataset == \"training\":\n",
    "            fname_img = os.path.join(path, 'train-images-idx3-ubyte')\n",
    "            fname_lbl = os.path.join(path, 'train-labels-idx1-ubyte')\n",
    "        elif dataset == \"testing\":\n",
    "            fname_img = os.path.join(path, 't10k-images-idx3-ubyte')\n",
    "            fname_lbl = os.path.join(path, 't10k-labels-idx1-ubyte')\n",
    "        else:\n",
    "            raise ValueError(\"dataset must be 'testing' or 'training'\")\n",
    "\n",
    "        flbl = open(fname_lbl, 'rb')\n",
    "        magic_nr, size = struct.unpack(\">II\", flbl.read(8))\n",
    "        lbl = pyarray(\"b\", flbl.read())\n",
    "        flbl.close()\n",
    "\n",
    "        fimg = open(fname_img, 'rb')\n",
    "        magic_nr, size, rows, cols = struct.unpack(\">IIII\", fimg.read(16))\n",
    "        img = pyarray(\"B\", fimg.read())\n",
    "        fimg.close()\n",
    "\n",
    "        ind = [ k for k in range(size) if lbl[k] in digits ]\n",
    "        N = len(ind)\n",
    "\n",
    "        images = zeros((N, rows, cols), dtype=int)\n",
    "        labels = zeros((N, 1), dtype=int)\n",
    "        for i in range(len(ind)):\n",
    "            images[i] = array(img[ ind[i]*rows*cols : (ind[i]+1)*rows*cols]).reshape((rows, cols))\n",
    "            labels[i] = lbl[ind[i]]\n",
    "        images = map(lambda x: np.concatenate(x),list(images))\n",
    "        labels = map(lambda x:x[0],list(labels))\n",
    "        return images, labels\n",
    "    \n",
    "    def showImage(self, imageArray):\n",
    "        fig = plt.figure()\n",
    "        plotwindow = fig.add_subplot(111)\n",
    "        plt.imshow(imageArray, cmap='gray')\n",
    "        plt.show()\n",
    "    \n",
    "    def loadDataset(self):\n",
    "        self.trainingImages, self.trainingLabels = self.load_mnist(dataset = \"training\")\n",
    "        self.testImages, self.testLabels = self.load_mnist(dataset = \"testing\")\n",
    "    \n",
    "    def findRandomSubset(self, numSubset, trainingImages, trainingLabels):\n",
    "        randomImages, randomLabels = [],[]\n",
    "        for i in range(numSubset):\n",
    "            x = random.randint(0,len(trainingImages)-1)\n",
    "            randomImages.append(trainingImages[x])\n",
    "            randomLabels.append(trainingLabels[x])\n",
    "        return randomImages, randomLabels\n",
    "\n",
    "    def removeOutlier(self, trainingImages, trainingLabels):\n",
    "        nbrs = NearestNeighbors(n_neighbors=2, algorithm='auto').fit(trainingImages)\n",
    "        indices = nbrs.kneighbors(trainingImages, return_distance = False)\n",
    "        notMatch = 0\n",
    "        for indexPair in list(indices):\n",
    "            rawTrainingLabels = trainingLabels[:]\n",
    "            if rawTrainingLabels[indexPair[0]] != rawTrainingLabels[indexPair[1]]:\n",
    "                notMatch += 1\n",
    "                print notMatch,\n",
    "        print 'Outliers:', notMatch\n",
    "        needPopIndexPair = filter(lambda indexPair: trainingLabels[indexPair[0]] != trainingLabels[indexPair[1]],list(indices))\n",
    "        needPopIndex = map(lambda pair: pair[0],needPopIndexPair)\n",
    "        needPopIndex.sort(reverse = True)\n",
    "        for index in needPopIndex:\n",
    "            trainingImages.pop(index)\n",
    "            trainingLabels.pop(index)\n",
    "        print len(trainingImages),len(trainingLabels)\n",
    "        return trainingImages, trainingLabels\n",
    "    \n",
    "    def createSubset(self, numSubset, trainingImages, trainingLabels):\n",
    "        i = random.randint(0,len(trainingImages)-1)\n",
    "        subsetImages = [trainingImages[i]]\n",
    "        subsetLabels = [trainingLabels[i]]\n",
    "\n",
    "        for numberIter in range(3*len(trainingImages)):\n",
    "            i = random.randint(0,len(trainingImages)-1)\n",
    "            nearestIdx = findNearestNeighbor(trainingImages[i], subsetImages)\n",
    "            # if nearest prototype from subset has a different label than n th training img.\n",
    "            # Add it to subset\n",
    "            if trainingLabels[i] != subsetLabels[nearestIdx]:\n",
    "                subsetImages.append(trainingImages[i]) #Add it to subset\n",
    "                subsetLabels.append(trainingLabels[i])\n",
    "                trainingImages.pop(i)\n",
    "                trainingLabels.pop(i)\n",
    "                numSubset -= 1\n",
    "                if numSubset%500 == 0:\n",
    "                    print \"Need select \",numSubset,\" subset element\"\n",
    "            if numSubset == 0:\n",
    "                break\n",
    "        if numSubset != 0:\n",
    "            for i in range(numSubset-1):\n",
    "                x = random.randint(0,len(trainingImages)-1)\n",
    "                subsetImages.append(trainingImages[x])\n",
    "                subsetLabels.append(trainingLabels[x])\n",
    "\n",
    "        return subsetImages, subsetLabels\n",
    "\n",
    "    def findNearestNeighbor(self, testImage, trainingImages):\n",
    "        nearestIdx = -1\n",
    "        nearestDistance = sys.maxint\n",
    "        for j in range(len(trainingImages)):\n",
    "            distance = np.linalg.norm(testImage - trainingImages[j])\n",
    "            if distance < nearestDistance:\n",
    "                nearestDistance = distance\n",
    "                nearestIdx = j\n",
    "        return nearestIdx\n",
    "    \n",
    "    def testNearestNeighbor(self, trainingImages, trainingLabels, testImages, testLabels):\n",
    "        nbrs = NearestNeighbors(n_neighbors=1, algorithm='auto').fit(trainingImages)\n",
    "        indices = nbrs.kneighbors(testImages,return_distance=False)\n",
    "        correctness = 0\n",
    "        for i in range(0,len(testLabels)):\n",
    "            if testLabels[i] == trainingLabels[indices[i][0]]:\n",
    "                correctness += 1\n",
    "        return correctness*1.0/len(testLabels)"
   ]
  },
  {
   "cell_type": "code",
   "execution_count": 36,
   "metadata": {
    "collapsed": false
   },
   "outputs": [
    {
     "data": {
      "text/plain": [
       "0.8866"
      ]
     },
     "execution_count": 36,
     "metadata": {},
     "output_type": "execute_result"
    }
   ],
   "source": [
    "prototypeSelection = PrototypeSelectionForNearestNeighbor()\n",
    "trainingImages, trainingLabels = prototypeSelection.load_mnist(dataset = 'training')\n",
    "testImages, testLabels = prototypeSelection.load_mnist(dataset = 'testing')\n",
    "randomImages, randomLabels = prototypeSelection.findRandomSubset(1000, trainingImages, trainingLabels)\n",
    "prototypeSelection.testNearestNeighbor(randomImages, randomLabels, testImages, testLabels)"
   ]
  },
  {
   "cell_type": "code",
   "execution_count": null,
   "metadata": {
    "collapsed": false
   },
   "outputs": [],
   "source": [
    "filteredTrainingImages, filteredTrainingLabels = prototypeSelection.removeOutlier(trainingImages, trainingLabels)"
   ]
  },
  {
   "cell_type": "code",
   "execution_count": 12,
   "metadata": {
    "collapsed": false
   },
   "outputs": [],
   "source": [
    "from collections import deque\n",
    "def removeOutlier(trainingImages, trainingLabels):\n",
    "    qTrainingImages = deque(trainingImages)\n",
    "    qTrainingLabels = deque(trainingLabels)\n",
    "    notMatch = 0\n",
    "\n",
    "    for loop in range(len(trainingImages)):\n",
    "        dataImage = qTrainingImages.popleft()\n",
    "        dataLabel = qTrainingLabels.popleft()\n",
    "        nearestIdx = findNearestNeighbor(dataImage, qTrainingImages)\n",
    "        if qTrainingLabels[nearestIdx] == dataLabel:\n",
    "            qTrainingImages.append(dataImage)\n",
    "            qTrainingLabels.append(dataLabel)\n",
    "        else:\n",
    "            notMatch += 1\n",
    "        if loop % 50 == 0:\n",
    "            print loop,notMatch,\"\\\\\",\n",
    "    return qTrainingImages, qTrainingLabels                "
   ]
  },
  {
   "cell_type": "code",
   "execution_count": 10,
   "metadata": {
    "collapsed": false
   },
   "outputs": [],
   "source": [
    "nbrs = NearestNeighbors(n_neighbors=2, algorithm='auto').fit(trainingImages)\n",
    "distances, indices = nbrs.kneighbors(trainingImages)\n",
    "\n",
    "notMatch = 0\n",
    "for indexPair in list(indices):\n",
    "    rawTrainingLabels = trainingLabels[:]\n",
    "    if rawTrainingLabels[indexPair[0]] != rawTrainingLabels[indexPair[1]]:\n",
    "        notMatch += 1\n",
    "print 'notmatch',notMatch"
   ]
  },
  {
   "cell_type": "code",
   "execution_count": 83,
   "metadata": {
    "collapsed": false
   },
   "outputs": [
    {
     "name": "stdout",
     "output_type": "stream",
     "text": [
      "58423 58423\n"
     ]
    }
   ],
   "source": [
    "needPopIndexPair = filter(lambda indexPair: trainingLabels[indexPair[0]] != trainingLabels[indexPair[1]],list(indices))\n",
    "needPopIndex = map(lambda pair: pair[0],needPopIndexPair)\n",
    "needPopIndex.sort(reverse = True)\n",
    "for index in needPopIndex:\n",
    "    trainingImages.pop(index)\n",
    "    trainingLabels.pop(index)\n",
    "print len(trainingImages),len(trainingLabels)"
   ]
  },
  {
   "cell_type": "code",
   "execution_count": 84,
   "metadata": {
    "collapsed": true
   },
   "outputs": [],
   "source": [
    "def createSubset(numSubset,trainingImages, trainingLabels):\n",
    "    i = random.randint(0,len(trainingImages)-1)\n",
    "    subsetImages = [trainingImages[i]]\n",
    "    subsetLabels = [trainingLabels[i]]\n",
    "\n",
    "    for numberIter in range(3*len(trainingImages)):\n",
    "        i = random.randint(0,len(trainingImages)-1)\n",
    "        nearestIdx = findNearestNeighbor(trainingImages[i], subsetImages)\n",
    "        # if nearest prototype from subset has a different label than n th training img.\n",
    "        # Add it to subset\n",
    "        if trainingLabels[i] != subsetLabels[nearestIdx]:\n",
    "            subsetImages.append(trainingImages[i]) #Add it to subset\n",
    "            subsetLabels.append(trainingLabels[i])\n",
    "            trainingImages.pop(i)\n",
    "            trainingLabels.pop(i)\n",
    "            numSubset -= 1\n",
    "            if numSubset%500 == 0:\n",
    "                print \"Need select \",numSubset,\" subset element\"\n",
    "        if numSubset == 0:\n",
    "            break\n",
    "    if numSubset != 0:\n",
    "        for i in range(numSubset-1):\n",
    "            x = random.randint(0,len(trainingImages)-1)\n",
    "            subsetImages.append(trainingImages[x])\n",
    "            subsetLabels.append(trainingLabels[x])\n",
    "\n",
    "    return subsetImages, subsetLabels"
   ]
  },
  {
   "cell_type": "code",
   "execution_count": 65,
   "metadata": {
    "collapsed": false
   },
   "outputs": [
    {
     "name": "stdout",
     "output_type": "stream",
     "text": [
      "Need select  500  subset element\n",
      "Need select  0  subset element\n"
     ]
    }
   ],
   "source": [
    "subsetImages,subsetLabels = createSubset(1000, trainingImages, trainingLabels)"
   ]
  },
  {
   "cell_type": "code",
   "execution_count": 66,
   "metadata": {
    "collapsed": false
   },
   "outputs": [
    {
     "data": {
      "text/plain": [
       "0.9031"
      ]
     },
     "execution_count": 66,
     "metadata": {},
     "output_type": "execute_result"
    }
   ],
   "source": [
    "testNN(testImages,testLabels,subsetImages,subsetLabels)"
   ]
  },
  {
   "cell_type": "code",
   "execution_count": 85,
   "metadata": {
    "collapsed": false
   },
   "outputs": [
    {
     "name": "stdout",
     "output_type": "stream",
     "text": [
      "Need select  4500  subset element\n",
      "Need select  4000  subset element\n",
      "Need select  3500  subset element\n",
      "Need select  3000  subset element\n",
      "Need select  2500  subset element\n",
      "Need select  2000  subset element\n",
      "Need select  1500  subset element\n",
      "Need select  1000  subset element\n"
     ]
    }
   ],
   "source": [
    "subsetImages,subsetLabels = createSubset(5000, trainingImages[:], trainingLabels[:])"
   ]
  },
  {
   "cell_type": "code",
   "execution_count": 89,
   "metadata": {
    "collapsed": false
   },
   "outputs": [
    {
     "name": "stdout",
     "output_type": "stream",
     "text": [
      "5000\n"
     ]
    }
   ],
   "source": [
    "print len(subsetImages)"
   ]
  },
  {
   "cell_type": "code",
   "execution_count": 92,
   "metadata": {
    "collapsed": false
   },
   "outputs": [
    {
     "name": "stdout",
     "output_type": "stream",
     "text": [
      "finished 1000 testcase 0.936\n",
      "finished 2000 testcase 0.9315\n",
      "finished 3000 testcase 0.929333333333\n",
      "finished 4000 testcase 0.9295\n",
      "finished 5000 testcase 0.9278\n",
      "finished 6000 testcase 0.9335\n",
      "finished 7000 testcase 0.937857142857\n",
      "finished 8000 testcase 0.942375\n",
      "finished 9000 testcase 0.945666666667\n"
     ]
    },
    {
     "data": {
      "text/plain": [
       "0.9464"
      ]
     },
     "execution_count": 92,
     "metadata": {},
     "output_type": "execute_result"
    }
   ],
   "source": [
    "testNN(testImages,testLabels,subsetImages,subsetLabels)"
   ]
  },
  {
   "cell_type": "code",
   "execution_count": 94,
   "metadata": {
    "collapsed": false
   },
   "outputs": [
    {
     "name": "stdout",
     "output_type": "stream",
     "text": [
      "Need select  9500  subset element\n",
      "Need select  9000  subset element\n",
      "Need select  8500  subset element\n",
      "Need select  8000  subset element\n",
      "Need select  7500  subset element\n",
      "Need select  7000  subset element\n",
      "Need select  6500  subset element\n",
      "Need select  6000  subset element\n"
     ]
    }
   ],
   "source": [
    "subsetImages,subsetLabels = createSubset(10000, trainingImages[:], trainingLabels[:])"
   ]
  },
  {
   "cell_type": "code",
   "execution_count": 102,
   "metadata": {
    "collapsed": false
   },
   "outputs": [
    {
     "ename": "IndexError",
     "evalue": "list index out of range",
     "output_type": "error",
     "traceback": [
      "\u001b[0;31m---------------------------------------------------------------------------\u001b[0m",
      "\u001b[0;31mIndexError\u001b[0m                                Traceback (most recent call last)",
      "\u001b[0;32m<ipython-input-102-6a801814fd15>\u001b[0m in \u001b[0;36m<module>\u001b[0;34m()\u001b[0m\n\u001b[0;32m----> 1\u001b[0;31m \u001b[0mtestNN\u001b[0m\u001b[0;34m(\u001b[0m\u001b[0mtestImages\u001b[0m\u001b[0;34m,\u001b[0m\u001b[0mtestLabels\u001b[0m\u001b[0;34m,\u001b[0m\u001b[0msubsetImages\u001b[0m\u001b[0;34m,\u001b[0m\u001b[0msubsetLabels\u001b[0m\u001b[0;34m)\u001b[0m\u001b[0;34m\u001b[0m\u001b[0m\n\u001b[0m",
      "\u001b[0;32m<ipython-input-98-e99f97bc4405>\u001b[0m in \u001b[0;36mtestNN\u001b[0;34m(testImages, testLabels, trainingImages, trainingLabels)\u001b[0m\n\u001b[1;32m      9\u001b[0m \u001b[0;31m#         nearestIdx = findNearestNeighbor(testImages[i],trainingImages)\u001b[0m\u001b[0;34m\u001b[0m\u001b[0;34m\u001b[0m\u001b[0m\n\u001b[1;32m     10\u001b[0m     \u001b[0mnearestIdx\u001b[0m \u001b[0;34m=\u001b[0m \u001b[0mnbrs\u001b[0m\u001b[0;34m.\u001b[0m\u001b[0mkneighbors\u001b[0m\u001b[0;34m(\u001b[0m\u001b[0mtestImages\u001b[0m\u001b[0;34m)\u001b[0m\u001b[0;34m\u001b[0m\u001b[0m\n\u001b[0;32m---> 11\u001b[0;31m     \u001b[0mnotMatchIndexPair\u001b[0m \u001b[0;34m=\u001b[0m \u001b[0mfilter\u001b[0m\u001b[0;34m(\u001b[0m\u001b[0;32mlambda\u001b[0m \u001b[0mindexPair\u001b[0m\u001b[0;34m:\u001b[0m \u001b[0mtestLabels\u001b[0m\u001b[0;34m[\u001b[0m\u001b[0mindexPair\u001b[0m\u001b[0;34m[\u001b[0m\u001b[0;36m0\u001b[0m\u001b[0;34m]\u001b[0m\u001b[0;34m]\u001b[0m \u001b[0;34m!=\u001b[0m \u001b[0mtrainingLabels\u001b[0m\u001b[0;34m[\u001b[0m\u001b[0mindexPair\u001b[0m\u001b[0;34m[\u001b[0m\u001b[0;36m1\u001b[0m\u001b[0;34m]\u001b[0m\u001b[0;34m]\u001b[0m\u001b[0;34m,\u001b[0m\u001b[0mlist\u001b[0m\u001b[0;34m(\u001b[0m\u001b[0mindices\u001b[0m\u001b[0;34m)\u001b[0m\u001b[0;34m)\u001b[0m\u001b[0;34m\u001b[0m\u001b[0m\n\u001b[0m\u001b[1;32m     12\u001b[0m     \u001b[0mnumNotMatch\u001b[0m \u001b[0;34m=\u001b[0m \u001b[0mlen\u001b[0m\u001b[0;34m(\u001b[0m\u001b[0mnotMatchIndexPair\u001b[0m\u001b[0;34m)\u001b[0m\u001b[0;34m\u001b[0m\u001b[0m\n\u001b[1;32m     13\u001b[0m \u001b[0;31m#         if testLabels[i] == trainingLabels[nearestIdx]:\u001b[0m\u001b[0;34m\u001b[0m\u001b[0;34m\u001b[0m\u001b[0m\n",
      "\u001b[0;32m<ipython-input-98-e99f97bc4405>\u001b[0m in \u001b[0;36m<lambda>\u001b[0;34m(indexPair)\u001b[0m\n\u001b[1;32m      9\u001b[0m \u001b[0;31m#         nearestIdx = findNearestNeighbor(testImages[i],trainingImages)\u001b[0m\u001b[0;34m\u001b[0m\u001b[0;34m\u001b[0m\u001b[0m\n\u001b[1;32m     10\u001b[0m     \u001b[0mnearestIdx\u001b[0m \u001b[0;34m=\u001b[0m \u001b[0mnbrs\u001b[0m\u001b[0;34m.\u001b[0m\u001b[0mkneighbors\u001b[0m\u001b[0;34m(\u001b[0m\u001b[0mtestImages\u001b[0m\u001b[0;34m)\u001b[0m\u001b[0;34m\u001b[0m\u001b[0m\n\u001b[0;32m---> 11\u001b[0;31m     \u001b[0mnotMatchIndexPair\u001b[0m \u001b[0;34m=\u001b[0m \u001b[0mfilter\u001b[0m\u001b[0;34m(\u001b[0m\u001b[0;32mlambda\u001b[0m \u001b[0mindexPair\u001b[0m\u001b[0;34m:\u001b[0m \u001b[0mtestLabels\u001b[0m\u001b[0;34m[\u001b[0m\u001b[0mindexPair\u001b[0m\u001b[0;34m[\u001b[0m\u001b[0;36m0\u001b[0m\u001b[0;34m]\u001b[0m\u001b[0;34m]\u001b[0m \u001b[0;34m!=\u001b[0m \u001b[0mtrainingLabels\u001b[0m\u001b[0;34m[\u001b[0m\u001b[0mindexPair\u001b[0m\u001b[0;34m[\u001b[0m\u001b[0;36m1\u001b[0m\u001b[0;34m]\u001b[0m\u001b[0;34m]\u001b[0m\u001b[0;34m,\u001b[0m\u001b[0mlist\u001b[0m\u001b[0;34m(\u001b[0m\u001b[0mindices\u001b[0m\u001b[0;34m)\u001b[0m\u001b[0;34m)\u001b[0m\u001b[0;34m\u001b[0m\u001b[0m\n\u001b[0m\u001b[1;32m     12\u001b[0m     \u001b[0mnumNotMatch\u001b[0m \u001b[0;34m=\u001b[0m \u001b[0mlen\u001b[0m\u001b[0;34m(\u001b[0m\u001b[0mnotMatchIndexPair\u001b[0m\u001b[0;34m)\u001b[0m\u001b[0;34m\u001b[0m\u001b[0m\n\u001b[1;32m     13\u001b[0m \u001b[0;31m#         if testLabels[i] == trainingLabels[nearestIdx]:\u001b[0m\u001b[0;34m\u001b[0m\u001b[0;34m\u001b[0m\u001b[0m\n",
      "\u001b[0;31mIndexError\u001b[0m: list index out of range"
     ]
    }
   ],
   "source": [
    "testNN(testImages,testLabels,subsetImages,subsetLabels)"
   ]
  },
  {
   "cell_type": "code",
   "execution_count": null,
   "metadata": {
    "collapsed": false
   },
   "outputs": [],
   "source": [
    "nbrs = NearestNeighbors(n_neighbors=2, algorithm='auto').fit(subsetImages)\n",
    "nearestIdx = nbrs.kneighbors(testImages)"
   ]
  },
  {
   "cell_type": "code",
   "execution_count": 106,
   "metadata": {
    "collapsed": false
   },
   "outputs": [
    {
     "name": "stdout",
     "output_type": "stream",
     "text": [
      "[[  793.98677571]\n",
      " [ 1330.79637811]\n",
      " [  416.66533333]\n",
      " ..., \n",
      " [ 1224.39331916]\n",
      " [ 1406.74340233]\n",
      " [ 1487.49521008]]\n"
     ]
    }
   ],
   "source": [
    "print list(nearestIdx)[0]"
   ]
  },
  {
   "cell_type": "code",
   "execution_count": 105,
   "metadata": {
    "collapsed": false
   },
   "outputs": [
    {
     "ename": "TypeError",
     "evalue": "only integer arrays with one element can be converted to an index",
     "output_type": "error",
     "traceback": [
      "\u001b[0;31m---------------------------------------------------------------------------\u001b[0m",
      "\u001b[0;31mTypeError\u001b[0m                                 Traceback (most recent call last)",
      "\u001b[0;32m<ipython-input-105-8e4ae10facd0>\u001b[0m in \u001b[0;36m<module>\u001b[0;34m()\u001b[0m\n\u001b[1;32m      1\u001b[0m \u001b[0mmatch\u001b[0m \u001b[0;34m=\u001b[0m \u001b[0;36m0\u001b[0m\u001b[0;34m\u001b[0m\u001b[0m\n\u001b[1;32m      2\u001b[0m \u001b[0;32mfor\u001b[0m \u001b[0mi\u001b[0m \u001b[0;32min\u001b[0m \u001b[0mrange\u001b[0m\u001b[0;34m(\u001b[0m\u001b[0mlen\u001b[0m\u001b[0;34m(\u001b[0m\u001b[0mlist\u001b[0m\u001b[0;34m(\u001b[0m\u001b[0mnearestIdx\u001b[0m\u001b[0;34m)\u001b[0m\u001b[0;34m)\u001b[0m\u001b[0;34m)\u001b[0m\u001b[0;34m:\u001b[0m\u001b[0;34m\u001b[0m\u001b[0m\n\u001b[0;32m----> 3\u001b[0;31m    \u001b[0;32mif\u001b[0m \u001b[0mtestLabels\u001b[0m\u001b[0;34m[\u001b[0m\u001b[0mi\u001b[0m\u001b[0;34m]\u001b[0m \u001b[0;34m==\u001b[0m \u001b[0msubsetLabels\u001b[0m\u001b[0;34m[\u001b[0m\u001b[0mnearestIdx\u001b[0m\u001b[0;34m[\u001b[0m\u001b[0mi\u001b[0m\u001b[0;34m]\u001b[0m\u001b[0;34m[\u001b[0m\u001b[0;36m0\u001b[0m\u001b[0;34m]\u001b[0m\u001b[0;34m]\u001b[0m\u001b[0;34m:\u001b[0m\u001b[0;34m\u001b[0m\u001b[0m\n\u001b[0m\u001b[1;32m      4\u001b[0m     \u001b[0mmatch\u001b[0m \u001b[0;34m+=\u001b[0m \u001b[0;36m1\u001b[0m\u001b[0;34m\u001b[0m\u001b[0m\n\u001b[1;32m      5\u001b[0m \u001b[0;32mprint\u001b[0m \u001b[0mmatch\u001b[0m\u001b[0;34m*\u001b[0m\u001b[0;36m1.0\u001b[0m\u001b[0;34m/\u001b[0m\u001b[0;36m10000\u001b[0m\u001b[0;34m\u001b[0m\u001b[0m\n",
      "\u001b[0;31mTypeError\u001b[0m: only integer arrays with one element can be converted to an index"
     ]
    }
   ],
   "source": [
    "match = 0\n",
    "for i in range(len(list(nearestIdx))):\n",
    "   if testLabels[i] == subsetLabels[nearestIdx[i][0]]:\n",
    "    match += 1\n",
    "print match*1.0/10000"
   ]
  },
  {
   "cell_type": "code",
   "execution_count": 104,
   "metadata": {
    "collapsed": false
   },
   "outputs": [
    {
     "ename": "TypeError",
     "evalue": "only integer arrays with one element can be converted to an index",
     "output_type": "error",
     "traceback": [
      "\u001b[0;31m---------------------------------------------------------------------------\u001b[0m",
      "\u001b[0;31mTypeError\u001b[0m                                 Traceback (most recent call last)",
      "\u001b[0;32m<ipython-input-104-c022df424ed4>\u001b[0m in \u001b[0;36m<module>\u001b[0;34m()\u001b[0m\n\u001b[0;32m----> 1\u001b[0;31m \u001b[0mnotMatchIndexPair\u001b[0m \u001b[0;34m=\u001b[0m \u001b[0mfilter\u001b[0m\u001b[0;34m(\u001b[0m\u001b[0;32mlambda\u001b[0m \u001b[0mindexPair\u001b[0m\u001b[0;34m:\u001b[0m \u001b[0mtestLabels\u001b[0m\u001b[0;34m[\u001b[0m\u001b[0mindexPair\u001b[0m\u001b[0;34m[\u001b[0m\u001b[0;36m0\u001b[0m\u001b[0;34m]\u001b[0m\u001b[0;34m]\u001b[0m \u001b[0;34m!=\u001b[0m \u001b[0mtrainingLabels\u001b[0m\u001b[0;34m[\u001b[0m\u001b[0mindexPair\u001b[0m\u001b[0;34m[\u001b[0m\u001b[0;36m1\u001b[0m\u001b[0;34m]\u001b[0m\u001b[0;34m]\u001b[0m\u001b[0;34m,\u001b[0m\u001b[0mlist\u001b[0m\u001b[0;34m(\u001b[0m\u001b[0mnearestIdx\u001b[0m\u001b[0;34m)\u001b[0m\u001b[0;34m)\u001b[0m\u001b[0;34m\u001b[0m\u001b[0m\n\u001b[0m\u001b[1;32m      2\u001b[0m \u001b[0mnumNotMatch\u001b[0m \u001b[0;34m=\u001b[0m \u001b[0mlen\u001b[0m\u001b[0;34m(\u001b[0m\u001b[0mnotMatchIndexPair\u001b[0m\u001b[0;34m)\u001b[0m\u001b[0;34m\u001b[0m\u001b[0m\n\u001b[1;32m      3\u001b[0m \u001b[0;32mprint\u001b[0m \u001b[0mnumNotMatch\u001b[0m\u001b[0;34m*\u001b[0m\u001b[0;36m1.0\u001b[0m\u001b[0;34m/\u001b[0m\u001b[0;36m10000\u001b[0m\u001b[0;34m\u001b[0m\u001b[0m\n",
      "\u001b[0;32m<ipython-input-104-c022df424ed4>\u001b[0m in \u001b[0;36m<lambda>\u001b[0;34m(indexPair)\u001b[0m\n\u001b[0;32m----> 1\u001b[0;31m \u001b[0mnotMatchIndexPair\u001b[0m \u001b[0;34m=\u001b[0m \u001b[0mfilter\u001b[0m\u001b[0;34m(\u001b[0m\u001b[0;32mlambda\u001b[0m \u001b[0mindexPair\u001b[0m\u001b[0;34m:\u001b[0m \u001b[0mtestLabels\u001b[0m\u001b[0;34m[\u001b[0m\u001b[0mindexPair\u001b[0m\u001b[0;34m[\u001b[0m\u001b[0;36m0\u001b[0m\u001b[0;34m]\u001b[0m\u001b[0;34m]\u001b[0m \u001b[0;34m!=\u001b[0m \u001b[0mtrainingLabels\u001b[0m\u001b[0;34m[\u001b[0m\u001b[0mindexPair\u001b[0m\u001b[0;34m[\u001b[0m\u001b[0;36m1\u001b[0m\u001b[0;34m]\u001b[0m\u001b[0;34m]\u001b[0m\u001b[0;34m,\u001b[0m\u001b[0mlist\u001b[0m\u001b[0;34m(\u001b[0m\u001b[0mnearestIdx\u001b[0m\u001b[0;34m)\u001b[0m\u001b[0;34m)\u001b[0m\u001b[0;34m\u001b[0m\u001b[0m\n\u001b[0m\u001b[1;32m      2\u001b[0m \u001b[0mnumNotMatch\u001b[0m \u001b[0;34m=\u001b[0m \u001b[0mlen\u001b[0m\u001b[0;34m(\u001b[0m\u001b[0mnotMatchIndexPair\u001b[0m\u001b[0;34m)\u001b[0m\u001b[0;34m\u001b[0m\u001b[0m\n\u001b[1;32m      3\u001b[0m \u001b[0;32mprint\u001b[0m \u001b[0mnumNotMatch\u001b[0m\u001b[0;34m*\u001b[0m\u001b[0;36m1.0\u001b[0m\u001b[0;34m/\u001b[0m\u001b[0;36m10000\u001b[0m\u001b[0;34m\u001b[0m\u001b[0m\n",
      "\u001b[0;31mTypeError\u001b[0m: only integer arrays with one element can be converted to an index"
     ]
    }
   ],
   "source": [
    "notMatchIndexPair = filter(lambda indexPair: testLabels[indexPair[0]] != trainingLabels[indexPair[1]],list(nearestIdx))\n",
    "numNotMatch = len(notMatchIndexPair)\n",
    "print numNotMatch*1.0/10000"
   ]
  },
  {
   "cell_type": "code",
   "execution_count": null,
   "metadata": {
    "collapsed": true
   },
   "outputs": [],
   "source": []
  }
 ],
 "metadata": {
  "kernelspec": {
   "display_name": "Python 2",
   "language": "python",
   "name": "python2"
  },
  "language_info": {
   "codemirror_mode": {
    "name": "ipython",
    "version": 2
   },
   "file_extension": ".py",
   "mimetype": "text/x-python",
   "name": "python",
   "nbconvert_exporter": "python",
   "pygments_lexer": "ipython2",
   "version": "2.7.10"
  }
 },
 "nbformat": 4,
 "nbformat_minor": 0
}
